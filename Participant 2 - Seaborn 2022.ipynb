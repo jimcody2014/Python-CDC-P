{
 "cells": [
  {
   "cell_type": "code",
   "execution_count": null,
   "id": "452af9b8",
   "metadata": {},
   "outputs": [],
   "source": [
    "import numpy as py\n",
    "import pandas as pd\n",
    "import matplotlib.pyplot as plt\n",
    "import seaborn as sns\n",
    "\n",
    "%matplotlib inline    \n",
    "# %matplotlib is a magic function in IPython.\n",
    "\n",
    "df = sns.load_dataset(\"diamonds\")\n",
    "diamonds = sns.load_dataset(\"diamonds\")\n",
    "tips = sns.load_dataset(\"tips\")\n",
    "penguins = sns.load_dataset(\"penguins\")\n",
    "flights = sns.load_dataset(\"flights\")\n",
    "\n",
    "df.shape"
   ]
  },
  {
   "cell_type": "code",
   "execution_count": null,
   "id": "45108ac5",
   "metadata": {},
   "outputs": [],
   "source": [
    "# sns.get_dataset_names()"
   ]
  },
  {
   "cell_type": "markdown",
   "id": "653d06e5",
   "metadata": {},
   "source": [
    "# Matplotlib to Pandas to Seaborn"
   ]
  },
  {
   "cell_type": "code",
   "execution_count": null,
   "id": "0222da35",
   "metadata": {},
   "outputs": [],
   "source": [
    "# NOTICE: One y value per X value\n",
    "\n",
    "x = ['Ideal','Premium','Very Good','Good','Fair',]\n",
    "y = [3457,4584,3981,3928,4358]"
   ]
  },
  {
   "cell_type": "code",
   "execution_count": null,
   "id": "6d53b99b",
   "metadata": {},
   "outputs": [],
   "source": [
    "type(x)"
   ]
  },
  {
   "cell_type": "code",
   "execution_count": null,
   "id": "3a26967e",
   "metadata": {},
   "outputs": [],
   "source": [
    "# Matplotlib\n",
    "plt.plot(x, y);"
   ]
  },
  {
   "cell_type": "code",
   "execution_count": null,
   "id": "954e9de1",
   "metadata": {},
   "outputs": [],
   "source": [
    "# This works but data is not aggregated\n",
    "plt.plot(df.cut, df.price)\n"
   ]
  },
  {
   "cell_type": "code",
   "execution_count": null,
   "id": "2a5ca249",
   "metadata": {},
   "outputs": [],
   "source": [
    "df2 = df.groupby('cut').mean().reset_index() # creating a smaller dataset\n",
    "df2"
   ]
  },
  {
   "cell_type": "code",
   "execution_count": null,
   "id": "f6e4fd82",
   "metadata": {},
   "outputs": [],
   "source": [
    "plt.plot(df2.cut, df2.price)"
   ]
  },
  {
   "cell_type": "markdown",
   "id": "528c9e7c",
   "metadata": {},
   "source": [
    "Below ...\n",
    "**pandas** ploting functions (e.g., .plot) uses matplotlib"
   ]
  },
  {
   "cell_type": "code",
   "execution_count": null,
   "id": "f8266078",
   "metadata": {},
   "outputs": [],
   "source": [
    "# This is a pandas plot of the raw data (df)\n",
    "#df.plot(x='cut', y = 'price')\n",
    "df2.plot(x='cut', y = 'price')"
   ]
  },
  {
   "cell_type": "code",
   "execution_count": null,
   "id": "542ce35b",
   "metadata": {},
   "outputs": [],
   "source": [
    "# This is a seaborn plot of df (not grouped) - automatic aggregation\n",
    "sns.lineplot(data=df, x=\"cut\", y=\"price\")"
   ]
  },
  {
   "cell_type": "code",
   "execution_count": null,
   "id": "be951b5c",
   "metadata": {},
   "outputs": [],
   "source": [
    "# Using seaborn's set_theme method\n",
    "# Seaborn is updating Matplotlib's rc parameters.  rc params are the default style settings\n",
    "# rc = runtime configuration.\n",
    "# https://matplotlib.org/stable/tutorials/introductory/customizing.html\n",
    "\n",
    "sns.set_theme()"
   ]
  },
  {
   "cell_type": "code",
   "execution_count": null,
   "id": "ea0e5eef",
   "metadata": {},
   "outputs": [],
   "source": [
    "# Matplotlib\n",
    "plt.plot(x, y);"
   ]
  },
  {
   "cell_type": "markdown",
   "id": "43738eb6",
   "metadata": {},
   "source": [
    "# Seaborn"
   ]
  },
  {
   "cell_type": "markdown",
   "id": "977fdeef",
   "metadata": {},
   "source": [
    "Seaborn is a library for making statistical graphics in Python. It builds on top of matplotlib and integrates closely with pandas data structures.\n",
    "\n",
    "Its plotting functions operate on dataframes and arrays containing whole datasets and internally perform the necessary semantic mapping and **statistical aggregation** to produce informative plots. \n",
    "\n",
    "The **declarative** API lets you focus on what the different elements of your plots mean, rather than on the details of how to draw them.\n",
    "\n"
   ]
  },
  {
   "cell_type": "markdown",
   "id": "ce498f67",
   "metadata": {},
   "source": [
    "## Figure & Axes Level Plotting Functions"
   ]
  },
  {
   "cell_type": "markdown",
   "id": "cc69502d",
   "metadata": {},
   "source": [
    " <img src=\"https://drive.google.com/uc?id=1Lcc0xVij3hfy2QVjUBPln5O8pXAnk8Ef\" width=600 />"
   ]
  },
  {
   "cell_type": "markdown",
   "id": "b35c6816",
   "metadata": {},
   "source": [
    "#### http://seaborn.pydata.org/tutorial.html"
   ]
  },
  {
   "cell_type": "markdown",
   "id": "4d73ca32",
   "metadata": {},
   "source": [
    "## What's the difference between figure and axes level options?"
   ]
  },
  {
   "cell_type": "markdown",
   "id": "5f15a9d3",
   "metadata": {},
   "source": [
    "Axes-level functions make self-contained plots\n",
    "The axes-level functions are written to act like drop-in replacements for matplotlib functions. While they add axis labels and legends automatically, they don’t modify anything beyond the axes that they are drawn into. That means they can be composed into arbitrarily-complex matplotlib figures with predictable results."
   ]
  },
  {
   "cell_type": "code",
   "execution_count": null,
   "id": "c521082d",
   "metadata": {},
   "outputs": [],
   "source": [
    "# Figure level\n",
    "sns.displot( data=df, x=\"price\", hue=\"cut\", multiple = \"stack\", kind = 'hist', bins = 20)"
   ]
  },
  {
   "cell_type": "code",
   "execution_count": null,
   "id": "d3c9fb64",
   "metadata": {},
   "outputs": [],
   "source": [
    "# Axes level\n",
    "sns.histplot(data=df, x='price', hue='cut', multiple = 'stack', bins = 20)"
   ]
  },
  {
   "cell_type": "markdown",
   "id": "eef5000a",
   "metadata": {},
   "source": [
    "## Using sns and matplotlib together"
   ]
  },
  {
   "cell_type": "code",
   "execution_count": null,
   "id": "eb970d3b",
   "metadata": {},
   "outputs": [],
   "source": [
    "plt.figure(figsize=(20, 15))\n",
    "plt.subplot(2,2,1)\n",
    "sns.boxplot(y = 'depth', x = 'cut', data = df)\n",
    "plt.subplot(2,2,2)\n",
    "sns.scatterplot(y = 'price', x = 'carat', data = df)\n",
    "plt.subplot(2,2,3)\n",
    "sns.boxplot(y = 'carat', x = 'cut', data = df)\n",
    "plt.subplot(2,2,4)\n",
    "sns.histplot(x = 'price', data = df)"
   ]
  },
  {
   "cell_type": "code",
   "execution_count": null,
   "id": "eeeac102",
   "metadata": {},
   "outputs": [],
   "source": [
    "# From Seaborn docuentation\n",
    "ax = sns.boxplot(x=\"day\", y=\"total_bill\", data=tips)\n",
    "ax = sns.swarmplot(x=\"day\", y=\"total_bill\", data=tips, color=\".25\")"
   ]
  },
  {
   "cell_type": "markdown",
   "id": "b6322d8f",
   "metadata": {},
   "source": [
    "## Figure level"
   ]
  },
  {
   "cell_type": "markdown",
   "id": "c9a05aac",
   "metadata": {},
   "source": [
    "- Figure-level functions interface with matplotlib through a seaborn object, usually a FacetGrid\n",
    "- Each module (relational, distributions, categorical) has a single figure-level function\n"
   ]
  },
  {
   "cell_type": "code",
   "execution_count": null,
   "id": "f95721c7",
   "metadata": {},
   "outputs": [],
   "source": [
    "# The default for distplot is a histogram\n",
    "\n",
    "sns.displot(data=df, x=\"price\")\n",
    "plt.savefig('save_as_a_png.png')\n",
    "\n",
    "# sns.displot(data=df, x=\"price\",height=8, aspect=15/8)  Use height and aspect to change the size of the figure."
   ]
  },
  {
   "cell_type": "code",
   "execution_count": null,
   "id": "b088f4fe",
   "metadata": {},
   "outputs": [],
   "source": [
    "sns.displot(data=df, x=\"price\", hue=\"cut\", multiple=\"stack\")"
   ]
  },
  {
   "cell_type": "markdown",
   "id": "d042cfcb",
   "metadata": {},
   "source": [
    "## Change the plot type with kind = ..."
   ]
  },
  {
   "cell_type": "code",
   "execution_count": null,
   "id": "3ea74657",
   "metadata": {},
   "outputs": [],
   "source": [
    "sns.displot(data=df, x=\"price\", hue=\"cut\", col=\"cut\", kind = 'hist')"
   ]
  },
  {
   "cell_type": "code",
   "execution_count": null,
   "id": "3f83e421",
   "metadata": {},
   "outputs": [],
   "source": [
    "sns.displot(data=df, x=\"price\", hue=\"cut\", col=\"cut\", kind = 'kde')\n",
    "\n",
    "# kernel density estimation"
   ]
  },
  {
   "cell_type": "code",
   "execution_count": null,
   "id": "cc490d8c",
   "metadata": {},
   "outputs": [],
   "source": [
    "sns.displot(data=df, x=\"price\", hue=\"cut\", col=\"cut\", kind = 'ecdf')\n",
    "\n",
    "# empirical cumulative distribution functions"
   ]
  },
  {
   "cell_type": "code",
   "execution_count": null,
   "id": "4e600109",
   "metadata": {},
   "outputs": [],
   "source": [
    "sns.displot(data=df, x=\"price\", hue=\"cut\", kind = 'kde', rug = True)"
   ]
  },
  {
   "cell_type": "code",
   "execution_count": null,
   "id": "b55a0104",
   "metadata": {},
   "outputs": [],
   "source": [
    "# This one might take a minute to run.\n",
    "\n",
    "sns.displot(data=df, x=\"carat\", y='price', kind ='kde')"
   ]
  },
  {
   "cell_type": "markdown",
   "id": "753db660",
   "metadata": {},
   "source": [
    "## Seaborn Exercise 1 - 10 minutes"
   ]
  },
  {
   "cell_type": "markdown",
   "id": "acea2da3",
   "metadata": {},
   "source": [
    "- Use the relational (relplot) figure-level function to create two charts.  First a scatterplot and second a line chart.\n",
    "- Use the 'tips' data set.\n",
    "- For the scatterplot, determine if tips increasewith the bill amount.  Try to show a distinction between data points based on time of day.\n",
    "- For the line chart, show how tips change based on size of the party.\n"
   ]
  },
  {
   "cell_type": "code",
   "execution_count": null,
   "id": "77b143ab",
   "metadata": {},
   "outputs": [],
   "source": [
    "tips.head()"
   ]
  },
  {
   "cell_type": "code",
   "execution_count": null,
   "id": "fa8f9ec9",
   "metadata": {},
   "outputs": [],
   "source": [
    "# Place scatterplot here\n"
   ]
  },
  {
   "cell_type": "code",
   "execution_count": null,
   "id": "8c3b03cd",
   "metadata": {},
   "outputs": [],
   "source": [
    "# Place line chart here\n"
   ]
  },
  {
   "cell_type": "markdown",
   "id": "8e1c0534",
   "metadata": {},
   "source": [
    " "
   ]
  },
  {
   "cell_type": "markdown",
   "id": "58531ef7",
   "metadata": {},
   "source": [
    "# Facet Grids - Creating Small Multiples"
   ]
  },
  {
   "cell_type": "code",
   "execution_count": null,
   "id": "23c21ec0",
   "metadata": {},
   "outputs": [],
   "source": [
    "p = sns.FacetGrid(df) # p is the facet grid"
   ]
  },
  {
   "cell_type": "code",
   "execution_count": null,
   "id": "c123e11f",
   "metadata": {},
   "outputs": [],
   "source": [
    "p = sns.FacetGrid(df, col = 'cut') # 1 column for each facet (value) of cut.\n",
    "\n",
    "# matplotlib will squeeze the 5 plots into the orginal size."
   ]
  },
  {
   "cell_type": "code",
   "execution_count": null,
   "id": "17f1bf82",
   "metadata": {},
   "outputs": [],
   "source": [
    "p = sns.FacetGrid(df, col = 'cut', height = 4, aspect = 0.75) \n",
    "# Aspect ratio of each facet, so that aspect * height gives the width of each facet."
   ]
  },
  {
   "cell_type": "code",
   "execution_count": null,
   "id": "fdb8a057",
   "metadata": {},
   "outputs": [],
   "source": [
    "p = sns.FacetGrid(df, col = 'cut', height = 4, aspect = 0.75, col_wrap = 3) \n",
    "# Aspect ratio of each facet, so that aspect * height gives the width of each facet."
   ]
  },
  {
   "cell_type": "markdown",
   "id": "2b6f9234",
   "metadata": {},
   "source": [
    " "
   ]
  },
  {
   "cell_type": "code",
   "execution_count": null,
   "id": "904d1335",
   "metadata": {},
   "outputs": [],
   "source": [
    "sns.set_style('white')\n",
    "penguins = sns.load_dataset(\"penguins\")"
   ]
  },
  {
   "cell_type": "code",
   "execution_count": null,
   "id": "24d6bf33",
   "metadata": {},
   "outputs": [],
   "source": [
    "p = sns.FacetGrid(penguins, col='island');"
   ]
  },
  {
   "cell_type": "code",
   "execution_count": null,
   "id": "8e1ff744",
   "metadata": {},
   "outputs": [],
   "source": [
    "p = sns.FacetGrid(penguins, row='island');"
   ]
  },
  {
   "cell_type": "code",
   "execution_count": null,
   "id": "bb154758",
   "metadata": {},
   "outputs": [],
   "source": [
    "type(p)"
   ]
  },
  {
   "cell_type": "markdown",
   "id": "f66f59fd",
   "metadata": {},
   "source": [
    "## Managing the Facet Grid"
   ]
  },
  {
   "cell_type": "code",
   "execution_count": null,
   "id": "07b61c4c",
   "metadata": {},
   "outputs": [],
   "source": [
    "penguins.head()"
   ]
  },
  {
   "cell_type": "code",
   "execution_count": null,
   "id": "5ee15a8d",
   "metadata": {},
   "outputs": [],
   "source": [
    "sns.displot(data=penguins, x=\"flipper_length_mm\", col=\"island\", kind = 'hist')"
   ]
  },
  {
   "cell_type": "markdown",
   "id": "f40ad787",
   "metadata": {},
   "source": [
    "## Using methods of FacetGrid\n",
    "\n",
    "These will be used when an axes level plot is used.\n",
    "\n",
    "Three steps:\n",
    "- set up the FacetGrid\n",
    "- identify the plot type using .map or .map_dataframe\n",
    "- customize"
   ]
  },
  {
   "cell_type": "markdown",
   "id": "d631ff8c",
   "metadata": {},
   "source": [
    "### .map()\n",
    "1. Set up the facet grid (format the facets)\n",
    "2. Describe what should be plotted in the grids\n",
    "3. Add extras - labels, titles, etc.\n",
    "\n",
    "To draw a plot on every facet, pass a function and the name of one or more columns in the dataframe to FacetGrid.map()"
   ]
  },
  {
   "cell_type": "code",
   "execution_count": null,
   "id": "ae8f6bb0",
   "metadata": {},
   "outputs": [],
   "source": [
    "p = sns.FacetGrid(penguins, col='island')\n",
    "p.map(sns.histplot, 'flipper_length_mm'); # Requires positional arguements, not named (x = 'flipper_length_mm')"
   ]
  },
  {
   "cell_type": "markdown",
   "id": "13108b73",
   "metadata": {},
   "source": [
    "### .map_dataframe()"
   ]
  },
  {
   "cell_type": "code",
   "execution_count": null,
   "id": "c47cd2f9",
   "metadata": {},
   "outputs": [],
   "source": [
    "p = sns.FacetGrid(penguins, col='island')\n",
    "p.map_dataframe(sns.histplot, x = 'flipper_length_mm'); # It is the x= that is different.  This is the named arguement"
   ]
  },
  {
   "cell_type": "code",
   "execution_count": null,
   "id": "5c502454",
   "metadata": {},
   "outputs": [],
   "source": [
    "p = sns.FacetGrid(penguins, col='island', height = 6, aspect =1)\n",
    "p.map_dataframe(sns.scatterplot,  y='bill_length_mm',x='bill_depth_mm');"
   ]
  },
  {
   "cell_type": "code",
   "execution_count": null,
   "id": "700624a6",
   "metadata": {},
   "outputs": [],
   "source": []
  },
  {
   "cell_type": "markdown",
   "id": "99615b38",
   "metadata": {},
   "source": [
    "### .set_axis_labels(),    .set_titles(),    sharey,    ylim"
   ]
  },
  {
   "cell_type": "code",
   "execution_count": null,
   "id": "f8c038f4",
   "metadata": {
    "scrolled": true
   },
   "outputs": [],
   "source": [
    "\n",
    "p = sns.FacetGrid(penguins, col='island', height = 6, aspect =1)\n",
    "p.map_dataframe(sns.scatterplot, x='bill_depth_mm', y='bill_length_mm')\n",
    "\n",
    "p.set_axis_labels('BILL DEPTH (mm)', 'BILL LENGTH (mm)'); # if the LABELS needs to be changed\n",
    "p.set_titles(col_template='{col_name} Island'); # if the TITLE needs to be changed"
   ]
  },
  {
   "cell_type": "code",
   "execution_count": null,
   "id": "6f575f84",
   "metadata": {},
   "outputs": [],
   "source": [
    "\n",
    "p = sns.FacetGrid(penguins, col='island', row='species', height = 4, aspect =1)\n",
    "p.map_dataframe(sns.scatterplot, x='bill_depth_mm', y='bill_length_mm')\n",
    "p.set_axis_labels('Bill Depth (mm)', 'Bill Length (mm)')\n",
    "p.set_titles(row_template='{row_name}', col_template='{col_name} Island');"
   ]
  },
  {
   "cell_type": "markdown",
   "id": "d2ed30e8",
   "metadata": {},
   "source": [
    "- sharey: False means the y-axis will not be shared and each plot will get its own y-axis.\n",
    "- ylim: Sets a specified range for all y-axes shown"
   ]
  },
  {
   "cell_type": "markdown",
   "id": "ea3447a1",
   "metadata": {},
   "source": [
    "#### sharey = False"
   ]
  },
  {
   "cell_type": "code",
   "execution_count": null,
   "id": "1c2b2b90",
   "metadata": {},
   "outputs": [],
   "source": [
    "p = sns.FacetGrid(penguins, col='island', height = 4, aspect =1, sharey=False)\n",
    "\n",
    "#p = sns.FacetGrid(penguins, col='island', height = 4, aspect =1, sharey=False, ylim=(20, 70))\n",
    "\n",
    "p.map_dataframe(sns.scatterplot, x='bill_depth_mm', y='bill_length_mm');\n",
    "p.set_axis_labels('BILL DEPTH (mm)', 'BILL LENGTH (mm)'); \n",
    "p.set_titles(col_template='{col_name} Island'); "
   ]
  },
  {
   "cell_type": "markdown",
   "id": "b671b34b",
   "metadata": {},
   "source": [
    " "
   ]
  },
  {
   "cell_type": "markdown",
   "id": "14da1e40",
   "metadata": {},
   "source": [
    "### hue & pallette"
   ]
  },
  {
   "cell_type": "code",
   "execution_count": null,
   "id": "870b0428",
   "metadata": {},
   "outputs": [],
   "source": [
    "p = sns.FacetGrid(penguins, col='island', height = 4, aspect =1, sharey=False, ylim=(20, 70), hue = 'species')\n",
    "p.map_dataframe(sns.scatterplot, x='bill_depth_mm', y='bill_length_mm');\n",
    "p.set_axis_labels('BILL DEPTH (mm)', 'BILL LENGTH (mm)'); \n",
    "p.set_titles(col_template='{col_name} Island'); "
   ]
  },
  {
   "cell_type": "code",
   "execution_count": null,
   "id": "2a8f1abd",
   "metadata": {},
   "outputs": [],
   "source": [
    "p = sns.FacetGrid(penguins, \n",
    "                  col='island', \n",
    "                  height = 4, \n",
    "                  aspect =1, \n",
    "                  sharey=False, \n",
    "                  ylim=(20, 70), \n",
    "                  hue = 'species',\n",
    "                  palette = 'magma'\n",
    "                  #palette = ['grey','blue','red']\n",
    "                 )\n",
    "\n",
    "p.map_dataframe(sns.scatterplot, x='bill_depth_mm', y='bill_length_mm', marker = '+');\n",
    "p.set_axis_labels('BILL DEPTH (mm)', 'BILL LENGTH (mm)'); \n",
    "p.set_titles(col_template='{col_name} Island');"
   ]
  },
  {
   "cell_type": "markdown",
   "id": "7966fd1a",
   "metadata": {},
   "source": [
    "### Accomplish the same without defining the facet grid first"
   ]
  },
  {
   "cell_type": "code",
   "execution_count": null,
   "id": "651ec38e",
   "metadata": {},
   "outputs": [],
   "source": [
    "p = sns.relplot(data=penguins, x='bill_depth_mm', y='bill_length_mm', kind = 'scatter',\n",
    "            col='island', height = 4, aspect =1, hue = 'species', palette = 'magma',\n",
    "            marker = '+',\n",
    "            size = 'body_mass_g',\n",
    "            style = 'sex',\n",
    "            facet_kws={'sharey': False, 'sharex': True, 'ylim':(20,70)}\n",
    "               #   sharey=False, ylim=(20, 70), #palette = ['grey','blue','red']\n",
    "           )\n",
    "\n",
    "p.map(plt.axhline, \n",
    "        y=45, color=\".7\", \n",
    "        dashes=(2, 1), \n",
    "        zorder=0)\n",
    "p.set_axis_labels('Bill Depth (mm)', 'Bill Length (mm)')\n",
    "p.set_titles(row_template='{row_name}', col_template='{col_name} Island')"
   ]
  },
  {
   "cell_type": "markdown",
   "id": "7e731509",
   "metadata": {},
   "source": [
    "### Method Chaining "
   ]
  },
  {
   "cell_type": "code",
   "execution_count": null,
   "id": "57b7eb45",
   "metadata": {},
   "outputs": [],
   "source": [
    "p = sns.relplot(data=penguins, x='bill_depth_mm', y='bill_length_mm', kind = 'scatter',\n",
    "            col='island', height = 4, aspect =1, hue = 'species', palette = 'magma'\n",
    "            ,marker = '+',\n",
    "            size = 'body_mass_g',\n",
    "            style = 'sex',\n",
    "            facet_kws={'sharey': False, 'sharex': True, 'ylim':(20,70)}\n",
    "           )\n",
    "\n",
    "(\n",
    "p.map(plt.axhline, \n",
    "        y=45, color=\".7\", \n",
    "        dashes=(2, 1), \n",
    "        zorder=0)\n",
    " .set_axis_labels('Bill Depth (mm)', 'Bill Length (mm)')\n",
    " .set_titles(row_template='{row_name}', col_template='{col_name} Island'))"
   ]
  },
  {
   "cell_type": "markdown",
   "id": "9b06b3cf",
   "metadata": {},
   "source": [
    "## Seaborn Exercise 2 - 10 minutes"
   ]
  },
  {
   "cell_type": "markdown",
   "id": "add53017",
   "metadata": {},
   "source": [
    "Using the flights info, create a visualization that plots - for each month - the number of passengers by year.  \n",
    "There should be one plot per month."
   ]
  },
  {
   "cell_type": "code",
   "execution_count": null,
   "id": "2e0a5d90",
   "metadata": {},
   "outputs": [],
   "source": [
    "flights.info()"
   ]
  },
  {
   "cell_type": "code",
   "execution_count": null,
   "id": "b91dc10c",
   "metadata": {},
   "outputs": [],
   "source": [
    "flights.head(20)"
   ]
  },
  {
   "cell_type": "code",
   "execution_count": null,
   "id": "f5da085d",
   "metadata": {},
   "outputs": [],
   "source": [
    "flights.shape"
   ]
  },
  {
   "cell_type": "code",
   "execution_count": null,
   "id": "747e9854",
   "metadata": {},
   "outputs": [],
   "source": [
    "# SNS Exercise 2 solution here."
   ]
  },
  {
   "cell_type": "markdown",
   "id": "37fcfb96",
   "metadata": {},
   "source": [
    "## Seaborn Exercise 3 - 15 minutes\n",
    "\n",
    "The distplot below is quick 'one-liner' plot.\n",
    "Take a little more time to create an axes for each cut and the axes are one above the other.\n",
    "\n",
    "<img src=\"https://drive.google.com/uc?id=1SpS1UGerqF5snj0Y7p3lkxtOYSiAgdXz\" width=1200 />\n"
   ]
  },
  {
   "cell_type": "code",
   "execution_count": null,
   "id": "3a55ab04",
   "metadata": {},
   "outputs": [],
   "source": [
    "# This is the chart on the left with diamond data.\n",
    "sns.displot(data=df, x=\"price\", hue=\"cut\", kind = 'kde', rug = True)"
   ]
  },
  {
   "cell_type": "code",
   "execution_count": null,
   "id": "34851a4d",
   "metadata": {},
   "outputs": [],
   "source": [
    "# Place Exercise 3 solution here.\n",
    "\n"
   ]
  },
  {
   "cell_type": "markdown",
   "id": "65e9df6b",
   "metadata": {},
   "source": [
    "# Multiple Views"
   ]
  },
  {
   "cell_type": "markdown",
   "id": "913ba412",
   "metadata": {},
   "source": [
    "## Jointplot"
   ]
  },
  {
   "cell_type": "code",
   "execution_count": null,
   "id": "9dd997be",
   "metadata": {},
   "outputs": [],
   "source": [
    "sns.set_style(\"ticks\")\n",
    "sns.jointplot(data = penguins, x=\"flipper_length_mm\", y=\"bill_length_mm\", hue=\"species\", height = 8 )"
   ]
  },
  {
   "cell_type": "code",
   "execution_count": null,
   "id": "800d5503",
   "metadata": {},
   "outputs": [],
   "source": [
    "sns.set_style(\"ticks\")\n",
    "sns.jointplot(data = penguins, x=\"flipper_length_mm\", y=\"bill_length_mm\", hue=\"species\", height = 8 )"
   ]
  },
  {
   "cell_type": "markdown",
   "id": "5af4621a",
   "metadata": {},
   "source": [
    "## Pairplot"
   ]
  },
  {
   "cell_type": "code",
   "execution_count": null,
   "id": "b40656e4",
   "metadata": {},
   "outputs": [],
   "source": [
    "sns.pairplot(data = df, hue = 'cut')"
   ]
  },
  {
   "cell_type": "code",
   "execution_count": null,
   "id": "e47697fe",
   "metadata": {},
   "outputs": [],
   "source": [
    "xyz = df.corr()\n",
    "xyz"
   ]
  },
  {
   "cell_type": "code",
   "execution_count": null,
   "id": "2266494c",
   "metadata": {},
   "outputs": [],
   "source": [
    "sns.heatmap(xyz, annot=False)"
   ]
  },
  {
   "cell_type": "code",
   "execution_count": null,
   "id": "54ff7958",
   "metadata": {},
   "outputs": [],
   "source": [
    "# Calculate correlations\n",
    "corr = df.corr()\n",
    "plt.figure(figsize=(12,8))\n",
    "plt.title('Quantitative Variables Correlation')\n",
    "\n",
    "# Heatmap\n",
    "sns.heatmap(corr,cmap='plasma',annot=True)"
   ]
  },
  {
   "cell_type": "code",
   "execution_count": null,
   "id": "dcf298db",
   "metadata": {},
   "outputs": [],
   "source": [
    "plt.figure(figsize=(12,8))\n",
    "corr = df.corr()\n",
    "ax = sns.heatmap(\n",
    "    corr,\n",
    "    vmin=-1, vmax=1, center=0,\n",
    "    cmap=sns.diverging_palette(20, 220, n=200),\n",
    "    square=True,\n",
    "    annot=True, annot_kws={\"size\":10}\n",
    ")\n",
    "ax.set_xticklabels(\n",
    "    ax.get_xticklabels(),\n",
    "    rotation=45,\n",
    "    horizontalalignment='right'\n",
    ");"
   ]
  },
  {
   "cell_type": "code",
   "execution_count": null,
   "id": "2634da4a",
   "metadata": {},
   "outputs": [],
   "source": [
    "plt.figure(figsize=(12,8))\n",
    "corr = df.corr()\n",
    "ax = sns.heatmap(\n",
    "    corr,\n",
    "    vmin=-1, vmax=1, center=0,\n",
    "    cmap=sns.diverging_palette(20, 220, n=200),\n",
    "    square=True,\n",
    "    annot=False, annot_kws={\"size\":20}\n",
    ")\n",
    "ax.set_xticklabels(\n",
    "    ax.get_xticklabels(),\n",
    "    rotation=45,\n",
    "    horizontalalignment='right'\n",
    ");"
   ]
  },
  {
   "cell_type": "markdown",
   "id": "0109aaab",
   "metadata": {},
   "source": [
    " "
   ]
  }
 ],
 "metadata": {
  "kernelspec": {
   "display_name": "Python 3 (ipykernel)",
   "language": "python",
   "name": "python3"
  },
  "language_info": {
   "codemirror_mode": {
    "name": "ipython",
    "version": 3
   },
   "file_extension": ".py",
   "mimetype": "text/x-python",
   "name": "python",
   "nbconvert_exporter": "python",
   "pygments_lexer": "ipython3",
   "version": "3.9.7"
  },
  "toc": {
   "base_numbering": 1,
   "nav_menu": {},
   "number_sections": false,
   "sideBar": true,
   "skip_h1_title": false,
   "title_cell": "Table of Contents: Seaborn ",
   "title_sidebar": "",
   "toc_cell": false,
   "toc_position": {},
   "toc_section_display": true,
   "toc_window_display": false
  },
  "varInspector": {
   "cols": {
    "lenName": 16,
    "lenType": 16,
    "lenVar": 40
   },
   "kernels_config": {
    "python": {
     "delete_cmd_postfix": "",
     "delete_cmd_prefix": "del ",
     "library": "var_list.py",
     "varRefreshCmd": "print(var_dic_list())"
    },
    "r": {
     "delete_cmd_postfix": ") ",
     "delete_cmd_prefix": "rm(",
     "library": "var_list.r",
     "varRefreshCmd": "cat(var_dic_list()) "
    }
   },
   "types_to_exclude": [
    "module",
    "function",
    "builtin_function_or_method",
    "instance",
    "_Feature"
   ],
   "window_display": false
  }
 },
 "nbformat": 4,
 "nbformat_minor": 5
}
