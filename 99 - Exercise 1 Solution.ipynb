{
 "cells": [
  {
   "cell_type": "markdown",
   "id": "e7835da3",
   "metadata": {
    "toc": true
   },
   "source": [
    "<h1>Topics<span class=\"tocSkip\"></span></h1>\n",
    "<div class=\"toc\"><ul class=\"toc-item\"></ul></div>"
   ]
  },
  {
   "cell_type": "code",
   "execution_count": null,
   "id": "2da767a7",
   "metadata": {},
   "outputs": [],
   "source": [
    "# Uses a dropdown list to control the year of the chart\n",
    "from jupyter_dash import JupyterDash  \n",
    "from dash.dependencies import Output, Input\n",
    "from dash import no_update\n",
    "from dash import dcc\n",
    "from dash import html                       \n",
    "\n",
    "import pandas as pd \n",
    "import plotly.graph_objects as go\n",
    "import plotly.express as px\n",
    "\n",
    "diabetes = pd.read_csv('https://bitbucket.org/jimcody/sampledata/raw/b2aa6df015816ec35afc482b53df1b7ca7a31f80/diabetes_for_plotly.csv')\n",
    "diabetes['gender'] = diabetes['gender'].replace({'M':'Male', 'Mle':'Male', 'F':'Female', \n",
    "                                                 'female':'Female', 'male':'Male', \n",
    "                                                 '?':'Female', 'Unknown/Invalid':'Female'})\n",
    "#diabetes = diabetes[diabetes['year'] == 2019]"
   ]
  },
  {
   "cell_type": "code",
   "execution_count": null,
   "id": "50ad34d9",
   "metadata": {},
   "outputs": [],
   "source": [
    "diabetes.info()"
   ]
  },
  {
   "cell_type": "code",
   "execution_count": null,
   "id": "72fc377d",
   "metadata": {},
   "outputs": [],
   "source": [
    "diabetes = diabetes.drop('encounter_id',axis=1)\n",
    "diabetes = diabetes.drop('patient_nbr',axis=1)\n",
    "diabetes = diabetes.drop('admission_type_id',axis=1)\n",
    "diabetes = diabetes.drop('discharge_disposition_id',axis=1)\n",
    "diabetes = diabetes.drop('diag_1',axis=1)"
   ]
  },
  {
   "cell_type": "markdown",
   "id": "5418ec9f",
   "metadata": {},
   "source": [
    "## Run the next cell to see what data you have to work with"
   ]
  },
  {
   "cell_type": "code",
   "execution_count": null,
   "id": "e009019b",
   "metadata": {},
   "outputs": [],
   "source": [
    "diabetes.head()"
   ]
  },
  {
   "cell_type": "markdown",
   "id": "3a4c95cc",
   "metadata": {},
   "source": [
    "## Create a dataframe to hold the data you want to work with"
   ]
  },
  {
   "cell_type": "code",
   "execution_count": null,
   "id": "a0a16168",
   "metadata": {},
   "outputs": [],
   "source": [
    "diabetes = diabetes.drop('A1Cresult',axis=1)\n",
    "diabetes = diabetes.drop('insulin',axis=1)\n",
    "diabetes = diabetes.drop('diabetesMed',axis=1)\n",
    "diabetes = diabetes.drop('readmitted',axis=1)"
   ]
  },
  {
   "cell_type": "code",
   "execution_count": null,
   "id": "8e273fc7",
   "metadata": {},
   "outputs": [],
   "source": [
    "d_month = diabetes.groupby(['year','month','race','gender','age']).sum().reset_index()\n",
    "d_month"
   ]
  },
  {
   "cell_type": "code",
   "execution_count": null,
   "id": "9696db76",
   "metadata": {},
   "outputs": [],
   "source": [
    "d_month = d_month.sort_values(['year','month'])"
   ]
  },
  {
   "cell_type": "code",
   "execution_count": null,
   "id": "cbb976aa",
   "metadata": {},
   "outputs": [],
   "source": [
    "d_gender = diabetes.groupby('gender')[['time_in_hospital','num_lab_procedures','num_procedures','num_medications']].sum().reset_index()"
   ]
  },
  {
   "cell_type": "markdown",
   "id": "a2eb5d15",
   "metadata": {},
   "source": [
    "# Exercise 1 - plotly charts - 30 minutes"
   ]
  },
  {
   "cell_type": "markdown",
   "id": "8c3f8a16",
   "metadata": {},
   "source": [
    "- read in the diabetes_for_plotly dataset (already done above)\n",
    "- group data as needed\n",
    "- Use express or graph objects\n",
    "- Create a scatter plot of any two measures.  Use a third measure to adjust the size.  Color by a categorical value. Add hover text to show the age group.\n",
    "- Create a side-by-side bar chart showing number of lab procedures and number of non lab procedures by gender.\n",
    "- Create a line chart showing number of number of medications by month.\n",
    "- Create a line chart showing number of number of procedures by month.\n",
    "- Create a fifth chart of your choice (NOT scatter, bar or line) using the documentation."
   ]
  },
  {
   "cell_type": "markdown",
   "id": "49d7256e",
   "metadata": {},
   "source": [
    "### scatterplot is given a variable name: labs"
   ]
  },
  {
   "cell_type": "code",
   "execution_count": null,
   "id": "8325a15e",
   "metadata": {},
   "outputs": [],
   "source": [
    "# express version\n",
    "# Create a scatter plot of any two measures. Use a third measure to adjust the size. Color by a categorical value. \n",
    "# Add hover text to show the age group.\n",
    "labs = px.scatter(diabetes, x=diabetes.num_lab_procedures, \n",
    "                 y=diabetes.num_medications, \n",
    "                # size = diabetes.time_in_hospital,\n",
    "                # color = diabetes.gender,\n",
    "                # hover_data = ['age']\n",
    "                 )\n",
    "labs.show()"
   ]
  },
  {
   "cell_type": "code",
   "execution_count": null,
   "id": "8da7eaa0",
   "metadata": {},
   "outputs": [],
   "source": [
    "# go version\n",
    "fig = go.Figure()\n",
    "fig.add_trace(go.Scatter(\n",
    "    x=diabetes.num_lab_procedures,\n",
    "    y=diabetes.num_medications, \n",
    "    mode = 'markers',\n",
    "    #marker_color='indianred'\n",
    "    marker_color = diabetes.time_in_hospital\n",
    "))\n",
    "\n",
    "fig.show()"
   ]
  },
  {
   "cell_type": "code",
   "execution_count": null,
   "id": "2bfe80cb",
   "metadata": {},
   "outputs": [],
   "source": [
    "# express version\n",
    "# Create a side-by-side bar chart showing number of lab procedures and number of non lab procedures by gender.\n",
    "\n",
    "fig = px.bar(d_gender, x='gender', y=['num_lab_procedures', 'num_procedures'], barmode = 'group')\n",
    "fig.show()"
   ]
  },
  {
   "cell_type": "code",
   "execution_count": null,
   "id": "dc3d9628",
   "metadata": {},
   "outputs": [],
   "source": [
    "# go version\n",
    "fig = go.Figure(\n",
    "    data=[go.Bar(name = 'labs', x=d_gender.gender, y = d_gender.num_lab_procedures),\n",
    "         go.Bar(name = 'non labs', x=d_gender.gender, y = d_gender.num_procedures)],\n",
    "    layout=go.Layout(\n",
    "        title=go.layout.Title(text=\"A Figure Specified By A Graph Object\")\n",
    "    )\n",
    ")\n",
    "fig.show()"
   ]
  },
  {
   "cell_type": "code",
   "execution_count": null,
   "id": "336f8ed5",
   "metadata": {},
   "outputs": [],
   "source": [
    "d_month = diabetes.groupby('month')[['time_in_hospital','num_lab_procedures','num_procedures','num_medications']].sum().reset_index()  # aggregating d_month even more!"
   ]
  },
  {
   "cell_type": "code",
   "execution_count": null,
   "id": "043c1358",
   "metadata": {},
   "outputs": [],
   "source": [
    "d_month.head()"
   ]
  },
  {
   "cell_type": "code",
   "execution_count": null,
   "id": "5167376c",
   "metadata": {},
   "outputs": [],
   "source": [
    "# Create a line chart showing number of number of medications by monmth.\n",
    "\n",
    "\n",
    "#d_month = d_month.sort_values('month')\n",
    "fig = px.line(d_month,x='month', y='num_medications')\n",
    "fig.show()\n",
    "\n",
    "# fig = go.Figure(go.Scatter(x=d_month.month, y=d_month.num_medications,mode='lines')) DEFAULT is a line"
   ]
  },
  {
   "cell_type": "code",
   "execution_count": null,
   "id": "8f6e2fe1",
   "metadata": {},
   "outputs": [],
   "source": [
    "# Create a line chart showing number of number of procedures by month.\n",
    "\n",
    "#d_month = diabetes.groupby('month').sum().reset_index()\n",
    "#d_month = d_month.sort_values('month')\n",
    "fig = px.line(d_month,x='month', y='num_procedures')\n",
    "fig.show()\n",
    "\n",
    "# fig = go.Figure(go.Scatter(x=d_month.month, y=d_month.num_procedures, mode='lines'))\n"
   ]
  },
  {
   "cell_type": "code",
   "execution_count": null,
   "id": "1ec8045f",
   "metadata": {
    "scrolled": true
   },
   "outputs": [],
   "source": [
    "# Create a line chart showing number of number of procedures by gender.\n",
    "\n",
    "#d_gender = diabetes.groupby('gender').sum().reset_index()\n",
    "#d_month = d_month.sort_values('month')\n",
    "fig = px.bar(d_gender,x='gender', y='num_procedures')\n",
    "fig.show()\n"
   ]
  }
 ],
 "metadata": {
  "kernelspec": {
   "display_name": "Python 3 (ipykernel)",
   "language": "python",
   "name": "python3"
  },
  "language_info": {
   "codemirror_mode": {
    "name": "ipython",
    "version": 3
   },
   "file_extension": ".py",
   "mimetype": "text/x-python",
   "name": "python",
   "nbconvert_exporter": "python",
   "pygments_lexer": "ipython3",
   "version": "3.10.9"
  },
  "toc": {
   "base_numbering": 1,
   "nav_menu": {},
   "number_sections": true,
   "sideBar": true,
   "skip_h1_title": true,
   "title_cell": "Topics",
   "title_sidebar": "Contents",
   "toc_cell": true,
   "toc_position": {},
   "toc_section_display": true,
   "toc_window_display": false
  },
  "varInspector": {
   "cols": {
    "lenName": 16,
    "lenType": 16,
    "lenVar": 40
   },
   "kernels_config": {
    "python": {
     "delete_cmd_postfix": "",
     "delete_cmd_prefix": "del ",
     "library": "var_list.py",
     "varRefreshCmd": "print(var_dic_list())"
    },
    "r": {
     "delete_cmd_postfix": ") ",
     "delete_cmd_prefix": "rm(",
     "library": "var_list.r",
     "varRefreshCmd": "cat(var_dic_list()) "
    }
   },
   "types_to_exclude": [
    "module",
    "function",
    "builtin_function_or_method",
    "instance",
    "_Feature"
   ],
   "window_display": false
  }
 },
 "nbformat": 4,
 "nbformat_minor": 5
}
