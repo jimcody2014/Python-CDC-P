{
 "cells": [
  {
   "cell_type": "markdown",
   "id": "321faca5",
   "metadata": {},
   "source": [
    "# Figures, Axes & Artists"
   ]
  },
  {
   "cell_type": "markdown",
   "id": "f7509f2d",
   "metadata": {},
   "source": [
    "Think of the **Figure** as your workspace or canvas.  It is the top level container in a plot hierarchy.  You can have multiple independent figures and Figures can contain multiple Axes.\n",
    "\n",
    "Plotting occurs on an **Axes** (not Axis). It is the plot and its associated details (labels, tick marks, grids, etc.)"
   ]
  },
  {
   "cell_type": "markdown",
   "id": "b0d645b6",
   "metadata": {},
   "source": [
    "## Two Big Plotting Concepts"
   ]
  },
  {
   "cell_type": "markdown",
   "id": "03fd4c58",
   "metadata": {},
   "source": [
    "<img src=\"https://drive.google.com/uc?id=1AkkIQaXF8DkqiRN0V-c3V2rYi8v6azD7\" width=1200 />"
   ]
  },
  {
   "cell_type": "markdown",
   "id": "06abdab5",
   "metadata": {},
   "source": [
    "[Click here for matplotlib documentation](https://matplotlib.org/stable/index.html) - - matplotlib.org\n",
    "\n",
    "\n",
    "\n",
    "[Go here for the life cycle of a plot](https://matplotlib.org/stable/tutorials/introductory/lifecycle.html#sphx-glr-tutorials-introductory-lifecycle-py)"
   ]
  },
  {
   "cell_type": "markdown",
   "id": "64837b36",
   "metadata": {},
   "source": [
    "# Types of Input Used by Matplotlib"
   ]
  },
  {
   "cell_type": "markdown",
   "id": "0b0a6586",
   "metadata": {},
   "source": [
    "# Coding Interfaces"
   ]
  },
  {
   "cell_type": "markdown",
   "id": "027e4117",
   "metadata": {},
   "source": [
    "Matplotlib has three interfaces (ways to write code)\n",
    "- pyplot: hides the complexity of object-oriented coding.\n",
    "- object oriented: provides access to more functions and control over the visualizations\n",
    "- pylab (not recommended for use)\n"
   ]
  },
  {
   "cell_type": "markdown",
   "id": "dc62eeb3",
   "metadata": {},
   "source": [
    "<img src=\"https://drive.google.com/uc?id=1AkTMJwcgDFqKHRaAqdxnFoc_SDOLpv9z\" width=1200 />"
   ]
  },
  {
   "cell_type": "code",
   "execution_count": null,
   "id": "762d6978",
   "metadata": {},
   "outputs": [],
   "source": [
    "import numpy as np\n",
    "import matplotlib.pyplot as plt\n",
    "import random\n",
    "import math"
   ]
  },
  {
   "cell_type": "code",
   "execution_count": null,
   "id": "a8788c38",
   "metadata": {},
   "outputs": [],
   "source": [
    "# Showing subtle different between pyploy and OO approach\n",
    "x = np.linspace(0, 10, 1000)\n",
    "\n",
    "# pyplot approach\n",
    "\n",
    "plt.plot(x, x + 0, linestyle = 'solid')  # plot creates a line plot\n",
    "plt.plot(x, x + 1, linestyle='dashed')\n",
    "plt.plot(x, x + 2, linestyle='dashdot')\n",
    "plt.plot(x, x + 3, linestyle='dotted')\n",
    "\n",
    "# Object-oriented approach\n",
    "\n",
    "fig = plt.figure()\n",
    "ax1 = fig.add_subplot(1,1,1) # the same as fig.add_subplot(111)\n",
    "\n",
    "ax1.plot(x, x + 0, linestyle='solid')\n",
    "ax1.plot(x, x + 1, linestyle='dashed')\n",
    "ax1.plot(x, x + 2, linestyle='dashdot')\n",
    "ax1.plot(x, x + 3, linestyle='dotted')"
   ]
  },
  {
   "cell_type": "markdown",
   "id": "9ef50b24",
   "metadata": {},
   "source": [
    "# The Lifecycle of a Plot\n",
    "\n",
    "- create the figure\n",
    "- add the axes\n",
    "- add the plot\n",
    "- customize the plot\n",
    "- customize the figure\n",
    "- save figure to a file\n"
   ]
  },
  {
   "cell_type": "code",
   "execution_count": null,
   "id": "f3c40dc7",
   "metadata": {},
   "outputs": [],
   "source": [
    "delivery_num = [1, 4, 9, 16, 25,36,49, 64]\n",
    "delivered = [1, 16, 30, 42,55, 68, 77,88]\n",
    "administered = [1,6,12,18,28, 40, 52, 65]"
   ]
  },
  {
   "cell_type": "markdown",
   "id": "c1eb361b",
   "metadata": {},
   "source": [
    "### Create the figure and the axes"
   ]
  },
  {
   "cell_type": "code",
   "execution_count": null,
   "id": "f5d851ed",
   "metadata": {},
   "outputs": [],
   "source": [
    "#plt.rcParams.update(plt.rcParamsDefault)\n",
    "fig = plt.figure()             # plt.figure calls matplotlib.figure\n",
    "ax1 = fig.add_axes([0,0,1,1])  # left, bottom, width, height\n"
   ]
  },
  {
   "cell_type": "markdown",
   "id": "1a586dac",
   "metadata": {},
   "source": [
    "### Add a plot to the axes"
   ]
  },
  {
   "cell_type": "code",
   "execution_count": null,
   "id": "640cd5a5",
   "metadata": {},
   "outputs": [],
   "source": [
    "fig = plt.figure(facecolor = 'red') # fig is just a name.  It can be anbything you want.\n",
    "ax = fig.add_axes([0,0,1,1])       # left, bottom, width, height\n",
    "ax.plot(delivery_num,delivered)"
   ]
  },
  {
   "cell_type": "code",
   "execution_count": null,
   "id": "764140b4",
   "metadata": {},
   "outputs": [],
   "source": [
    "# A little shortcut\n",
    "\n",
    "fig, ax = plt.subplots()\n",
    "ax.plot(delivery_num,delivered)"
   ]
  },
  {
   "cell_type": "markdown",
   "id": "a514ca94",
   "metadata": {},
   "source": [
    "### Customize the plot\n",
    "- Labels\n",
    "- Legend\n",
    "- Axis limits\n",
    "- Colors and marks\n"
   ]
  },
  {
   "cell_type": "code",
   "execution_count": null,
   "id": "fc3cd084",
   "metadata": {},
   "outputs": [],
   "source": [
    "# Set axis labels\n",
    "fig = plt.figure()\n",
    "ax = fig.add_axes([0,0,1,1])\n",
    "ax.plot(delivery_num,delivered)\n",
    "\n",
    "ax.set_title(\"Vaccines\")\n",
    "ax.set_xlabel('Delivery Number')\n",
    "ax.set_ylabel('Units Delivered')"
   ]
  },
  {
   "cell_type": "code",
   "execution_count": null,
   "id": "5397fb92",
   "metadata": {},
   "outputs": [],
   "source": [
    "# Set line labels\n",
    "fig = plt.figure()\n",
    "ax = fig.add_axes([0,0,1,1])\n",
    "ax.plot(delivery_num,delivered, label = 'Delivered')\n",
    "\n",
    "ax.set_title(\"Vaccines\")\n",
    "ax.set_xlabel('Delivery Number')\n",
    "ax.set_ylabel('Units Delivered')"
   ]
  },
  {
   "cell_type": "code",
   "execution_count": null,
   "id": "3d59def3",
   "metadata": {},
   "outputs": [],
   "source": [
    "# Set the legend\n",
    "\n",
    "fig = plt.figure()\n",
    "ax = fig.add_axes([0,0,1,1])\n",
    "ax.plot(delivery_num,delivered, label = 'Delivered')\n",
    "\n",
    "ax.set_title(\"Vaccines\")\n",
    "ax.set_xlabel('Delivery Number')\n",
    "ax.set_ylabel('Units Delivered')\n",
    "\n",
    "ax.legend(loc = 'lower right') # legend placed at lower right\n",
    "plt.show() # This removes that little piece of output above the chart"
   ]
  },
  {
   "cell_type": "code",
   "execution_count": null,
   "id": "855bcf71",
   "metadata": {},
   "outputs": [],
   "source": [
    "# Set axis limits\n",
    "fig = plt.figure()\n",
    "ax = fig.add_axes([0,0,1,1])\n",
    "ax.plot(delivery_num,delivered, label = 'Delivered')\n",
    "\n",
    "ax.set_title(\"Vaccines\")\n",
    "ax.set_xlabel('Delivery Number')\n",
    "ax.set_ylabel('Units Delivered')\n",
    "\n",
    "ax.legend(loc = 'lower right') \n",
    "\n",
    "ax.set_xlim(20,40)\n",
    "ax.set_ylim(20,60)\n",
    "plt.show()"
   ]
  },
  {
   "cell_type": "code",
   "execution_count": null,
   "id": "33dede65",
   "metadata": {},
   "outputs": [],
   "source": [
    "# Color and marks\n",
    "fig = plt.figure()\n",
    "ax = fig.add_axes([0,0,1,1])\n",
    "ax.plot(delivery_num,delivered,'ys-', label = 'Delivered')\n",
    "# ax.plot(delivery_num,delivered, label = 'Delivered','ys-') This fails.\n",
    "\n",
    "ax.set_title(\"Vaccines\")\n",
    "ax.set_xlabel('Delivery Number')\n",
    "ax.set_ylabel('Units Delivered')\n",
    "\n",
    "ax.legend(loc = 'lower right') \n",
    "\n",
    "plt.show()"
   ]
  },
  {
   "cell_type": "markdown",
   "id": "a90dcdd4",
   "metadata": {},
   "source": [
    "#### Add a second plot to the axes"
   ]
  },
  {
   "cell_type": "code",
   "execution_count": null,
   "id": "08ef6cbb",
   "metadata": {},
   "outputs": [],
   "source": [
    "# Add a second line (a second plot)\n",
    "fig = plt.figure()\n",
    "ax = fig.add_axes([0,0,1,1])\n",
    "ax.plot(delivery_num,delivered,'ys-', label = 'Delivered')\n",
    "ax.plot(delivery_num,administered,'go--', label = 'Administered') # This is the 2nd line\n",
    "ax.set_title(\"Vaccines\")\n",
    "ax.set_xlabel('Delivery Number')\n",
    "ax.set_ylabel('Units')                  # Y label is changed\n",
    "ax.secondary_yaxis('right')\n",
    "\n",
    "ax.legend(loc = 'lower right') \n",
    "\n",
    "plt.show()"
   ]
  },
  {
   "cell_type": "markdown",
   "id": "2a9a4d15",
   "metadata": {},
   "source": [
    "### Customize the figure"
   ]
  },
  {
   "cell_type": "code",
   "execution_count": null,
   "id": "6924915b",
   "metadata": {},
   "outputs": [],
   "source": [
    "# Plot styles\n",
    "plt.style.available"
   ]
  },
  {
   "cell_type": "code",
   "execution_count": null,
   "id": "0a3a4d84",
   "metadata": {},
   "outputs": [],
   "source": [
    "# Plot styles\n",
    "plt.style.use('classic')\n",
    "fig = plt.figure()\n",
    "ax = fig.add_axes([0,0,1,1])\n",
    "ax.plot(delivery_num,delivered,'ys-', label = 'Delivered')\n",
    "ax.plot(delivery_num,administered,'go--', label = 'Administered') \n",
    "ax.set_title(\"Vaccines\")\n",
    "ax.set_xlabel('Delivery Number')\n",
    "ax.set_ylabel('Units')                  \n",
    "\n",
    "ax.legend(loc = 'lower right') \n",
    "\n",
    "plt.show()"
   ]
  },
  {
   "cell_type": "code",
   "execution_count": null,
   "id": "751dd6a8",
   "metadata": {},
   "outputs": [],
   "source": [
    "# Figure size and color\n",
    "fig = plt.figure( figsize = (15,5))\n",
    "#fig = plt.figure( figsize = (15,5), facecolor = 'red')\n",
    "ax = fig.add_axes([0,0,1,1])\n",
    "ax.plot(delivery_num,delivered,'ys-', label = 'Delivered')\n",
    "ax.plot(delivery_num,administered,'go--', label = 'Administered') \n",
    "ax.set_title(\"Vaccines\")\n",
    "ax.set_xlabel('Delivery Number')\n",
    "ax.set_ylabel('Units')                  \n",
    "ax.legend(loc = 'lower right') \n",
    "plt.show()"
   ]
  },
  {
   "cell_type": "markdown",
   "id": "98acce46",
   "metadata": {},
   "source": [
    "### A little more customization"
   ]
  },
  {
   "cell_type": "code",
   "execution_count": null,
   "id": "9052126d",
   "metadata": {},
   "outputs": [],
   "source": [
    "# Reference lines and reference bars\n",
    "plt.style.use('ggplot')\n",
    "fig = plt.figure( figsize = (15,5))\n",
    "ax = fig.add_axes([0,0,1,1])\n",
    "ax.plot(delivery_num,delivered,'ys-', label = 'Delivered')\n",
    "ax.plot(delivery_num,administered,'go--', label = 'Administered') \n",
    "ax.set_title(\"Vaccines\")\n",
    "ax.set_xlabel('Delivery Number')\n",
    "ax.set_ylabel('Units')                  \n",
    "ax.legend(loc = 'lower right') \n",
    "ax.grid(color = 'green',linestyle='-', linewidth=2)\n",
    "ax.axvline(x=43, color= 'r')\n",
    "ax.axvline(x=9, ymin=0.25, ymax=0.75, color = 'r')\n",
    "ax.axhspan(10,20, color = 'pink')"
   ]
  },
  {
   "cell_type": "markdown",
   "id": "dcf65b76",
   "metadata": {},
   "source": [
    "### Save to a file"
   ]
  },
  {
   "cell_type": "code",
   "execution_count": null,
   "id": "0780c901",
   "metadata": {},
   "outputs": [],
   "source": [
    "fig = plt.figure( figsize = (15,5))\n",
    "ax = fig.add_axes([0,0,1,1])\n",
    "ax.plot(delivery_num,delivered,'ys-', label = 'Delivered')\n",
    "ax.plot(delivery_num,administered,'go--', label = 'Administered')\n",
    "ax.set_title(\"Vaccines\")\n",
    "ax.set_xlabel('Delivery Number')\n",
    "ax.set_ylabel('Units')                 \n",
    "ax.legend(loc = 'lower right') \n",
    "plt.savefig('Deliveries', transparent=True)\n",
    "plt.savefig('Deliveries') # default is .png\n",
    "plt.savefig('Deliveries.jpg')\n",
    "plt.savefig('Deliveries.svg')\n",
    "plt.savefig('Deliveries.pdf')\n",
    "plt.show()"
   ]
  },
  {
   "cell_type": "markdown",
   "id": "17353701",
   "metadata": {},
   "source": [
    "[Go here for the life cycle of a plot](https://matplotlib.org/stable/tutorials/introductory/lifecycle.html#sphx-glr-tutorials-introductory-lifecycle-py)"
   ]
  },
  {
   "cell_type": "markdown",
   "id": "35e190b3",
   "metadata": {},
   "source": [
    "## Exercise 1 - 10 minutes\n",
    "\n",
    "Links:\n",
    "- Horizontal bar chart: https://matplotlib.org/stable/gallery/lines_bars_and_markers/barh.html#sphx-glr-gallery-lines-bars-and-markers-barh-py\n",
    "- Figures: https://matplotlib.org/stable/api/figure_api.html\n",
    "\n",
    "To do:\n",
    "- Create a horizontal bar chart using the data below.\n",
    "- Make the chart width approx. 3x the height.\n",
    "- Make the bar color green.\n",
    "- Only display the x-axis from 80 to 140\n",
    "- Read about annotating\n",
    "    - https://matplotlib.org/stable/tutorials/text/annotations.html#sphx-glr-tutorials-text-annotations-py\n",
    "\n",
    "\n"
   ]
  },
  {
   "cell_type": "code",
   "execution_count": null,
   "id": "6828af26",
   "metadata": {},
   "outputs": [],
   "source": [
    "# Exercise data\n",
    "data = {'ME': 109,\n",
    "        'NH': 103,\n",
    "        'VT': 112,\n",
    "        'MA': 112,\n",
    "        'CT': 100,\n",
    "        'RI': 103,\n",
    "        'NY': 137,\n",
    "        'NY': 123,\n",
    "        'PA': 135,\n",
    "        'OH': 104}\n",
    "food_illness = list(data.values())\n",
    "state = list(data.keys())\n",
    "state_mean = np.mean(food_illness)"
   ]
  },
  {
   "cell_type": "code",
   "execution_count": null,
   "id": "8c3d69f1",
   "metadata": {},
   "outputs": [],
   "source": [
    "# Exercise 1 Solution"
   ]
  },
  {
   "cell_type": "markdown",
   "id": "9337ffdc",
   "metadata": {},
   "source": [
    "# A Survey of Plot Types"
   ]
  },
  {
   "cell_type": "code",
   "execution_count": null,
   "id": "d22dca5e",
   "metadata": {},
   "outputs": [],
   "source": [
    "# create random data\n",
    "no_of_points = 25\n",
    "x = [random.triangular() for i in range(no_of_points)]\n",
    "y = [random.gauss(0.5, 0.25) for i in range(no_of_points)]\n",
    "colors = [random.randint(1, 4) for i in range(no_of_points)]\n",
    "areas = [math.pi * random.randint(5, 15)**2 for i in range(no_of_points)]"
   ]
  },
  {
   "cell_type": "code",
   "execution_count": null,
   "id": "300f0539",
   "metadata": {},
   "outputs": [],
   "source": [
    "# OO Inteface\n",
    "fig = plt.figure( figsize = (15,5))\n",
    "ax = fig.add_axes([0,0,1,1])\n",
    "ax.boxplot(food_illness, showmeans = True)\n",
    "plt.show()"
   ]
  },
  {
   "cell_type": "markdown",
   "id": "86555b20",
   "metadata": {},
   "source": [
    "## Using the pyplot interface"
   ]
  },
  {
   "cell_type": "markdown",
   "id": "e4481852",
   "metadata": {},
   "source": [
    "#### Boxplot"
   ]
  },
  {
   "cell_type": "code",
   "execution_count": null,
   "id": "3f563584",
   "metadata": {},
   "outputs": [],
   "source": [
    "plt.boxplot(food_illness, showmeans=True)\n",
    "plt.show()"
   ]
  },
  {
   "cell_type": "markdown",
   "id": "6f5e6b2d",
   "metadata": {},
   "source": [
    "#### Scatterplot"
   ]
  },
  {
   "cell_type": "code",
   "execution_count": null,
   "id": "0db8990f",
   "metadata": {},
   "outputs": [],
   "source": [
    "plt.scatter(x,y, s=areas, c=colors, alpha=0.4)\n",
    "plt.title('Intersection of x and y')\n",
    "plt.xlabel('Data on the x-axis')\n",
    "plt.ylabel('Data on the y-axis')\n",
    "plt.show()"
   ]
  },
  {
   "cell_type": "markdown",
   "id": "245479ba",
   "metadata": {},
   "source": [
    "#### Bar"
   ]
  },
  {
   "cell_type": "code",
   "execution_count": null,
   "id": "66c9546b",
   "metadata": {},
   "outputs": [],
   "source": [
    "names = ['Georgia', 'Denver', 'Pheonix']\n",
    "values = [1000, 900, 1200]\n",
    "\n",
    "plt.bar(names, values)\n",
    "plt.show()"
   ]
  },
  {
   "cell_type": "markdown",
   "id": "d23f383a",
   "metadata": {},
   "source": [
    "#### Bar Horizontal"
   ]
  },
  {
   "cell_type": "code",
   "execution_count": null,
   "id": "951e3b26",
   "metadata": {},
   "outputs": [],
   "source": [
    "names = ['Georgia', 'Denver', 'Pheonix']\n",
    "values = [1000, 900, 1200]\n",
    "\n",
    "plt.barh(names, sorted(values))\n",
    "plt.show()"
   ]
  },
  {
   "cell_type": "markdown",
   "id": "018f0ea6",
   "metadata": {},
   "source": [
    "## Exercise 2 - 5 minutes\n",
    "- Using the data below (variable is called data), create a histogram\n",
    "- Can you change the number of bins?"
   ]
  },
  {
   "cell_type": "code",
   "execution_count": null,
   "id": "b3369095",
   "metadata": {},
   "outputs": [],
   "source": [
    "data = np.random.randn(100)\n",
    "#data"
   ]
  },
  {
   "cell_type": "code",
   "execution_count": 1,
   "id": "dbcc9677",
   "metadata": {},
   "outputs": [],
   "source": [
    "# Exercise 2 Solution"
   ]
  },
  {
   "cell_type": "markdown",
   "id": "a2ce6cd6",
   "metadata": {},
   "source": [
    "## Exercise 3 - 10 minutes\n",
    "- Recreate the chart below.\n",
    "- The line chart shows c and d.\n",
    "- The bar chart shows a and b.\n",
    "- Use the documentation to place the legend."
   ]
  },
  {
   "cell_type": "markdown",
   "id": "b72a40c6",
   "metadata": {},
   "source": [
    "<img src=\"https://drive.google.com/uc?id=1AitzYiwZVQOF3xEuR4XOpitNEteyoaRM\" width=400 />"
   ]
  },
  {
   "cell_type": "code",
   "execution_count": null,
   "id": "5b0c9d33",
   "metadata": {},
   "outputs": [],
   "source": [
    "c = np.linspace(0, 5, 5)\n",
    "d = np.linspace(0, 5, 5)\n",
    "a = [1,2,3]\n",
    "b = [3,4,5]"
   ]
  },
  {
   "cell_type": "code",
   "execution_count": 2,
   "id": "ee1d0149",
   "metadata": {},
   "outputs": [],
   "source": [
    "# Exercise 3 Solution"
   ]
  },
  {
   "cell_type": "markdown",
   "id": "ad1c5d6f",
   "metadata": {},
   "source": [
    "# Multiple Axes in a Figure"
   ]
  },
  {
   "cell_type": "markdown",
   "id": "ee55a3aa",
   "metadata": {},
   "source": [
    "<img src=\"https://drive.google.com/uc?id=1Al1Mlaketi9Ri0huerbh1t3hzr00TfVi\" width=1200 />"
   ]
  },
  {
   "cell_type": "markdown",
   "id": "ba758d58",
   "metadata": {},
   "source": [
    "## add_axes() vs. add_subplot()"
   ]
  },
  {
   "cell_type": "markdown",
   "id": "8ccff79b",
   "metadata": {},
   "source": [
    "The difference between fig.add_axes() and fig.add_subplot() is the mechanisms used.  For add_axes() a list is passd in specifiying the the position of the axes (left, botton,width, height).  This means that the axes object is positioned in **absolute coordinates**.\n",
    "\n",
    "The add_subplot() function does not permit explicit positioning.  Rather, the axes is positioned according to a subplot grid.\n",
    "\n",
    "In most cases, add_subplot() is used.  In cases where positioning matters, add_axes() is used. fig = \n",
    "\n",
    "\n",
    "\n",
    "https://matplotlib.org/stable/tutorials/intermediate/arranging_axes.html#sphx-glr-tutorials-intermediate-arranging-axes-py"
   ]
  },
  {
   "cell_type": "markdown",
   "id": "b9b9c40f",
   "metadata": {},
   "source": [
    "## Using .add_axes( )"
   ]
  },
  {
   "cell_type": "code",
   "execution_count": null,
   "id": "10f0c792",
   "metadata": {},
   "outputs": [],
   "source": [
    "plt.style.use('classic')"
   ]
  },
  {
   "cell_type": "code",
   "execution_count": null,
   "id": "94644021",
   "metadata": {},
   "outputs": [],
   "source": [
    "fig = plt.figure(facecolor='white')\n",
    "ax1 = fig.add_axes([0,0,1,1])  # left, bottom, width, height\n",
    "ax2 = fig.add_axes([0.15, 0.1, 0.7, 0.3])"
   ]
  },
  {
   "cell_type": "code",
   "execution_count": null,
   "id": "b9df2f27",
   "metadata": {},
   "outputs": [],
   "source": [
    "fig = plt.figure(facecolor='white')\n",
    "ax1 = fig.add_axes([0,0,0.49,0.49])  # left, bottom, width, height\n",
    "ax2 = fig.add_axes([0.5, 0.5, 0.7, 0.3])"
   ]
  },
  {
   "cell_type": "code",
   "execution_count": null,
   "id": "238b375d",
   "metadata": {},
   "outputs": [],
   "source": [
    "# Where is the axes on the figure?\n",
    "\n",
    "fig = plt.figure()\n",
    "fig.set_facecolor('lightblue')\n",
    "\n",
    "ax = fig.add_axes([0,0,1,1])     # left, bottom, width, height\n",
    "ax.set_facecolor('blue')\n",
    "\n",
    "# fig = plt.figure(facecolor = 'lightblue')  # The pyplot syntax can still be used"
   ]
  },
  {
   "cell_type": "markdown",
   "id": "3d757637",
   "metadata": {},
   "source": [
    "## Using add_subplot( )"
   ]
  },
  {
   "cell_type": "code",
   "execution_count": null,
   "id": "7abb8e4e",
   "metadata": {},
   "outputs": [],
   "source": [
    "x = np.linspace(0, 1, 5)\n",
    "y = np.linspace(0, 5, 5)"
   ]
  },
  {
   "cell_type": "code",
   "execution_count": null,
   "id": "de30c5c6",
   "metadata": {},
   "outputs": [],
   "source": [
    "fig = plt.figure()\n",
    "ax = fig.add_subplot(111)\n",
    "ax = ax.plot(x,y,'ys-')"
   ]
  },
  {
   "cell_type": "code",
   "execution_count": null,
   "id": "26fbf544",
   "metadata": {},
   "outputs": [],
   "source": [
    "# Initialize the plot\n",
    "fig = plt.figure(figsize=(20,10))\n",
    "ax1 = fig.add_subplot(2,2,1)\n",
    "ax2 = fig.add_subplot(222)\n",
    "ax3 = fig.add_subplot(223)\n",
    "ax4 = fig.add_subplot(224)\n",
    "\n",
    "ax3.set_facecolor('blue')\n",
    "# Show the plot\n",
    "# plt.show()"
   ]
  },
  {
   "cell_type": "code",
   "execution_count": null,
   "id": "5d76f623",
   "metadata": {},
   "outputs": [],
   "source": [
    "# Initialize the plot\n",
    "fig = plt.figure(figsize=(20,10),facecolor='white')\n",
    "ax1 = fig.add_subplot(2,2,1)\n",
    "ax2 = fig.add_subplot(222)\n",
    "ax3 = fig.add_subplot(223)\n",
    "ax4 = fig.add_subplot(224)\n",
    "\n",
    "ax3.set_facecolor('blue')\n",
    "\n",
    "# Plot the data\n",
    "ax1.bar([1,2,3],[3,4,5])\n",
    "ax2.barh([0.5,1,2.5],[0,1,2])\n",
    "ax3.plot(x,y,'ys-')\n",
    "\n",
    "plt.show()"
   ]
  },
  {
   "cell_type": "markdown",
   "id": "572923ab",
   "metadata": {},
   "source": [
    "## Exercise 4 - 10 minutes\n",
    "Using the data below, recreate the figure shown using subplots.  Add plot titles.\n",
    "\n",
    "- names = 'Georgia', 'Denver', 'Pheonix'\n",
    "- values = 1000, 900, 1200\n",
    "- dts = '1/1/2021', '1/2/2021','1/3/2021'\n",
    "\n",
    "<img src=\"https://drive.google.com/uc?id=1hEimEhffpAC8OOM58mlG8MdMTjliaSLf\" width=600 />"
   ]
  },
  {
   "cell_type": "code",
   "execution_count": null,
   "id": "7dd7f9ae",
   "metadata": {},
   "outputs": [],
   "source": [
    "# Exercise 4 Solution Here.\n",
    "\n",
    "import numpy as np\n",
    "import matplotlib.pyplot as plt\n",
    "\n",
    "names = ['Georgia', 'Denver', 'Pheonix']\n",
    "values = [1000, 900, 1200]\n",
    "dts = ['1/1/2021', '1/2/2021','1/3/2021']\n"
   ]
  },
  {
   "cell_type": "code",
   "execution_count": null,
   "id": "37955cac",
   "metadata": {},
   "outputs": [],
   "source": [
    "# Exercise 4 Solution Here.\n"
   ]
  },
  {
   "cell_type": "markdown",
   "id": "b6f6052e",
   "metadata": {},
   "source": [
    "## Exercise 5 - 15 minutes\n",
    "\n",
    "In \n",
    "- position 1 add a boxplot using y\n",
    "- position 2 add a scatterplot using x and data\n",
    "- position 3 add a pie chart of x\n",
    "- position 4 add a violin plot using y"
   ]
  },
  {
   "cell_type": "code",
   "execution_count": null,
   "id": "a5d553b7",
   "metadata": {},
   "outputs": [],
   "source": [
    "# Data for Exercise 5\n",
    "x = np.linspace(0, 100, 100)\n",
    "y = [np.random.normal(0, std, size=100) for std in range(1, 4)]\n",
    "z = np.linspace(100, 200, 100)\n",
    "data = np.random.randn(100)"
   ]
  },
  {
   "cell_type": "code",
   "execution_count": 3,
   "id": "8b9b6d7d",
   "metadata": {},
   "outputs": [],
   "source": [
    "# Exercise 5 Solution"
   ]
  },
  {
   "cell_type": "code",
   "execution_count": null,
   "id": "ba8a6a89",
   "metadata": {},
   "outputs": [],
   "source": []
  }
 ],
 "metadata": {
  "kernelspec": {
   "display_name": "Python 3 (ipykernel)",
   "language": "python",
   "name": "python3"
  },
  "language_info": {
   "codemirror_mode": {
    "name": "ipython",
    "version": 3
   },
   "file_extension": ".py",
   "mimetype": "text/x-python",
   "name": "python",
   "nbconvert_exporter": "python",
   "pygments_lexer": "ipython3",
   "version": "3.9.7"
  },
  "toc": {
   "base_numbering": 1,
   "nav_menu": {},
   "number_sections": false,
   "sideBar": true,
   "skip_h1_title": false,
   "title_cell": "Table of Contents",
   "title_sidebar": "Contents",
   "toc_cell": false,
   "toc_position": {
    "height": "calc(100% - 180px)",
    "left": "10px",
    "top": "150px",
    "width": "259.594px"
   },
   "toc_section_display": true,
   "toc_window_display": false
  },
  "varInspector": {
   "cols": {
    "lenName": 16,
    "lenType": 16,
    "lenVar": 40
   },
   "kernels_config": {
    "python": {
     "delete_cmd_postfix": "",
     "delete_cmd_prefix": "del ",
     "library": "var_list.py",
     "varRefreshCmd": "print(var_dic_list())"
    },
    "r": {
     "delete_cmd_postfix": ") ",
     "delete_cmd_prefix": "rm(",
     "library": "var_list.r",
     "varRefreshCmd": "cat(var_dic_list()) "
    }
   },
   "position": {
    "height": "294.844px",
    "left": "1178px",
    "right": "20px",
    "top": "120px",
    "width": "350px"
   },
   "types_to_exclude": [
    "module",
    "function",
    "builtin_function_or_method",
    "instance",
    "_Feature"
   ],
   "window_display": false
  }
 },
 "nbformat": 4,
 "nbformat_minor": 5
}
