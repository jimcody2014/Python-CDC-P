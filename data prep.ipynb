{
 "cells": [
  {
   "cell_type": "markdown",
   "metadata": {
    "toc": true
   },
   "source": [
    "<h1>Table of Contents<span class=\"tocSkip\"></span></h1>\n",
    "<div class=\"toc\"><ul class=\"toc-item\"></ul></div>"
   ]
  },
  {
   "cell_type": "code",
   "execution_count": 6,
   "metadata": {},
   "outputs": [
    {
     "data": {
      "text/plain": [
       "<Figure size 1440x1440 with 0 Axes>"
      ]
     },
     "execution_count": 6,
     "metadata": {},
     "output_type": "execute_result"
    },
    {
     "data": {
      "text/plain": [
       "<Figure size 1440x1440 with 0 Axes>"
      ]
     },
     "metadata": {},
     "output_type": "display_data"
    }
   ],
   "source": [
    "import numpy as np\n",
    "import pandas as pd\n",
    "import seaborn as sns\n",
    "import statsmodels.api as sm\n",
    "import matplotlib.pyplot as plt\n",
    "%matplotlib inline\n",
    "# from scipy.stats import pearsonr\n",
    "import scipy.stats as stats \n",
    "from sklearn import preprocessing\n",
    "\n",
    "plt.figure(figsize=(20, 20))"
   ]
  },
  {
   "cell_type": "code",
   "execution_count": null,
   "metadata": {},
   "outputs": [],
   "source": []
  },
  {
   "cell_type": "code",
   "execution_count": 83,
   "metadata": {},
   "outputs": [],
   "source": [
    "# DO NOT CHANGE\n",
    "\n",
    "# df = pd.read_csv('/kaggle/input/places-measures/Final CDC All PLACES Measures.csv')\n",
    "dfAR = pd.read_csv('/Users/jimcody/Documents/DataUsedPython/UIAR.csv',\n",
    "                   usecols=['fips','2019','median_hh_income','pct_state_median_income'])\n",
    "dfGA = pd.read_csv('/Users/jimcody/Documents/DataUsedPython/UIGA.csv',\n",
    "                   usecols=['fips','2019','median_hh_income','pct_state_median_income'])\n",
    "dfTN = pd.read_csv('/Users/jimcody/Documents/DataUsedPython/UITN.csv',\n",
    "                   usecols=['fips','2019','median_hh_income','pct_state_median_income'])\n",
    "dfTX = pd.read_csv('/Users/jimcody/Documents/DataUsedPython/UITX.csv',\n",
    "                   usecols=['fips','2019','median_hh_income','pct_state_median_income'])\n",
    "dfPL = pd.read_csv('/Users/jimcody/Documents/DataUsedPython/PLACES_M.csv', \n",
    "                   usecols = ['StateAbbr','StateDesc','CountyName','fips','TotalPopulation',\n",
    "                              'harthritis','hbphigh','hcancer','hhighchol','hkidney','hcopd','hchd','hdiabetes',\n",
    "                              'hmhlth','hphlth','hteethlost','hstroke'])\n",
    "dfPL = pd.read_csv('/Users/jimcody/Documents/DataUsedPython/ACS_county_data.csv', \n",
    "                   usecols = ['CountyID','StateDesc','CountyName','fips','TotalPopulation',\n",
    "                              'harthritis','hbphigh','hcancer','hhighchol','hkidney','hcopd','hchd','hdiabetes',\n",
    "                              'hmhlth','hphlth','hteethlost','hstroke'])"
   ]
  },
  {
   "cell_type": "code",
   "execution_count": 84,
   "metadata": {},
   "outputs": [],
   "source": [
    "dfUI = dfAR.append([dfGA, dfTN, dfTX])"
   ]
  },
  {
   "cell_type": "code",
   "execution_count": 85,
   "metadata": {},
   "outputs": [],
   "source": [
    "dfUI.rename(columns = {\"2019\": \"2019UI%\"}, \n",
    "          inplace = True)"
   ]
  },
  {
   "cell_type": "code",
   "execution_count": 86,
   "metadata": {},
   "outputs": [
    {
     "data": {
      "text/plain": [
       "(588, 4)"
      ]
     },
     "execution_count": 86,
     "metadata": {},
     "output_type": "execute_result"
    }
   ],
   "source": [
    "dfUI.shape"
   ]
  },
  {
   "cell_type": "code",
   "execution_count": 87,
   "metadata": {},
   "outputs": [
    {
     "data": {
      "text/plain": [
       "(3142, 17)"
      ]
     },
     "execution_count": 87,
     "metadata": {},
     "output_type": "execute_result"
    }
   ],
   "source": [
    "dfPL.shape"
   ]
  },
  {
   "cell_type": "code",
   "execution_count": 88,
   "metadata": {},
   "outputs": [
    {
     "data": {
      "text/html": [
       "<div>\n",
       "<style scoped>\n",
       "    .dataframe tbody tr th:only-of-type {\n",
       "        vertical-align: middle;\n",
       "    }\n",
       "\n",
       "    .dataframe tbody tr th {\n",
       "        vertical-align: top;\n",
       "    }\n",
       "\n",
       "    .dataframe thead th {\n",
       "        text-align: right;\n",
       "    }\n",
       "</style>\n",
       "<table border=\"1\" class=\"dataframe\">\n",
       "  <thead>\n",
       "    <tr style=\"text-align: right;\">\n",
       "      <th></th>\n",
       "      <th>fips</th>\n",
       "      <th>2019UI%</th>\n",
       "      <th>median_hh_income</th>\n",
       "      <th>pct_state_median_income</th>\n",
       "    </tr>\n",
       "  </thead>\n",
       "  <tbody>\n",
       "    <tr>\n",
       "      <th>255</th>\n",
       "      <td>48507</td>\n",
       "      <td>8.5</td>\n",
       "      <td>$32,538</td>\n",
       "      <td>50.80%</td>\n",
       "    </tr>\n",
       "  </tbody>\n",
       "</table>\n",
       "</div>"
      ],
      "text/plain": [
       "      fips  2019UI% median_hh_income pct_state_median_income\n",
       "255  48507      8.5         $32,538                   50.80%"
      ]
     },
     "execution_count": 88,
     "metadata": {},
     "output_type": "execute_result"
    }
   ],
   "source": [
    "dfUI.loc[dfUI.duplicated()]"
   ]
  },
  {
   "cell_type": "code",
   "execution_count": 89,
   "metadata": {},
   "outputs": [],
   "source": [
    "# This will drop all duplicate rows\n",
    "\n",
    "dfUI.drop_duplicates(keep = 'first', inplace = True) \n",
    "\n",
    "# keep - which duplicate to keep, default is none!"
   ]
  },
  {
   "cell_type": "code",
   "execution_count": 90,
   "metadata": {},
   "outputs": [
    {
     "data": {
      "text/html": [
       "<div>\n",
       "<style scoped>\n",
       "    .dataframe tbody tr th:only-of-type {\n",
       "        vertical-align: middle;\n",
       "    }\n",
       "\n",
       "    .dataframe tbody tr th {\n",
       "        vertical-align: top;\n",
       "    }\n",
       "\n",
       "    .dataframe thead th {\n",
       "        text-align: right;\n",
       "    }\n",
       "</style>\n",
       "<table border=\"1\" class=\"dataframe\">\n",
       "  <thead>\n",
       "    <tr style=\"text-align: right;\">\n",
       "      <th></th>\n",
       "      <th>StateAbbr</th>\n",
       "      <th>StateDesc</th>\n",
       "      <th>CountyName</th>\n",
       "      <th>fips</th>\n",
       "      <th>TotalPopulation</th>\n",
       "      <th>harthritis</th>\n",
       "      <th>hbphigh</th>\n",
       "      <th>hcancer</th>\n",
       "      <th>hhighchol</th>\n",
       "      <th>hkidney</th>\n",
       "      <th>hcopd</th>\n",
       "      <th>hchd</th>\n",
       "      <th>hdiabetes</th>\n",
       "      <th>hmhlth</th>\n",
       "      <th>hphlth</th>\n",
       "      <th>hteethlost</th>\n",
       "      <th>hstroke</th>\n",
       "    </tr>\n",
       "  </thead>\n",
       "  <tbody>\n",
       "  </tbody>\n",
       "</table>\n",
       "</div>"
      ],
      "text/plain": [
       "Empty DataFrame\n",
       "Columns: [StateAbbr, StateDesc, CountyName, fips, TotalPopulation, harthritis, hbphigh, hcancer, hhighchol, hkidney, hcopd, hchd, hdiabetes, hmhlth, hphlth, hteethlost, hstroke]\n",
       "Index: []"
      ]
     },
     "execution_count": 90,
     "metadata": {},
     "output_type": "execute_result"
    }
   ],
   "source": [
    "dfPL.loc[dfPL.duplicated()]"
   ]
  },
  {
   "cell_type": "code",
   "execution_count": 91,
   "metadata": {},
   "outputs": [],
   "source": [
    "dfFULL = pd.merge(dfUI, dfPL, how=\"inner\", on='fips')"
   ]
  },
  {
   "cell_type": "code",
   "execution_count": 92,
   "metadata": {},
   "outputs": [
    {
     "data": {
      "text/plain": [
       "(583, 20)"
      ]
     },
     "execution_count": 92,
     "metadata": {},
     "output_type": "execute_result"
    }
   ],
   "source": [
    "dfFULL.shape"
   ]
  },
  {
   "cell_type": "code",
   "execution_count": 93,
   "metadata": {},
   "outputs": [
    {
     "data": {
      "text/html": [
       "<div>\n",
       "<style scoped>\n",
       "    .dataframe tbody tr th:only-of-type {\n",
       "        vertical-align: middle;\n",
       "    }\n",
       "\n",
       "    .dataframe tbody tr th {\n",
       "        vertical-align: top;\n",
       "    }\n",
       "\n",
       "    .dataframe thead th {\n",
       "        text-align: right;\n",
       "    }\n",
       "</style>\n",
       "<table border=\"1\" class=\"dataframe\">\n",
       "  <thead>\n",
       "    <tr style=\"text-align: right;\">\n",
       "      <th></th>\n",
       "      <th>fips</th>\n",
       "      <th>2019UI%</th>\n",
       "      <th>median_hh_income</th>\n",
       "      <th>pct_state_median_income</th>\n",
       "      <th>StateAbbr</th>\n",
       "      <th>StateDesc</th>\n",
       "      <th>CountyName</th>\n",
       "      <th>TotalPopulation</th>\n",
       "      <th>harthritis</th>\n",
       "      <th>hbphigh</th>\n",
       "      <th>hcancer</th>\n",
       "      <th>hhighchol</th>\n",
       "      <th>hkidney</th>\n",
       "      <th>hcopd</th>\n",
       "      <th>hchd</th>\n",
       "      <th>hdiabetes</th>\n",
       "      <th>hmhlth</th>\n",
       "      <th>hphlth</th>\n",
       "      <th>hteethlost</th>\n",
       "      <th>hstroke</th>\n",
       "    </tr>\n",
       "  </thead>\n",
       "  <tbody>\n",
       "    <tr>\n",
       "      <th>0</th>\n",
       "      <td>5001</td>\n",
       "      <td>3.0</td>\n",
       "      <td>$52,539</td>\n",
       "      <td>107.20%</td>\n",
       "      <td>AR</td>\n",
       "      <td>Arkansas</td>\n",
       "      <td>Arkansas</td>\n",
       "      <td>17769</td>\n",
       "      <td>35.5</td>\n",
       "      <td>44.2</td>\n",
       "      <td>8.1</td>\n",
       "      <td>39.4</td>\n",
       "      <td>3.9</td>\n",
       "      <td>10.8</td>\n",
       "      <td>10.3</td>\n",
       "      <td>15.5</td>\n",
       "      <td>16.0</td>\n",
       "      <td>18.7</td>\n",
       "      <td>22.6</td>\n",
       "      <td>5.0</td>\n",
       "    </tr>\n",
       "    <tr>\n",
       "      <th>1</th>\n",
       "      <td>5003</td>\n",
       "      <td>5.4</td>\n",
       "      <td>$47,744</td>\n",
       "      <td>97.40%</td>\n",
       "      <td>AR</td>\n",
       "      <td>Arkansas</td>\n",
       "      <td>Ashley</td>\n",
       "      <td>20046</td>\n",
       "      <td>36.1</td>\n",
       "      <td>44.8</td>\n",
       "      <td>8.2</td>\n",
       "      <td>39.1</td>\n",
       "      <td>4.1</td>\n",
       "      <td>11.4</td>\n",
       "      <td>10.8</td>\n",
       "      <td>16.4</td>\n",
       "      <td>16.5</td>\n",
       "      <td>19.0</td>\n",
       "      <td>24.8</td>\n",
       "      <td>5.3</td>\n",
       "    </tr>\n",
       "    <tr>\n",
       "      <th>2</th>\n",
       "      <td>5005</td>\n",
       "      <td>4.0</td>\n",
       "      <td>$41,950</td>\n",
       "      <td>85.60%</td>\n",
       "      <td>AR</td>\n",
       "      <td>Arkansas</td>\n",
       "      <td>Baxter</td>\n",
       "      <td>41619</td>\n",
       "      <td>39.4</td>\n",
       "      <td>44.0</td>\n",
       "      <td>10.4</td>\n",
       "      <td>42.6</td>\n",
       "      <td>4.0</td>\n",
       "      <td>11.3</td>\n",
       "      <td>11.8</td>\n",
       "      <td>14.5</td>\n",
       "      <td>13.7</td>\n",
       "      <td>17.4</td>\n",
       "      <td>19.9</td>\n",
       "      <td>5.0</td>\n",
       "    </tr>\n",
       "    <tr>\n",
       "      <th>3</th>\n",
       "      <td>5007</td>\n",
       "      <td>2.6</td>\n",
       "      <td>$70,775</td>\n",
       "      <td>144.40%</td>\n",
       "      <td>AR</td>\n",
       "      <td>Arkansas</td>\n",
       "      <td>Benton</td>\n",
       "      <td>272608</td>\n",
       "      <td>25.8</td>\n",
       "      <td>30.7</td>\n",
       "      <td>6.9</td>\n",
       "      <td>32.4</td>\n",
       "      <td>2.6</td>\n",
       "      <td>7.0</td>\n",
       "      <td>7.1</td>\n",
       "      <td>10.4</td>\n",
       "      <td>13.6</td>\n",
       "      <td>13.2</td>\n",
       "      <td>15.9</td>\n",
       "      <td>3.0</td>\n",
       "    </tr>\n",
       "    <tr>\n",
       "      <th>4</th>\n",
       "      <td>5009</td>\n",
       "      <td>3.2</td>\n",
       "      <td>$50,083</td>\n",
       "      <td>102.20%</td>\n",
       "      <td>AR</td>\n",
       "      <td>Arkansas</td>\n",
       "      <td>Boone</td>\n",
       "      <td>37480</td>\n",
       "      <td>35.7</td>\n",
       "      <td>39.9</td>\n",
       "      <td>8.6</td>\n",
       "      <td>38.8</td>\n",
       "      <td>3.5</td>\n",
       "      <td>10.5</td>\n",
       "      <td>10.1</td>\n",
       "      <td>12.9</td>\n",
       "      <td>15.5</td>\n",
       "      <td>17.1</td>\n",
       "      <td>21.0</td>\n",
       "      <td>4.3</td>\n",
       "    </tr>\n",
       "  </tbody>\n",
       "</table>\n",
       "</div>"
      ],
      "text/plain": [
       "   fips  2019UI% median_hh_income pct_state_median_income StateAbbr StateDesc  \\\n",
       "0  5001      3.0         $52,539                  107.20%        AR  Arkansas   \n",
       "1  5003      5.4         $47,744                   97.40%        AR  Arkansas   \n",
       "2  5005      4.0         $41,950                   85.60%        AR  Arkansas   \n",
       "3  5007      2.6         $70,775                  144.40%        AR  Arkansas   \n",
       "4  5009      3.2         $50,083                  102.20%        AR  Arkansas   \n",
       "\n",
       "  CountyName  TotalPopulation  harthritis  hbphigh  hcancer  hhighchol  \\\n",
       "0   Arkansas            17769        35.5     44.2      8.1       39.4   \n",
       "1     Ashley            20046        36.1     44.8      8.2       39.1   \n",
       "2     Baxter            41619        39.4     44.0     10.4       42.6   \n",
       "3     Benton           272608        25.8     30.7      6.9       32.4   \n",
       "4      Boone            37480        35.7     39.9      8.6       38.8   \n",
       "\n",
       "   hkidney  hcopd  hchd  hdiabetes  hmhlth  hphlth  hteethlost  hstroke  \n",
       "0      3.9   10.8  10.3       15.5    16.0    18.7        22.6      5.0  \n",
       "1      4.1   11.4  10.8       16.4    16.5    19.0        24.8      5.3  \n",
       "2      4.0   11.3  11.8       14.5    13.7    17.4        19.9      5.0  \n",
       "3      2.6    7.0   7.1       10.4    13.6    13.2        15.9      3.0  \n",
       "4      3.5   10.5  10.1       12.9    15.5    17.1        21.0      4.3  "
      ]
     },
     "execution_count": 93,
     "metadata": {},
     "output_type": "execute_result"
    }
   ],
   "source": [
    "dfFULL.head()"
   ]
  },
  {
   "cell_type": "code",
   "execution_count": null,
   "metadata": {},
   "outputs": [],
   "source": [
    "# Are there any columns that are numeric that I want to treat as string?\n",
    "dfFull.info"
   ]
  },
  {
   "cell_type": "code",
   "execution_count": null,
   "metadata": {},
   "outputs": [],
   "source": []
  },
  {
   "cell_type": "code",
   "execution_count": null,
   "metadata": {},
   "outputs": [],
   "source": []
  },
  {
   "cell_type": "code",
   "execution_count": null,
   "metadata": {},
   "outputs": [],
   "source": []
  }
 ],
 "metadata": {
  "kernelspec": {
   "display_name": "Python 3 (ipykernel)",
   "language": "python",
   "name": "python3"
  },
  "language_info": {
   "codemirror_mode": {
    "name": "ipython",
    "version": 3
   },
   "file_extension": ".py",
   "mimetype": "text/x-python",
   "name": "python",
   "nbconvert_exporter": "python",
   "pygments_lexer": "ipython3",
   "version": "3.9.13"
  },
  "toc": {
   "base_numbering": 1,
   "nav_menu": {},
   "number_sections": true,
   "sideBar": true,
   "skip_h1_title": false,
   "title_cell": "Table of Contents",
   "title_sidebar": "Contents",
   "toc_cell": true,
   "toc_position": {
    "height": "calc(100% - 180px)",
    "left": "10px",
    "top": "150px",
    "width": "165px"
   },
   "toc_section_display": true,
   "toc_window_display": true
  },
  "varInspector": {
   "cols": {
    "lenName": 16,
    "lenType": 16,
    "lenVar": 40
   },
   "kernels_config": {
    "python": {
     "delete_cmd_postfix": "",
     "delete_cmd_prefix": "del ",
     "library": "var_list.py",
     "varRefreshCmd": "print(var_dic_list())"
    },
    "r": {
     "delete_cmd_postfix": ") ",
     "delete_cmd_prefix": "rm(",
     "library": "var_list.r",
     "varRefreshCmd": "cat(var_dic_list()) "
    }
   },
   "types_to_exclude": [
    "module",
    "function",
    "builtin_function_or_method",
    "instance",
    "_Feature"
   ],
   "window_display": false
  }
 },
 "nbformat": 4,
 "nbformat_minor": 4
}
