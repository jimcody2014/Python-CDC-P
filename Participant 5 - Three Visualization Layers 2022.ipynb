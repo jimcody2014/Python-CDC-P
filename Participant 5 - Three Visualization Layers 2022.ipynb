{
 "cells": [
  {
   "cell_type": "markdown",
   "id": "af9edcc7",
   "metadata": {
    "toc": true
   },
   "source": [
    "<h1>Table of Contents<span class=\"tocSkip\"></span></h1>\n",
    "<div class=\"toc\"><ul class=\"toc-item\"><li><span><a href=\"#Workflow-and-Chart-Layers\" data-toc-modified-id=\"Workflow-and-Chart-Layers-1\"><span class=\"toc-item-num\">1&nbsp;&nbsp;</span>Workflow and Chart Layers</a></span><ul class=\"toc-item\"><li><span><a href=\"#Get-all-the-observations-(rows)-for-2007\" data-toc-modified-id=\"Get-all-the-observations-(rows)-for-2007-1.1\"><span class=\"toc-item-num\">1.1&nbsp;&nbsp;</span>Get all the observations (rows) for 2007</a></span></li><li><span><a href=\"#Create-the-summary-data\" data-toc-modified-id=\"Create-the-summary-data-1.2\"><span class=\"toc-item-num\">1.2&nbsp;&nbsp;</span>Create the summary data</a></span></li><li><span><a href=\"#Creating-the-Chart-Layer\" data-toc-modified-id=\"Creating-the-Chart-Layer-1.3\"><span class=\"toc-item-num\">1.3&nbsp;&nbsp;</span>Creating the Chart Layer</a></span></li><li><span><a href=\"#Creating-the-Graphical-Layer\" data-toc-modified-id=\"Creating-the-Graphical-Layer-1.4\"><span class=\"toc-item-num\">1.4&nbsp;&nbsp;</span>Creating the Graphical Layer</a></span></li><li><span><a href=\"#Creating-the-Textual-Layer\" data-toc-modified-id=\"Creating-the-Textual-Layer-1.5\"><span class=\"toc-item-num\">1.5&nbsp;&nbsp;</span>Creating the Textual Layer</a></span></li></ul></li><li><span><a href=\"#Putting-the-three-layers-together\" data-toc-modified-id=\"Putting-the-three-layers-together-2\"><span class=\"toc-item-num\">2&nbsp;&nbsp;</span>Putting the three layers together</a></span></li><li><span><a href=\"#Boxplot-of-life-expectancy-process\" data-toc-modified-id=\"Boxplot-of-life-expectancy-process-3\"><span class=\"toc-item-num\">3&nbsp;&nbsp;</span>Boxplot of life expectancy process</a></span></li><li><span><a href=\"#Scatterplot-of-life-expectancy\" data-toc-modified-id=\"Scatterplot-of-life-expectancy-4\"><span class=\"toc-item-num\">4&nbsp;&nbsp;</span>Scatterplot of life expectancy</a></span></li><li><span><a href=\"#Using-Seaborn\" data-toc-modified-id=\"Using-Seaborn-5\"><span class=\"toc-item-num\">5&nbsp;&nbsp;</span>Using Seaborn</a></span></li></ul></div>"
   ]
  },
  {
   "cell_type": "markdown",
   "id": "b794aa18",
   "metadata": {},
   "source": [
    "# Workflow and Chart Layers\n",
    "\n",
    "https://towardsdatascience.com/3-visualization-layers-for-information-rich-charts-with-altair-and-python-7a66c0cbdd39"
   ]
  },
  {
   "cell_type": "markdown",
   "id": "1ec7baf5",
   "metadata": {},
   "source": [
    "<img src=\"https://drive.google.com/uc?id=1n3LmVE5z4sP8d1WlA9JwdJVEzO3MePjh\" width=600 />"
   ]
  },
  {
   "cell_type": "markdown",
   "id": "00f450ed",
   "metadata": {},
   "source": [
    "![chart_layers.png](images/chart_layers.png)"
   ]
  },
  {
   "cell_type": "code",
   "execution_count": null,
   "id": "eb6d0d57",
   "metadata": {},
   "outputs": [],
   "source": [
    "## Get all the observations (rows) for 2007"
   ]
  },
  {
   "cell_type": "code",
   "execution_count": null,
   "id": "ca3e8fe0",
   "metadata": {},
   "outputs": [],
   "source": [
    "\n",
    "# import libraries\n",
    "import pandas as pd\n",
    "from gapminder import gapminder\n",
    "import altair as alt\n",
    "\n",
    "# constants\n",
    "c_cp = [\"#335C67\", \"#fff3b0\", \"#e09f3e\", \"#9e2a2b\", \"#540b0e\"] #https://coolors.co/335c67-fff3b0-e09f3e-9e2a2b-540b0e\n",
    "c_chart_width = 600 \n",
    "c_chart_height = 250\n",
    "\n",
    "# Filter for year 2007\n",
    "df = (\n",
    "    gapminder\n",
    "    .query('year == 2007')\n",
    ")\n",
    "\n",
    "df"
   ]
  },
  {
   "cell_type": "markdown",
   "id": "94984501",
   "metadata": {},
   "source": [
    "## Create the summary data"
   ]
  },
  {
   "cell_type": "code",
   "execution_count": null,
   "id": "aa5c97c8",
   "metadata": {},
   "outputs": [],
   "source": [
    "df_summary = (\n",
    "    df\n",
    "    .describe()\n",
    "    .reset_index()\n",
    "    .query(\"index == 'mean' | index == '25%' | index == '50%' | index == '75%'\")\n",
    "    .assign(lifeExpRounded = lambda x: x.lifeExp.round(1))\n",
    ")\n",
    "\n",
    "df_summary['lifeExpRounded'] = df_summary['lifeExpRounded'].astype(\"str\")\n",
    "\n",
    "df_summary = (\n",
    "    df_summary\n",
    "    .assign(label = [\"Mean\", \"Q1\", \"Median\", \"Q3\"])\n",
    "    .assign(color = [c_cp[2], c_cp[3], c_cp[4], c_cp[2]])\n",
    "    .assign(labelValue = lambda x: x.label + \" \" + x.lifeExpRounded)\n",
    "    .assign(labelValueLineBreak = lambda x: x.label + \"\\n\" + x.lifeExpRounded)\n",
    ")\n",
    "df_summary"
   ]
  },
  {
   "cell_type": "markdown",
   "id": "76115416",
   "metadata": {},
   "source": [
    "## Creating the Chart Layer"
   ]
  },
  {
   "cell_type": "code",
   "execution_count": null,
   "id": "f02ba0d5",
   "metadata": {},
   "outputs": [],
   "source": [
    "# create histogram\n",
    "layer_chart = (\n",
    "    alt.Chart(df)\n",
    "    .mark_bar(color = c_cp[3])\n",
    "    .encode(\n",
    "        alt.X(\n",
    "            \"lifeExp:Q\",\n",
    "            title = \"Life Expectancy in Years (Distribution)\",\n",
    "            bin = alt.Bin(step = 4)\n",
    "        ),\n",
    "        y = \"count()\",\n",
    "    )\n",
    "    .properties(\n",
    "        title = {\n",
    "            \"text\": \"Distribution of Life Expectancy (Gapminder Data)\",\n",
    "            \"subtitle\": [\"According to the Gapminder data, the people of listed countries have a life expectancy of\", \"67 years, on average. However, more than 50% countries have a life expectancy of 71.9 years.\", \"For 25 percent people are expected to live above 76.4 years.\"]\n",
    "        },\n",
    "        width = c_chart_width,\n",
    "        height = c_chart_height\n",
    "    )\n",
    ")\n",
    "layer_chart"
   ]
  },
  {
   "cell_type": "markdown",
   "id": "5d7397bf",
   "metadata": {},
   "source": [
    "## Creating the Graphical Layer"
   ]
  },
  {
   "cell_type": "code",
   "execution_count": null,
   "id": "982217bc",
   "metadata": {},
   "outputs": [],
   "source": [
    "# create structure rules\n",
    "layer_graphical = (\n",
    "    alt.Chart(df_summary)\n",
    "    .mark_rule(\n",
    "        color = c_cp[4],\n",
    "        size = 3\n",
    "    )\n",
    "    .encode(\n",
    "        #color = \"color:O\",\n",
    "        x = alt.X(\"lifeExp:Q\", scale = alt.Scale(domain = (36, 84)))\n",
    "    )\n",
    "    .properties(\n",
    "        width = c_chart_width,\n",
    "        height = c_chart_height\n",
    "    )\n",
    ")\n",
    "layer_graphical"
   ]
  },
  {
   "cell_type": "markdown",
   "id": "8995df22",
   "metadata": {},
   "source": [
    "## Creating the Textual Layer"
   ]
  },
  {
   "cell_type": "code",
   "execution_count": null,
   "id": "02152c9b",
   "metadata": {},
   "outputs": [],
   "source": [
    "\n",
    "# create text annotations\n",
    "layer_text = (\n",
    "    alt.Chart(df_summary)\n",
    "    .mark_text(\n",
    "        lineBreak = \"\\n\",\n",
    "        dy = -40,\n",
    "        y = 10,\n",
    "        fontSize = 12, fontWeight = \"bold\"\n",
    "    )\n",
    "    .encode(\n",
    "        #text = \"labelValue:N\",\n",
    "        text = \"labelValueLineBreak:N\",\n",
    "        x = alt.X(\"lifeExp:Q\", scale = alt.Scale(domain = (36, 84)))\n",
    "    )\n",
    "    .properties(\n",
    "        width = c_chart_width,\n",
    "        height = c_chart_height\n",
    "    )\n",
    ")\n",
    "layer_text"
   ]
  },
  {
   "cell_type": "markdown",
   "id": "f046094d",
   "metadata": {},
   "source": [
    "# Putting the three layers together"
   ]
  },
  {
   "cell_type": "code",
   "execution_count": null,
   "id": "6f78a31a",
   "metadata": {},
   "outputs": [],
   "source": [
    "\n",
    "chart_hist = layer_chart + layer_graphical + layer_text\n",
    "\n",
    "chart_hist_conf = chart_hist.configure_title(\n",
    "    fontSize = 24,\n",
    "    font = \"Optima\",\n",
    "    color = c_cp[4],\n",
    "    subtitleColor = c_cp[4],\n",
    "    subtitleFontSize = 16,\n",
    "    anchor = \"start\",\n",
    "    align = \"left\"\n",
    ")\n",
    "chart_hist"
   ]
  },
  {
   "cell_type": "markdown",
   "id": "dcc4a20d",
   "metadata": {},
   "source": [
    "# Boxplot of life expectancy process"
   ]
  },
  {
   "cell_type": "code",
   "execution_count": null,
   "id": "a882ba60",
   "metadata": {},
   "outputs": [],
   "source": [
    "df_summary = (\n",
    "    df\n",
    "    .groupby(\"continent\")\n",
    "    .describe()\n",
    "    .lifeExp\n",
    "    .reset_index()\n",
    "    .assign(lifeExpMeanRounded = lambda x: x[\"mean\"].round(1))\n",
    "    .assign(lifeExpCountRounded = lambda x: x[\"count\"].round(0).astype(int))\n",
    "    .assign(LifeExpCountLabel = lambda x: \"n = \" + x[\"lifeExpCountRounded\"].astype(str))\n",
    "    .assign(lifeExpMeanLabel = lambda x: \"mean \" + x[\"lifeExpMeanRounded\"].astype(str))\n",
    ")\n",
    "df_summary"
   ]
  },
  {
   "cell_type": "code",
   "execution_count": null,
   "id": "e463cea4",
   "metadata": {},
   "outputs": [],
   "source": [
    "\n",
    "layer_chart = (\n",
    "    alt.Chart(df)\n",
    "    .mark_boxplot(color = c_cp[3], size = 30, extent = 0.5)\n",
    "    .encode(\n",
    "        y = alt.Y(\n",
    "            \"continent\",\n",
    "            title = \"Continent\",\n",
    "            #sort = alt.EncodingSortField(field = \"lifeExp\", op = \"mean\")\n",
    "            sort = ['Africa', 'Asia', 'Americas', 'Europe', 'Oceania']\n",
    "        ),\n",
    "        x = alt.X(\n",
    "            \"lifeExp:Q\",\n",
    "            scale = alt.Scale(domain = (37, 84)),\n",
    "            title = \"Life Expectancy in Years (Distribution)\"\n",
    "        )\n",
    "    )\n",
    "    .properties(\n",
    "        title = {\n",
    "            \"text\": \"Distribution of Life Expectancy by Continent (Gapminder Data)\",\n",
    "            \"subtitle\": [\"When we look at life expectancy by continent individually, it shows a more diverse picture.\", \" Especially for Africa with 52 listed countries, the average life expectancy is 54.8 years,\", \" 22.8 years below the overall average.\", \"\", \"The data for African countries also shows a wide distribution, ranging from 40 years to 76 years.\"]\n",
    "        },\n",
    "        width = c_chart_width,\n",
    "        height = c_chart_height * 1.5\n",
    "    )\n",
    ")\n",
    "layer_chart"
   ]
  },
  {
   "cell_type": "code",
   "execution_count": null,
   "id": "0d684593",
   "metadata": {},
   "outputs": [],
   "source": [
    "layer_graphical = (\n",
    "    alt.Chart(df_summary)\n",
    "    .mark_tick(\n",
    "        color = c_cp[0],\n",
    "        thickness = 2,\n",
    "        size = 50\n",
    "    )\n",
    "    .encode(\n",
    "        #color = \"color:O\",\n",
    "        x = alt.X(\"mean:Q\"),\n",
    "        y = alt.Y(\"continent:N\", sort = ['Africa', 'Asia', 'Americas', 'Europe', 'Oceania'])\n",
    "    )\n",
    "    .properties(\n",
    "        width = c_chart_width,\n",
    "        height = c_chart_height * 1.5\n",
    "    )\n",
    ")\n",
    "layer_graphical"
   ]
  },
  {
   "cell_type": "code",
   "execution_count": null,
   "id": "ec884855",
   "metadata": {},
   "outputs": [],
   "source": [
    "\n",
    "layer_text = (\n",
    "    alt.Chart(df_summary)\n",
    "    .mark_text(\n",
    "        x = 25\n",
    "    )\n",
    "    .encode(\n",
    "        y = alt.Y(\"continent:N\", sort = ['Africa', 'Asia', 'Americas', 'Europe', 'Oceania']),\n",
    "        text = \"LifeExpCountLabel:N\"\n",
    "    )\n",
    "    .properties(\n",
    "        width = c_chart_width,\n",
    "        height = c_chart_height * 1.5\n",
    "    )\n",
    ")\n",
    "\n",
    "layer_text = layer_text + (\n",
    "    alt.Chart(df_summary)\n",
    "    .mark_text(\n",
    "        dy = -22,\n",
    "        dx = 32\n",
    "    )\n",
    "    .encode(\n",
    "        y = alt.Y(\"continent:N\", sort = ['Africa', 'Asia', 'Americas', 'Europe', 'Oceania']),\n",
    "        x = alt.X(\"mean:Q\"),\n",
    "        text = \"lifeExpMeanLabel:N\"\n",
    "    )\n",
    ")\n",
    "layer_text"
   ]
  },
  {
   "cell_type": "code",
   "execution_count": null,
   "id": "e0a12014",
   "metadata": {},
   "outputs": [],
   "source": [
    "\n",
    "chart_bp = layer_chart + layer_graphical + layer_text\n",
    "\n",
    "chart_bp_conf = chart_bp.configure_title(\n",
    "    fontSize = 24,\n",
    "    font = \"Optima\",\n",
    "    color = c_cp[4],\n",
    "    subtitleColor = c_cp[4],\n",
    "    subtitleFontSize = 16,\n",
    "    anchor = \"start\"\n",
    ")\n",
    "\n",
    "chart_bp_conf = chart_bp_conf.configure_axisX(labelAngle = 0)\n",
    "chart_bp_conf"
   ]
  },
  {
   "cell_type": "markdown",
   "id": "a88278cc",
   "metadata": {},
   "source": [
    "# Scatterplot of life expectancy"
   ]
  },
  {
   "cell_type": "code",
   "execution_count": null,
   "id": "b50d1f66",
   "metadata": {},
   "outputs": [],
   "source": [
    "df_africa = (\n",
    "    df\n",
    "    .query(\"continent == 'Africa'\")\n",
    ")\n",
    "\n",
    "Q1 = df_africa.lifeExp.quantile(.25)\n",
    "Q2 = df_africa.lifeExp.quantile(.5)\n",
    "Q3 = df_africa.lifeExp.quantile(.75)\n",
    "\n",
    "df_africa[\"Quartile Range\"] = (\n",
    "    df_africa.lifeExp.apply(lambda x: \"<= Q1 quartile\" if x <= Q1 else \">= Q3 quartile\" if x >= Q3 else \"inter-quartile range\")\n",
    ")\n",
    "\n",
    "sort = (\n",
    "    df_africa\n",
    "    .sort_values(\"lifeExp\")\n",
    "    .country.ravel()\n",
    ")"
   ]
  },
  {
   "cell_type": "code",
   "execution_count": null,
   "id": "1db070ed",
   "metadata": {},
   "outputs": [],
   "source": [
    "df_summary = (\n",
    "    df_africa\n",
    "    .describe()\n",
    "    .reset_index()\n",
    "    .query(\"index == '25%' | index == '50%' | index == '75%'\")\n",
    "    .assign(lifeExpRounded = lambda x: x.lifeExp.round(1))\n",
    ")\n",
    "\n",
    "df_summary['lifeExpRounded'] = df_summary['lifeExpRounded'].astype(\"str\")\n",
    "\n",
    "df_summary = (\n",
    "    df_summary\n",
    "    .assign(label = [\"Q1\", \"Median\", \"Q3\"])\n",
    "    .assign(color = [c_cp[3], c_cp[4], c_cp[2]])\n",
    "    .assign(labelValue = lambda x: x.label + \" \" + x.lifeExpRounded)\n",
    "    .assign(labelValueLineBreak = lambda x: x.label + \"\\n\" + x.lifeExpRounded)\n",
    ")\n",
    "df_summary"
   ]
  },
  {
   "cell_type": "code",
   "execution_count": null,
   "id": "cb7b6ed5",
   "metadata": {},
   "outputs": [],
   "source": [
    "layer_chart = (\n",
    "    alt.Chart(df_africa)\n",
    "    .mark_point()\n",
    "    .encode(\n",
    "        x = alt.X(\n",
    "            \"lifeExp:Q\",\n",
    "            scale = alt.Scale(domain = (37, 84)),\n",
    "            title = \"Life Expectancy in Years (Distribution)\"\n",
    "        ),\n",
    "        y = alt.Y(\n",
    "            \"country\",\n",
    "            title = \"Country\",\n",
    "            sort = sort\n",
    "        ),\n",
    "        color = alt.Color(\"Quartile Range\", legend = alt.Legend(orient = \"top-right\"))\n",
    "    )\n",
    "    .properties(\n",
    "        title = {\n",
    "            \"text\": \"Distribution of Life Expectancy by African Countries (Gapminder Data)\",\n",
    "            \"subtitle\": [\"There are 13 countries with a life expectancy of below 47.8 years, with Swaziland with an average of 39.6 years.\", \"Followed by 26 countries that lie between 47.8 and 59.4 years. Somalia with 48.1 years on the far left of the \", \"inter-quartile range (IQR) and Madagascar on the far right of the IQR with 59.4 years. \", \"Then we see some outliers with higher life expectancy compared to all countries. \", \"Morocco with 71.2 years and Reunion with the maximum average life expectancy of 76.4 years.\"]\n",
    "        },\n",
    "        width = c_chart_width,\n",
    "        height = c_chart_height * 2.5\n",
    "    )\n",
    ")\n",
    "layer_chart"
   ]
  },
  {
   "cell_type": "code",
   "execution_count": null,
   "id": "a202eccb",
   "metadata": {},
   "outputs": [],
   "source": [
    "\n",
    "layer_graphical = (\n",
    "    alt.Chart(df_summary)\n",
    "    .mark_rule(\n",
    "        color = c_cp[4],\n",
    "        opacity= 0.35,\n",
    "        size = 3\n",
    "    )\n",
    "    .encode(\n",
    "        x = alt.X(\"lifeExp:Q\", scale = alt.Scale(domain = (36, 84)))\n",
    "    )\n",
    "    .properties(\n",
    "        width = c_chart_width,\n",
    "        height = c_chart_height * 2.5\n",
    "    )\n",
    ")\n",
    "layer_graphical"
   ]
  },
  {
   "cell_type": "code",
   "execution_count": null,
   "id": "351275f0",
   "metadata": {},
   "outputs": [],
   "source": [
    "layer_text = (\n",
    "    alt.Chart(df_summary)\n",
    "    .mark_text(\n",
    "        lineBreak = \"\\n\",\n",
    "        dy = -40,\n",
    "        y = 10,\n",
    "        fontSize = 12, fontWeight = \"bold\"\n",
    "    )\n",
    "    .encode(\n",
    "        text = \"labelValueLineBreak:N\",\n",
    "        x = alt.X(\"lifeExp:Q\", scale = alt.Scale(domain = (36, 84)))\n",
    "    )\n",
    "    .properties(\n",
    "        width = c_chart_width,\n",
    "        height = c_chart_height * 2.5\n",
    "    )\n",
    ")\n",
    "layer_text"
   ]
  },
  {
   "cell_type": "code",
   "execution_count": null,
   "id": "154c2f04",
   "metadata": {},
   "outputs": [],
   "source": [
    "chart_p = layer_graphical + layer_chart + layer_text\n",
    "\n",
    "chart_p = chart_p.configure_title(\n",
    "    fontSize = 24,\n",
    "    font = \"Optima\",\n",
    "    color = c_cp[4],\n",
    "    subtitleColor = c_cp[4],\n",
    "    subtitleFontSize = 16,\n",
    "    #align = \"left\"\n",
    "    anchor = \"start\"\n",
    ")\n",
    "chart_p"
   ]
  },
  {
   "cell_type": "markdown",
   "id": "f74322fb",
   "metadata": {},
   "source": [
    "# Using Seaborn"
   ]
  },
  {
   "cell_type": "code",
   "execution_count": null,
   "id": "c676d3b7",
   "metadata": {},
   "outputs": [],
   "source": [
    "import numpy as py\n",
    "import pandas as pd\n",
    "import matplotlib.pyplot as plt\n",
    "import seaborn as sns\n",
    "\n",
    "%matplotlib inline\n",
    "\n",
    "tips = sns.load_dataset(\"tips\")\n",
    "penguins = sns.load_dataset('penguins')\n",
    "\n",
    "#import os\n",
    "#for dirname, _, filenames in os.walk('/kaggle/input'):\n",
    "#    for filename in filenames:\n",
    "#        print(os.path.join(dirname, filename))\n",
    "        \n",
    "#tips = pd.read_csv('/kaggle/input/seaborn-practice/tips.csv')\n",
    "#penguins = pd.read_csv('/kaggle/input/seaborn-practice/penguins.csv')\n",
    "\n",
    "\n",
    "# Example taken from Seaborn documentation\n",
    "# Use tips dataset\n",
    "\n",
    "g = sns.relplot(data=tips, x=\"total_bill\", y=\"tip\")\n",
    "g.ax.axline(xy1=(10, 2), slope=.2, color=\"b\", dashes=(5, 2))"
   ]
  },
  {
   "cell_type": "code",
   "execution_count": null,
   "id": "3756ab8d",
   "metadata": {},
   "outputs": [],
   "source": [
    "layer_chart = sns.relplot(data=tips, x=\"total_bill\", y=\"tip\")"
   ]
  },
  {
   "cell_type": "code",
   "execution_count": null,
   "id": "5efd1707",
   "metadata": {},
   "outputs": [],
   "source": [
    "layer_graphical = g.ax.axline(xy1=(10, 2), slope=.2, color=\"b\", dashes=(5, 2))\n",
    "layer_graphical"
   ]
  },
  {
   "cell_type": "code",
   "execution_count": null,
   "id": "d32e1548",
   "metadata": {},
   "outputs": [],
   "source": [
    "x = layer_chart+layer_graphical\n",
    "x"
   ]
  },
  {
   "cell_type": "code",
   "execution_count": null,
   "id": "0a26b22b",
   "metadata": {},
   "outputs": [],
   "source": [
    "p = sns.FacetGrid(penguins, \n",
    "                  col='island', \n",
    "                  height = 4, \n",
    "                  aspect =1, \n",
    "                  sharey=False, \n",
    "                  ylim=(20, 70), \n",
    "                  hue = 'species',\n",
    "                  palette = 'magma')\n",
    "\n",
    "p.map_dataframe(sns.scatterplot, x='bill_depth_mm', y='bill_length_mm', marker = '+');\n",
    "\n",
    "p.refline(y=50)\n",
    "\n",
    "\n",
    "p.set_axis_labels('BILL DEPTH (mm)', 'BILL LENGTH (mm)'); \n",
    "p.set_titles(col_template='{col_name} Island');"
   ]
  },
  {
   "cell_type": "code",
   "execution_count": null,
   "id": "5a8c6bb6",
   "metadata": {},
   "outputs": [],
   "source": []
  }
 ],
 "metadata": {
  "kernelspec": {
   "display_name": "Python 3 (ipykernel)",
   "language": "python",
   "name": "python3"
  },
  "language_info": {
   "codemirror_mode": {
    "name": "ipython",
    "version": 3
   },
   "file_extension": ".py",
   "mimetype": "text/x-python",
   "name": "python",
   "nbconvert_exporter": "python",
   "pygments_lexer": "ipython3",
   "version": "3.9.13"
  },
  "toc": {
   "base_numbering": 1,
   "nav_menu": {},
   "number_sections": true,
   "sideBar": true,
   "skip_h1_title": false,
   "title_cell": "Table of Contents",
   "title_sidebar": "Contents",
   "toc_cell": true,
   "toc_position": {
    "height": "calc(100% - 180px)",
    "left": "10px",
    "top": "150px",
    "width": "165px"
   },
   "toc_section_display": true,
   "toc_window_display": true
  },
  "varInspector": {
   "cols": {
    "lenName": 16,
    "lenType": 16,
    "lenVar": 40
   },
   "kernels_config": {
    "python": {
     "delete_cmd_postfix": "",
     "delete_cmd_prefix": "del ",
     "library": "var_list.py",
     "varRefreshCmd": "print(var_dic_list())"
    },
    "r": {
     "delete_cmd_postfix": ") ",
     "delete_cmd_prefix": "rm(",
     "library": "var_list.r",
     "varRefreshCmd": "cat(var_dic_list()) "
    }
   },
   "types_to_exclude": [
    "module",
    "function",
    "builtin_function_or_method",
    "instance",
    "_Feature"
   ],
   "window_display": false
  }
 },
 "nbformat": 4,
 "nbformat_minor": 5
}
