{
 "cells": [
  {
   "cell_type": "markdown",
   "id": "f139b961",
   "metadata": {
    "toc": true
   },
   "source": [
    "<h1>Table of Contents: ggplot &amp; Altair<span class=\"tocSkip\"></span></h1>\n",
    "<div class=\"toc\"><ul class=\"toc-item\"><li><span><a href=\"#ggplot\" data-toc-modified-id=\"ggplot-1\"><span class=\"toc-item-num\">1&nbsp;&nbsp;</span>ggplot</a></span><ul class=\"toc-item\"><li><span><a href=\"#The-Grammar-of-Graphics\" data-toc-modified-id=\"The-Grammar-of-Graphics-1.1\"><span class=\"toc-item-num\">1.1&nbsp;&nbsp;</span>The Grammar of Graphics</a></span></li><li><span><a href=\"#Imports\" data-toc-modified-id=\"Imports-1.2\"><span class=\"toc-item-num\">1.2&nbsp;&nbsp;</span>Imports</a></span></li><li><span><a href=\"#Sample-Code\" data-toc-modified-id=\"Sample-Code-1.3\"><span class=\"toc-item-num\">1.3&nbsp;&nbsp;</span>Sample Code</a></span><ul class=\"toc-item\"><li><span><a href=\"#Datasets-&amp;-Aes-(variables)\" data-toc-modified-id=\"Datasets-&amp;-Aes-(variables)-1.3.1\"><span class=\"toc-item-num\">1.3.1&nbsp;&nbsp;</span>Datasets &amp; Aes (variables)</a></span></li><li><span><a href=\"#Geometries\" data-toc-modified-id=\"Geometries-1.3.2\"><span class=\"toc-item-num\">1.3.2&nbsp;&nbsp;</span>Geometries</a></span></li><li><span><a href=\"#Adding-statistics\" data-toc-modified-id=\"Adding-statistics-1.3.3\"><span class=\"toc-item-num\">1.3.3&nbsp;&nbsp;</span>Adding statistics</a></span></li><li><span><a href=\"#Coordinates\" data-toc-modified-id=\"Coordinates-1.3.4\"><span class=\"toc-item-num\">1.3.4&nbsp;&nbsp;</span>Coordinates</a></span></li><li><span><a href=\"#Facets\" data-toc-modified-id=\"Facets-1.3.5\"><span class=\"toc-item-num\">1.3.5&nbsp;&nbsp;</span>Facets</a></span></li><li><span><a href=\"#Themes\" data-toc-modified-id=\"Themes-1.3.6\"><span class=\"toc-item-num\">1.3.6&nbsp;&nbsp;</span>Themes</a></span></li></ul></li><li><span><a href=\"#Saving-a-plot-to-a-file\" data-toc-modified-id=\"Saving-a-plot-to-a-file-1.4\"><span class=\"toc-item-num\">1.4&nbsp;&nbsp;</span>Saving a plot to a file</a></span></li><li><span><a href=\"#ggplot-Exercise\" data-toc-modified-id=\"ggplot-Exercise-1.5\"><span class=\"toc-item-num\">1.5&nbsp;&nbsp;</span>ggplot Exercise</a></span></li></ul></li><li><span><a href=\"#Altair\" data-toc-modified-id=\"Altair-2\"><span class=\"toc-item-num\">2&nbsp;&nbsp;</span>Altair</a></span><ul class=\"toc-item\"><li><span><a href=\"#Altair-Exercise\" data-toc-modified-id=\"Altair-Exercise-2.1\"><span class=\"toc-item-num\">2.1&nbsp;&nbsp;</span>Altair Exercise</a></span></li></ul></li></ul></div>"
   ]
  },
  {
   "cell_type": "markdown",
   "id": "87b87b41",
   "metadata": {},
   "source": [
    "# ggplot"
   ]
  },
  {
   "cell_type": "markdown",
   "id": "39f4e96e",
   "metadata": {},
   "source": [
    "## The Grammar of Graphics\n",
    "\n",
    "https://www.science-craft.com/2014/07/08/introducing-the-grammar-of-graphics-plotting-concept/\n",
    "\n",
    "The original paper: https://vita.had.co.nz/papers/layered-grammar.pdf"
   ]
  },
  {
   "cell_type": "markdown",
   "id": "8027fd59",
   "metadata": {},
   "source": [
    "<img src=\"https://drive.google.com/uc?id=19ZTLGWjlInppscQxq7XrtRGX2fQxEVm2\" width=600 />"
   ]
  },
  {
   "cell_type": "markdown",
   "id": "8ea239c6",
   "metadata": {},
   "source": [
    "## Imports"
   ]
  },
  {
   "cell_type": "markdown",
   "id": "210e11b7",
   "metadata": {},
   "source": [
    "1. **Data** the dataset to use when creating the plot.<p>\n",
    "\n",
    "2. **Aesthetics** (aes) variables used by the underlying drawing system. Variables are mapped to the x- and y-axis aesthetic variables.<p>\n",
    "\n",
    "3. **Geometries** objects (geoms) defines the type of geometric object to use in the drawing. You can use points, lines, bars, and many others.<p>\n",
    "<hr>\n",
    "\n",
    "4. **Facets** allow data to be divided into groups and each group is plotted on to a separate panel in the same graphic.<p>\n",
    "\n",
    "5. **Statistics** transformations specify computations and aggregations to be applied to the data before plotting it.<p>\n",
    "\n",
    "6. **Coordinates** systems map the position of objects to a 2D graphical location in the plot. <p>\n",
    "\n",
    "7. **Themes** allows you to control visual properties like colors, fonts, and shapes (aka non-data ink).<p>"
   ]
  },
  {
   "cell_type": "code",
   "execution_count": null,
   "id": "f0acf56c",
   "metadata": {},
   "outputs": [],
   "source": [
    "#import sys\n",
    "import random\n",
    "\n",
    "from plotnine import ggplot, geom_point, aes, geom_line, geom_bar \n",
    "from plotnine import stat_bin, theme, theme_538, theme_xkcd, geom_histogram # on 2 lines for clarity\n",
    "import pandas as pd\n",
    "import numpy as np\n",
    "\n",
    "#import seaborn as sns\n",
    "import matplotlib.pyplot as plt\n",
    "import matplotlib as mpl\n",
    "\n",
    "from plotnine.data import mpg, huron, economics, diamonds"
   ]
  },
  {
   "cell_type": "markdown",
   "id": "656ab878",
   "metadata": {},
   "source": [
    "## Sample Code"
   ]
  },
  {
   "cell_type": "code",
   "execution_count": null,
   "id": "681d66e0",
   "metadata": {},
   "outputs": [],
   "source": [
    "dpi = 72\n",
    "size_inches = (11, 8)                                       # size in inches (for the plot)\n",
    "size_px = int(size_inches[0]*dpi), int(size_inches[1]*dpi)  # For the canvas\n",
    "\n",
    "\n",
    "n = 100\n",
    "x = np.linspace(0, 2 * np.pi, n)\n",
    "df = pd.DataFrame({\n",
    "    'x': x,\n",
    "    'y1': np.random.rand(n),\n",
    "    'y2': np.sin(x),\n",
    "    'y3': np.cos(x) * np.sin(x)\n",
    "    })\n",
    "\n",
    "        # change the dependent variable and color each time this method is called\n",
    "y = random.choice(['y1', 'y2', 'y3'])\n",
    "color = random.choice(['blue', 'red', 'green'])\n",
    "\n",
    "        # specify the plot and get the figure object\n",
    "ff = (ggplot(df, aes('x', y))\n",
    "    + geom_point(color=color)\n",
    "    + geom_line()\n",
    "    + theme(figure_size=size_inches,dpi=dpi))\n",
    "fig = ff.draw()"
   ]
  },
  {
   "cell_type": "markdown",
   "id": "a55506e9",
   "metadata": {},
   "source": [
    "### Datasets & Aes (variables)\n",
    "- diamonds\n",
    "- economics\n",
    "- mpg\n",
    "- huron"
   ]
  },
  {
   "cell_type": "code",
   "execution_count": null,
   "id": "bd032aeb",
   "metadata": {},
   "outputs": [],
   "source": [
    "diamonds"
   ]
  },
  {
   "cell_type": "code",
   "execution_count": null,
   "id": "b7f03caa",
   "metadata": {},
   "outputs": [],
   "source": [
    "mpg"
   ]
  },
  {
   "cell_type": "code",
   "execution_count": null,
   "id": "df0b5767",
   "metadata": {},
   "outputs": [],
   "source": [
    "huron"
   ]
  },
  {
   "cell_type": "markdown",
   "id": "0a30153f",
   "metadata": {},
   "source": [
    "### Geometries\n",
    "- geom_point\n",
    "- geom_bar\n",
    "- geom_histogram\n",
    "- geom_boxplot\n"
   ]
  },
  {
   "cell_type": "code",
   "execution_count": null,
   "id": "fcb9e627",
   "metadata": {},
   "outputs": [],
   "source": [
    "(\n",
    "    ggplot(df)  # The data to use\n",
    "    + aes(x=\"x\", y=\"y3\")  # The variables to use\n",
    "    + geom_line()  # The geometric objects to use\n",
    "    )"
   ]
  },
  {
   "cell_type": "code",
   "execution_count": null,
   "id": "07407d00",
   "metadata": {},
   "outputs": [],
   "source": [
    "# Data\n",
    "\n",
    "ggplot(diamonds)"
   ]
  },
  {
   "cell_type": "code",
   "execution_count": null,
   "id": "c1c69279",
   "metadata": {},
   "outputs": [],
   "source": [
    "# Data & aesthetics\n",
    "\n",
    "ggplot(diamonds) + aes(x=\"cut\", y=\"price\")"
   ]
  },
  {
   "cell_type": "code",
   "execution_count": null,
   "id": "ab7b0f64",
   "metadata": {},
   "outputs": [],
   "source": [
    "# Data, aesthetics & geometries\n",
    "\n",
    "ggplot(mpg) + aes(x=\"class\", y=\"hwy\") + geom_point()"
   ]
  },
  {
   "cell_type": "code",
   "execution_count": null,
   "id": "e0ee2ac1",
   "metadata": {},
   "outputs": [],
   "source": [
    "ggplot(mpg) + aes(x=\"class\") + geom_bar()"
   ]
  },
  {
   "cell_type": "markdown",
   "id": "4c2e74bf",
   "metadata": {},
   "source": [
    "### Adding statistics"
   ]
  },
  {
   "cell_type": "code",
   "execution_count": null,
   "id": "48840dcd",
   "metadata": {},
   "outputs": [],
   "source": [
    "ggplot(diamonds) + aes(x=\"price\") + stat_bin(bins=20) + geom_bar()"
   ]
  },
  {
   "cell_type": "code",
   "execution_count": null,
   "id": "bd9bf103",
   "metadata": {},
   "outputs": [],
   "source": [
    "ggplot(diamonds) + aes(x=\"price\") + geom_histogram(bins=20)"
   ]
  },
  {
   "cell_type": "code",
   "execution_count": null,
   "id": "88b7220c",
   "metadata": {},
   "outputs": [],
   "source": [
    "# This import is here to show that additional geoms, stats, etc. can be imported when needed.\n",
    "\n",
    "from plotnine import ggplot, aes, geom_boxplot\n",
    "\n",
    "(\n",
    "  ggplot(huron)\n",
    "  + aes(x=\"factor(decade)\", y=\"level\")\n",
    "  + geom_boxplot()\n",
    ")"
   ]
  },
  {
   "cell_type": "code",
   "execution_count": null,
   "id": "078a791e",
   "metadata": {},
   "outputs": [],
   "source": [
    "from plotnine import ggplot, aes, scale_x_timedelta, labs, geom_line\n",
    "\n",
    "(\n",
    "    ggplot(economics)\n",
    "    + aes(x=\"date\", y=\"pop\")\n",
    "    + scale_x_timedelta(name=\"Years since 1970\")\n",
    "    + labs(title=\"Population Evolution\", y=\"Population\")\n",
    "    + geom_line()\n",
    ")\n"
   ]
  },
  {
   "cell_type": "markdown",
   "id": "fe3f8ff6",
   "metadata": {},
   "source": [
    "### Coordinates"
   ]
  },
  {
   "cell_type": "code",
   "execution_count": null,
   "id": "d0edc925",
   "metadata": {},
   "outputs": [],
   "source": [
    "# Default coordinates are used.\n",
    "\n",
    "ggplot(diamonds) + aes(x=\"color\") + geom_bar()"
   ]
  },
  {
   "cell_type": "code",
   "execution_count": null,
   "id": "2b722e2d",
   "metadata": {},
   "outputs": [],
   "source": [
    "from plotnine import ggplot, aes, geom_bar, coord_flip\n",
    "\n",
    "ggplot(diamonds)  + aes(x=\"color\") + geom_bar() + coord_flip()"
   ]
  },
  {
   "cell_type": "markdown",
   "id": "f37a63ce",
   "metadata": {},
   "source": [
    "### Facets"
   ]
  },
  {
   "cell_type": "code",
   "execution_count": null,
   "id": "1f3f6710",
   "metadata": {},
   "outputs": [],
   "source": [
    "\n",
    "from plotnine import facet_grid, labs\n",
    "\n",
    "(\n",
    "    ggplot(mpg)\n",
    "    + facet_grid(facets=\"year~class\")\n",
    "    + aes(x=\"displ\", y=\"hwy\")\n",
    "    + labs(\n",
    "        x=\"Engine Size\",\n",
    "        y=\"Miles per Gallon\",\n",
    "        title=\"Miles per Gallon for Each Year and Vehicle Class\",\n",
    "    )\n",
    "    + geom_point()\n",
    "\n",
    ")"
   ]
  },
  {
   "cell_type": "markdown",
   "id": "86014cd8",
   "metadata": {},
   "source": [
    "### Themes"
   ]
  },
  {
   "cell_type": "code",
   "execution_count": null,
   "id": "69ffba60",
   "metadata": {},
   "outputs": [],
   "source": [
    "(\n",
    "    ggplot(mpg)\n",
    "    + facet_grid(facets=\"year~class\")\n",
    "    + aes(x=\"displ\", y=\"hwy\")\n",
    "    + labs(\n",
    "        x=\"Engine Size\",\n",
    "        y=\"Miles per Gallon\",\n",
    "        title=\"Miles per Gallon for Each Year and Vehicle Class\",\n",
    "    )\n",
    "    + geom_point()\n",
    "    + theme_538()\n",
    ")"
   ]
  },
  {
   "cell_type": "code",
   "execution_count": null,
   "id": "19f54ad4",
   "metadata": {},
   "outputs": [],
   "source": [
    "(\n",
    "    ggplot(mpg)\n",
    "    + aes(x=\"cyl\", y=\"hwy\", color=\"class\")\n",
    "    + labs(\n",
    "        x=\"Engine Cylinders\",\n",
    "        y=\"Miles per Gallon\",\n",
    "        color=\"Vehicle Class\",\n",
    "        title=\"Miles per Gallon for Engine Cylinders and Vehicle Classes\",\n",
    "    )\n",
    "    + geom_point()\n",
    ")"
   ]
  },
  {
   "cell_type": "markdown",
   "id": "46415163",
   "metadata": {},
   "source": [
    "## Saving a plot to a file"
   ]
  },
  {
   "cell_type": "code",
   "execution_count": null,
   "id": "25de0555",
   "metadata": {},
   "outputs": [],
   "source": [
    "myPlot = ggplot(economics) + aes(x=\"date\", y=\"pop\") + geom_line()\n",
    "myPlot.save(\"myplot.png\", dpi=600)"
   ]
  },
  {
   "cell_type": "markdown",
   "id": "ae114b64",
   "metadata": {},
   "source": [
    "## ggplot Exercise"
   ]
  },
  {
   "cell_type": "markdown",
   "id": "c0d8ee5d",
   "metadata": {},
   "source": [
    "1. Use the built-in dataset 'Midwest.\n",
    "2. Create a simple bar chart showing the number of rows by state.\n",
    "3. Create a visualization showing a plot for each state (along the y-axis).  On that plot show a jitter (a version of    a scatter plot) plot of the number of adults by percent professional for each country"
   ]
  },
  {
   "cell_type": "code",
   "execution_count": null,
   "id": "1124ab85",
   "metadata": {},
   "outputs": [],
   "source": [
    "# Put bar chart here"
   ]
  },
  {
   "cell_type": "code",
   "execution_count": null,
   "id": "0cdb2e4d",
   "metadata": {},
   "outputs": [],
   "source": [
    "# Put state plots here"
   ]
  },
  {
   "cell_type": "markdown",
   "id": "3cd9aac3",
   "metadata": {},
   "source": []
  },
  {
   "cell_type": "markdown",
   "id": "f4479550",
   "metadata": {},
   "source": [
    "# Altair"
   ]
  },
  {
   "cell_type": "markdown",
   "id": "cde97af5",
   "metadata": {},
   "source": [
    "Altair is a Python library designed for statistical visualizations.  It is considered a declarative API rather than the more common imperative API.  The claim from Altair is that it allows developers to 'declare' what they want to do vs the imperative API in which is focused on how to do it.<br>\n",
    "<br>\n",
    "Altair is constructed around the use of pandas dataframes.  \n",
    "\n",
    "https://altair-viz.github.io/"
   ]
  },
  {
   "cell_type": "code",
   "execution_count": null,
   "id": "647645a0",
   "metadata": {},
   "outputs": [],
   "source": [
    "import altair as alt\n",
    "from plotnine.data import midwest"
   ]
  },
  {
   "cell_type": "code",
   "execution_count": null,
   "id": "8af0495a",
   "metadata": {},
   "outputs": [],
   "source": [
    "midwest.head()"
   ]
  },
  {
   "cell_type": "code",
   "execution_count": null,
   "id": "be5545e1",
   "metadata": {},
   "outputs": [],
   "source": [
    "alt.Chart(midwest).mark_bar().encode(\n",
    "    alt.X('state'),\n",
    "    y='count()'\n",
    ")"
   ]
  },
  {
   "cell_type": "code",
   "execution_count": null,
   "id": "c6849bf8",
   "metadata": {},
   "outputs": [],
   "source": [
    "IL = midwest[midwest['state'] == 'IL']"
   ]
  },
  {
   "cell_type": "code",
   "execution_count": null,
   "id": "6cdb9769",
   "metadata": {},
   "outputs": [],
   "source": [
    "alt.Chart(IL).mark_point().encode(\n",
    "    alt.X('percollege'), # percent college\n",
    "    alt.Y('percprof')  # percent professional\n",
    ")"
   ]
  },
  {
   "cell_type": "code",
   "execution_count": null,
   "id": "4e3f0fc9",
   "metadata": {},
   "outputs": [],
   "source": [
    "alt.Chart(IL).mark_point(filled=False).encode(\n",
    "    alt.X('percollege'), # percent college\n",
    "    alt.Y('percprof'),  # percent professional\n",
    "    alt.Size('poptotal')\n",
    ")"
   ]
  },
  {
   "cell_type": "code",
   "execution_count": null,
   "id": "e0916007",
   "metadata": {},
   "outputs": [],
   "source": [
    "alt.Chart(IL).mark_point(filled=True).encode(\n",
    "    alt.X('percollege'), # percent college\n",
    "    alt.Y('percprof'),  # percent professional\n",
    "    alt.Size('poptotal'),\n",
    "    alt.Color('popdensity'),\n",
    "    alt.OpacityValue(0.7)\n",
    ")"
   ]
  },
  {
   "cell_type": "code",
   "execution_count": null,
   "id": "997f6686",
   "metadata": {},
   "outputs": [],
   "source": [
    "alt.Chart(IL).mark_point(filled=True).encode(\n",
    "    alt.X('percollege'), # percent college\n",
    "    alt.Y('percprof'),  # percent professional\n",
    "    alt.Size('poptotal'),\n",
    "    alt.Color('popdensity'),\n",
    "    alt.OpacityValue(0.7),\n",
    "        tooltip = [alt.Tooltip('county'),\n",
    "               alt.Tooltip('percwhite'),\n",
    "               alt.Tooltip('percblack'),\n",
    "               alt.Tooltip('percother')\n",
    "              ]\n",
    ")"
   ]
  },
  {
   "cell_type": "code",
   "execution_count": null,
   "id": "21c255b0",
   "metadata": {},
   "outputs": [],
   "source": [
    "alt.Chart(IL).mark_point(filled=True).encode(\n",
    "    alt.X('percollege'), # percent college\n",
    "    alt.Y('percprof'),  # percent professional\n",
    "    alt.Size('poptotal'),\n",
    "    alt.Color('popdensity'),\n",
    "    alt.OpacityValue(0.7),\n",
    "        tooltip = [alt.Tooltip('county'),\n",
    "               alt.Tooltip('percwhite'),\n",
    "               alt.Tooltip('percblack'),\n",
    "               alt.Tooltip('percother')\n",
    "              ]\n",
    ").interactive()\n",
    "\n"
   ]
  },
  {
   "cell_type": "markdown",
   "id": "2bb2e1f1",
   "metadata": {},
   "source": [
    "## Altair Exercise\n",
    "\n",
    "- Modify the plot shown above.\n",
    "- Use the full midwest dataset\n",
    "- Instead of just circles, change the mark so that each state is represented with a different shape\n",
    "- Add the state abbreviation to the tooltip\n",
    "- Try to change the size of the plot"
   ]
  },
  {
   "cell_type": "code",
   "execution_count": null,
   "id": "4782cf34",
   "metadata": {},
   "outputs": [],
   "source": [
    "# Altair exercise here."
   ]
  },
  {
   "cell_type": "code",
   "execution_count": null,
   "id": "90e0ab17",
   "metadata": {},
   "outputs": [],
   "source": []
  }
 ],
 "metadata": {
  "kernelspec": {
   "display_name": "Python 3 (ipykernel)",
   "language": "python",
   "name": "python3"
  },
  "language_info": {
   "codemirror_mode": {
    "name": "ipython",
    "version": 3
   },
   "file_extension": ".py",
   "mimetype": "text/x-python",
   "name": "python",
   "nbconvert_exporter": "python",
   "pygments_lexer": "ipython3",
   "version": "3.9.7"
  },
  "toc": {
   "base_numbering": 1,
   "nav_menu": {},
   "number_sections": true,
   "sideBar": false,
   "skip_h1_title": false,
   "title_cell": "Table of Contents: ggplot & Altair",
   "title_sidebar": "",
   "toc_cell": true,
   "toc_position": {},
   "toc_section_display": false,
   "toc_window_display": false
  },
  "varInspector": {
   "cols": {
    "lenName": 16,
    "lenType": 16,
    "lenVar": 40
   },
   "kernels_config": {
    "python": {
     "delete_cmd_postfix": "",
     "delete_cmd_prefix": "del ",
     "library": "var_list.py",
     "varRefreshCmd": "print(var_dic_list())"
    },
    "r": {
     "delete_cmd_postfix": ") ",
     "delete_cmd_prefix": "rm(",
     "library": "var_list.r",
     "varRefreshCmd": "cat(var_dic_list()) "
    }
   },
   "types_to_exclude": [
    "module",
    "function",
    "builtin_function_or_method",
    "instance",
    "_Feature"
   ],
   "window_display": false
  }
 },
 "nbformat": 4,
 "nbformat_minor": 5
}
