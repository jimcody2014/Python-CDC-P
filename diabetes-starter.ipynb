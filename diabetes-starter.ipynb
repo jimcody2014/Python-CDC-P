{
 "cells": [
  {
   "cell_type": "markdown",
   "metadata": {
    "toc": true
   },
   "source": [
    "<h1>Table of Contents<span class=\"tocSkip\"></span></h1>\n",
    "<div class=\"toc\"><ul class=\"toc-item\"><li><span><a href=\"#A-little-data-cleaning\" data-toc-modified-id=\"A-little-data-cleaning-1\"><span class=\"toc-item-num\">1&nbsp;&nbsp;</span>A little data cleaning</a></span><ul class=\"toc-item\"><li><ul class=\"toc-item\"><li><span><a href=\"#Missing-Data\" data-toc-modified-id=\"Missing-Data-1.0.1\"><span class=\"toc-item-num\">1.0.1&nbsp;&nbsp;</span>Missing Data</a></span></li><li><span><a href=\"#Describe-Child-Poverty-to-use-in-deciding-how-to-impute\" data-toc-modified-id=\"Describe-Child-Poverty-to-use-in-deciding-how-to-impute-1.0.2\"><span class=\"toc-item-num\">1.0.2&nbsp;&nbsp;</span>Describe Child Poverty to use in deciding how to impute</a></span></li><li><span><a href=\"#Looking-for-duplicates\" data-toc-modified-id=\"Looking-for-duplicates-1.0.3\"><span class=\"toc-item-num\">1.0.3&nbsp;&nbsp;</span>Looking for duplicates</a></span></li><li><span><a href=\"#Changing-the-data-type\" data-toc-modified-id=\"Changing-the-data-type-1.0.4\"><span class=\"toc-item-num\">1.0.4&nbsp;&nbsp;</span>Changing the data type</a></span></li><li><span><a href=\"#Remove-a-single-column\" data-toc-modified-id=\"Remove-a-single-column-1.0.5\"><span class=\"toc-item-num\">1.0.5&nbsp;&nbsp;</span>Remove a single column</a></span></li><li><span><a href=\"#Remove-multiple-columns\" data-toc-modified-id=\"Remove-multiple-columns-1.0.6\"><span class=\"toc-item-num\">1.0.6&nbsp;&nbsp;</span>Remove multiple columns</a></span></li></ul></li></ul></li><li><span><a href=\"#Exploratory-Data-Analysis\" data-toc-modified-id=\"Exploratory-Data-Analysis-2\"><span class=\"toc-item-num\">2&nbsp;&nbsp;</span>Exploratory Data Analysis</a></span><ul class=\"toc-item\"><li><span><a href=\"#Examine-Diabetes-column\" data-toc-modified-id=\"Examine-Diabetes-column-2.1\"><span class=\"toc-item-num\">2.1&nbsp;&nbsp;</span>Examine Diabetes column</a></span><ul class=\"toc-item\"><li><span><a href=\"#Histograms\" data-toc-modified-id=\"Histograms-2.1.1\"><span class=\"toc-item-num\">2.1.1&nbsp;&nbsp;</span>Histograms</a></span></li><li><span><a href=\"#Boxplots\" data-toc-modified-id=\"Boxplots-2.1.2\"><span class=\"toc-item-num\">2.1.2&nbsp;&nbsp;</span>Boxplots</a></span></li><li><span><a href=\"#Violinplots\" data-toc-modified-id=\"Violinplots-2.1.3\"><span class=\"toc-item-num\">2.1.3&nbsp;&nbsp;</span>Violinplots</a></span></li><li><span><a href=\"#Counting-unique-values-for-each-variable\" data-toc-modified-id=\"Counting-unique-values-for-each-variable-2.1.4\"><span class=\"toc-item-num\">2.1.4&nbsp;&nbsp;</span>Counting unique values for each variable</a></span></li></ul></li></ul></li><li><span><a href=\"#\" data-toc-modified-id=\"-3\"><span class=\"toc-item-num\">3&nbsp;&nbsp;</span></a></span><ul class=\"toc-item\"><li><span><a href=\"#Bar-Charts\" data-toc-modified-id=\"Bar-Charts-3.1\"><span class=\"toc-item-num\">3.1&nbsp;&nbsp;</span>Bar Charts</a></span><ul class=\"toc-item\"><li><span><a href=\"#Count-number-of-rows-for-each-unique-value-of-a-variable\" data-toc-modified-id=\"Count-number-of-rows-for-each-unique-value-of-a-variable-3.1.1\"><span class=\"toc-item-num\">3.1.1&nbsp;&nbsp;</span>Count number of rows for each unique value of a variable</a></span></li><li><span><a href=\"#Multiple-bar-charts-in-a-figure\" data-toc-modified-id=\"Multiple-bar-charts-in-a-figure-3.1.2\"><span class=\"toc-item-num\">3.1.2&nbsp;&nbsp;</span>Multiple bar charts in a figure</a></span></li><li><span><a href=\"#Binning-numeric-values-into-groups\" data-toc-modified-id=\"Binning-numeric-values-into-groups-3.1.3\"><span class=\"toc-item-num\">3.1.3&nbsp;&nbsp;</span>Binning numeric values into groups</a></span></li></ul></li></ul></li><li><span><a href=\"#Scatterplots\" data-toc-modified-id=\"Scatterplots-4\"><span class=\"toc-item-num\">4&nbsp;&nbsp;</span>Scatterplots</a></span></li><li><span><a href=\"#Linear-regressions\" data-toc-modified-id=\"Linear-regressions-5\"><span class=\"toc-item-num\">5&nbsp;&nbsp;</span>Linear regressions</a></span></li></ul></div>"
   ]
  },
  {
   "cell_type": "code",
   "execution_count": 1,
   "metadata": {},
   "outputs": [
    {
     "data": {
      "text/plain": [
       "<Figure size 1440x1440 with 0 Axes>"
      ]
     },
     "execution_count": 1,
     "metadata": {},
     "output_type": "execute_result"
    },
    {
     "data": {
      "text/plain": [
       "<Figure size 1440x1440 with 0 Axes>"
      ]
     },
     "metadata": {},
     "output_type": "display_data"
    }
   ],
   "source": [
    "# DO NOT CHANGE\n",
    "\n",
    "import numpy as np\n",
    "import pandas as pd\n",
    "import seaborn as sns\n",
    "import statsmodels.api as sm\n",
    "import matplotlib.pyplot as plt\n",
    "%matplotlib inline\n",
    "# from scipy.stats import pearsonr\n",
    "import scipy.stats as stats \n",
    "#from sklearn import preprocessing\n",
    "\n",
    "plt.figure(figsize=(20, 20))"
   ]
  },
  {
   "cell_type": "code",
   "execution_count": 2,
   "metadata": {},
   "outputs": [],
   "source": [
    "# DO NOT CHANGE\n",
    "\n",
    "df = pd.read_csv('https://raw.githubusercontent.com/jimcody2014/Python-CDC-P/main/diabetic_data2023.csv')"
   ]
  },
  {
   "cell_type": "code",
   "execution_count": 3,
   "metadata": {},
   "outputs": [
    {
     "data": {
      "text/plain": [
       "(101766, 50)"
      ]
     },
     "execution_count": 3,
     "metadata": {},
     "output_type": "execute_result"
    }
   ],
   "source": [
    "df.shape     # Rows and columns in the dataset"
   ]
  },
  {
   "cell_type": "code",
   "execution_count": null,
   "metadata": {},
   "outputs": [],
   "source": [
    "df.head()    # Show the first five rows"
   ]
  },
  {
   "cell_type": "code",
   "execution_count": null,
   "metadata": {},
   "outputs": [],
   "source": [
    "df.tail()    # Show the last five rows"
   ]
  },
  {
   "cell_type": "code",
   "execution_count": null,
   "metadata": {},
   "outputs": [],
   "source": [
    "df.info()    # How python views the data types\n",
    "             # If the number next to the variable name does not equal the number of rows in the shape\n",
    "             # it means there is missing data"
   ]
  },
  {
   "cell_type": "code",
   "execution_count": null,
   "metadata": {},
   "outputs": [],
   "source": [
    "df.describe()"
   ]
  },
  {
   "cell_type": "markdown",
   "metadata": {},
   "source": [
    "# A little data cleaning\n",
    "\n",
    "1. Check for missing values\n",
    "2. Check for duplicate data\n",
    "3. Change column type\n",
    "4. Remove data that will not add value (e.g., car id)"
   ]
  },
  {
   "cell_type": "markdown",
   "metadata": {},
   "source": [
    "### Missing Data"
   ]
  },
  {
   "cell_type": "code",
   "execution_count": null,
   "metadata": {},
   "outputs": [],
   "source": [
    "# Just listing the columns and how many rows \n",
    "# for each have a missing value.\n",
    "\n",
    "df.isnull().sum()"
   ]
  },
  {
   "cell_type": "code",
   "execution_count": null,
   "metadata": {},
   "outputs": [],
   "source": [
    "# Calculating the Missing Values % contribution in DF\n",
    "\n",
    "df_null = df.isna().mean().round(4) * 100\n",
    "\n",
    "df_null.sort_values(ascending=False).head()"
   ]
  },
  {
   "cell_type": "code",
   "execution_count": null,
   "metadata": {},
   "outputs": [],
   "source": [
    "# Plotting missing values\n",
    "\n",
    "sns.heatmap(df.isnull(), cbar=False)"
   ]
  },
  {
   "cell_type": "markdown",
   "metadata": {},
   "source": [
    "### Describe Child Poverty to use in deciding how to impute"
   ]
  },
  {
   "cell_type": "code",
   "execution_count": null,
   "metadata": {},
   "outputs": [],
   "source": [
    "df['ChildPoverty'].describe()"
   ]
  },
  {
   "cell_type": "code",
   "execution_count": null,
   "metadata": {},
   "outputs": [],
   "source": [
    "df['ChildPoverty'].median()"
   ]
  },
  {
   "cell_type": "code",
   "execution_count": null,
   "metadata": {},
   "outputs": [],
   "source": [
    "df['ChildPoverty'].mode()"
   ]
  },
  {
   "cell_type": "code",
   "execution_count": null,
   "metadata": {},
   "outputs": [],
   "source": [
    "# Fill missing values of ChildPoverty with the average of ChildPoverty (mean)\n",
    "\n",
    "df[ 'ChildPoverty' ] = df.ChildPoverty.fillna( df.ChildPoverty.mean() )\n",
    "df_null = df.isna().mean().round(4) * 100\n",
    "\n",
    "df_null.sort_values(ascending=False).head()\n"
   ]
  },
  {
   "cell_type": "markdown",
   "metadata": {},
   "source": [
    "### Looking for duplicates"
   ]
  },
  {
   "cell_type": "code",
   "execution_count": null,
   "metadata": {},
   "outputs": [],
   "source": [
    "# checking for duplicates\n",
    "\n",
    "df.loc[df.duplicated()]"
   ]
  },
  {
   "cell_type": "code",
   "execution_count": null,
   "metadata": {},
   "outputs": [],
   "source": [
    "# This will drop all duplicate rows\n",
    "\n",
    "df.drop_duplicates(keep = 'first', inplace = True) \n",
    "\n",
    "# keep - which duplicate to keep, default is none!"
   ]
  },
  {
   "cell_type": "code",
   "execution_count": null,
   "metadata": {},
   "outputs": [],
   "source": [
    "df.loc[df.duplicated()]"
   ]
  },
  {
   "cell_type": "code",
   "execution_count": null,
   "metadata": {},
   "outputs": [],
   "source": [
    "df.shape"
   ]
  },
  {
   "cell_type": "markdown",
   "metadata": {},
   "source": [
    "### Changing the data type"
   ]
  },
  {
   "cell_type": "code",
   "execution_count": null,
   "metadata": {},
   "outputs": [],
   "source": [
    "# changing the datatype of countyFIPS.  It is being treated as a number but it is really a string.\n",
    "\n",
    "df['CountyFIPS'] = df['CountyFIPS'].astype(str)"
   ]
  },
  {
   "cell_type": "markdown",
   "metadata": {},
   "source": [
    "### Remove a single column"
   ]
  },
  {
   "cell_type": "markdown",
   "metadata": {},
   "source": [
    "The FamilyWork column will be removed because it contains too many null values."
   ]
  },
  {
   "cell_type": "code",
   "execution_count": null,
   "metadata": {},
   "outputs": [],
   "source": [
    "df = df.drop('FamilyWork',axis=1)  "
   ]
  },
  {
   "cell_type": "markdown",
   "metadata": {},
   "source": [
    "### Remove multiple columns"
   ]
  },
  {
   "cell_type": "code",
   "execution_count": null,
   "metadata": {},
   "outputs": [],
   "source": [
    "drop_columns = {'VotingAgeCitizen','Income','IncomePerCapErr','IncomePerCap' }\n",
    "df = df.drop(columns = drop_columns) # inplace=True not used so columns still exist. Just not in this instance."
   ]
  },
  {
   "cell_type": "code",
   "execution_count": null,
   "metadata": {},
   "outputs": [],
   "source": [
    "df.shape"
   ]
  },
  {
   "cell_type": "markdown",
   "metadata": {},
   "source": [
    "# Exploratory Data Analysis"
   ]
  },
  {
   "cell_type": "markdown",
   "metadata": {},
   "source": [
    "## Examine Diabetes column"
   ]
  },
  {
   "cell_type": "code",
   "execution_count": null,
   "metadata": {},
   "outputs": [],
   "source": [
    "# Mean Diabetes value by State\n",
    "\n",
    "plt.figure(figsize=(20,20))\n",
    "\n",
    "dfx = pd.DataFrame(df.groupby(['StateAbbr'])['DIABETES'].mean().sort_values(ascending = False))\n",
    "dfx.plot.bar()\n",
    "plt.title('Mean Diabetes Value for States')\n",
    "plt.show()"
   ]
  },
  {
   "cell_type": "code",
   "execution_count": null,
   "metadata": {},
   "outputs": [],
   "source": [
    "# Basic statistics for DIABETES\n",
    "\n",
    "df['DIABETES'].describe()"
   ]
  },
  {
   "cell_type": "markdown",
   "metadata": {},
   "source": [
    "### Histograms"
   ]
  },
  {
   "cell_type": "code",
   "execution_count": null,
   "metadata": {},
   "outputs": [],
   "source": [
    "# Plot a histogram of DIABETES\n",
    "plt.figure(figsize=(30,10))\n",
    "sns.histplot(df['DIABETES'], kde = False).set_title('Histogram of Diabetes')\n",
    "#plt.show()\n",
    "plt.savefig('xyz.png')"
   ]
  },
  {
   "cell_type": "code",
   "execution_count": null,
   "metadata": {},
   "outputs": [],
   "source": [
    "# Basic Distribution (Histogram) plot\n",
    "\n",
    "plt.figure(figsize=(10,10))\n",
    "plt.title('Diabetes Distribution Plot')\n",
    "sns.histplot(df['DIABETES'],bins=50,kde=False)   # This allows control over the number of bins"
   ]
  },
  {
   "cell_type": "markdown",
   "metadata": {},
   "source": [
    "### Boxplots"
   ]
  },
  {
   "cell_type": "code",
   "execution_count": null,
   "metadata": {},
   "outputs": [],
   "source": [
    "# Basic boxplot\n",
    "\n",
    "sns.boxplot(y=\"DIABETES\", data=df,palette='rainbow')\n",
    "# sns.boxplot(y=\"DIABETES\", data=df,palette='rainbow',orient='h')  change the orientation"
   ]
  },
  {
   "cell_type": "code",
   "execution_count": null,
   "metadata": {},
   "outputs": [],
   "source": [
    "sns.boxplot(data=df['DIABETES'], orient=\"v\", palette='Set3' ,whis=1.5,saturation=1, width=0.7)\n",
    "plt.title(\"Diabetes Boxplot\", fontsize = 14, fontweight = 'bold')\n",
    "plt.ylabel(\"Diabetes Range\", fontweight = 'bold')\n",
    "plt.xlabel(\"Continuous Variable\", fontweight = 'bold')"
   ]
  },
  {
   "cell_type": "code",
   "execution_count": null,
   "metadata": {},
   "outputs": [],
   "source": [
    "# Boxplot stratified by carbody\n",
    "\n",
    "sns.boxplot(x='GenderMajority', y='DIABETES', data=df,palette='rainbow')"
   ]
  },
  {
   "cell_type": "code",
   "execution_count": null,
   "metadata": {},
   "outputs": [],
   "source": [
    "# Multiple boxplots\n",
    "plt.figure(figsize=(20, 15))\n",
    "plt.subplot(3,3,1)\n",
    "sns.boxplot(y = 'CASTHMA', x = 'State', data = df)\n",
    "plt.subplot(3,3,2)\n",
    "sns.boxplot(y = 'BPHIGH', x = 'State', data = df)\n",
    "plt.subplot(3,3,3)\n",
    "sns.boxplot(y = 'CANCER', x = 'State', data = df)\n",
    "plt.subplot(3,3,4)\n",
    "sns.boxplot(y = 'HIGHCHOL', x = 'State', data = df)\n",
    "plt.subplot(3,3,5)\n",
    "sns.boxplot(y = 'KIDNEY', x = 'State', data = df)\n",
    "plt.subplot(3,3,6)\n",
    "sns.boxplot(y = 'COPD', x = 'State', data = df)\n",
    "plt.subplot(3,3,7)\n",
    "sns.boxplot(y = 'CHD', x = 'State', data = df)\n",
    "plt.subplot(3,3,8)\n",
    "sns.boxplot(y = 'MHLTH', x = 'State', data = df)\n",
    "plt.subplot(3,3,9)\n",
    "sns.boxplot(x = 'PHLTH', y = 'State', data = df)\n",
    "plt.show()"
   ]
  },
  {
   "cell_type": "markdown",
   "metadata": {},
   "source": [
    "### Violinplots"
   ]
  },
  {
   "cell_type": "code",
   "execution_count": null,
   "metadata": {},
   "outputs": [],
   "source": [
    "# Violinplot stratified by carbody\n",
    "\n",
    "sns.violinplot(y='DIABETES', data=df,palette='rainbow')"
   ]
  },
  {
   "cell_type": "markdown",
   "metadata": {},
   "source": [
    "### Counting unique values for each variable"
   ]
  },
  {
   "cell_type": "code",
   "execution_count": null,
   "metadata": {},
   "outputs": [],
   "source": [
    "for column in df.columns:\n",
    "    print(f\"{column}: Number of unique values {df[column].nunique()}\")\n",
    "    print(\"==========================================================\")"
   ]
  },
  {
   "cell_type": "code",
   "execution_count": null,
   "metadata": {},
   "outputs": [],
   "source": [
    "# Looping through all the 'object type' variables and counting how many rows for each unique variable.\n",
    "object_col = []\n",
    "for column in df.columns:\n",
    "    if df[column].dtype == object and len(df[column].unique()) <= 30:\n",
    "        object_col.append(column)\n",
    "        print(f\"{column} : {df[column].unique()}\")\n",
    "        print(df[column].value_counts())\n",
    "        print(\"====================================\")"
   ]
  },
  {
   "cell_type": "markdown",
   "metadata": {},
   "source": [
    "# "
   ]
  },
  {
   "cell_type": "markdown",
   "metadata": {},
   "source": [
    "## Bar Charts"
   ]
  },
  {
   "cell_type": "code",
   "execution_count": null,
   "metadata": {},
   "outputs": [],
   "source": [
    "# Visualizing the number of counties for each State\n",
    "\n",
    "plt.rcParams['figure.figsize'] = [15,8]\n",
    "ax=df['State'].value_counts().plot(kind='bar',stacked=True, colormap = 'Set1')\n",
    "ax.title.set_text('State')\n",
    "plt.xlabel(\"Names of the State\",fontweight = 'bold')\n",
    "plt.ylabel(\"Count of Counties\",fontweight = 'bold')"
   ]
  },
  {
   "cell_type": "markdown",
   "metadata": {},
   "source": [
    "### Count number of rows for each unique value of a variable"
   ]
  },
  {
   "cell_type": "code",
   "execution_count": null,
   "metadata": {},
   "outputs": [],
   "source": [
    "x= df['State'].value_counts()\n",
    "x"
   ]
  },
  {
   "cell_type": "markdown",
   "metadata": {},
   "source": [
    "### Multiple bar charts in a figure"
   ]
  },
  {
   "cell_type": "code",
   "execution_count": null,
   "metadata": {},
   "outputs": [],
   "source": [
    "plt.figure(figsize=(25, 6))\n",
    "\n",
    "plt.subplot(1,3,1)\n",
    "plt1 = df['State'].value_counts().plot(kind='bar')\n",
    "plt.title('States')\n",
    "plt1.set(xlabel = 'State', ylabel='Frequency')\n",
    "\n",
    "plt.subplot(1,3,2)\n",
    "plt1 = df['StateAbbr'].value_counts().plot(kind='bar')\n",
    "plt.title('State Abbreviation')\n",
    "plt1.set(xlabel = 'State Abbreviation', ylabel='Frequency')\n",
    "\n",
    "plt.subplot(1,3,3)\n",
    "plt1 = df['GenderMajority'].value_counts().plot(kind='bar')\n",
    "plt.title('Gender Majority')\n",
    "plt1.set(xlabel = 'Gender', ylabel='Frequency of Car Body')"
   ]
  },
  {
   "cell_type": "markdown",
   "metadata": {},
   "source": [
    "### Binning numeric values into groups"
   ]
  },
  {
   "cell_type": "code",
   "execution_count": null,
   "metadata": {},
   "outputs": [],
   "source": [
    "pop_category = pd.cut(df.TotalPopulation,bins=[0,25000,100000,150000,1000000],labels=['Small','Medium','Large','Metro'])\n",
    "df.insert(4,'Pop Group',pop_category)"
   ]
  },
  {
   "cell_type": "code",
   "execution_count": null,
   "metadata": {},
   "outputs": [],
   "source": [
    "df['Pop Group'].value_counts(normalize=False) # True shows percent of total"
   ]
  },
  {
   "cell_type": "code",
   "execution_count": null,
   "metadata": {},
   "outputs": [],
   "source": [
    "plt.figure(figsize=(15,8))\n",
    "#plt.rcParams['figure.figsize'] = [15,8]\n",
    "ax=df['Pop Group'].value_counts().plot(kind='bar',stacked=True, colormap = 'Set1')\n",
    "ax.title.set_text('Categories')\n",
    "plt.xlabel(\"Population Groups\",fontweight = 'bold')\n",
    "plt.ylabel(\"Count of Rows\",fontweight = 'bold')"
   ]
  },
  {
   "cell_type": "markdown",
   "metadata": {},
   "source": [
    "# Scatterplots"
   ]
  },
  {
   "cell_type": "code",
   "execution_count": null,
   "metadata": {},
   "outputs": [],
   "source": [
    "# Basic scatterplot\n",
    "\n",
    "plt.scatter(y = df['DIABETES'], x = df['KIDNEY'])\n",
    "plt.xlabel(\"KIDNEY\",fontweight = 'bold')\n",
    "plt.ylabel(\"DIABETES\",fontweight = 'bold')\n",
    "#plt.show()"
   ]
  },
  {
   "cell_type": "code",
   "execution_count": null,
   "metadata": {},
   "outputs": [],
   "source": [
    "# Multiple plots (Multiple variables vs one variable)\n",
    "\n",
    "col = ['BPHIGH','HIGHCHOL','MHLTH','PHLTH','STROKE']\n",
    "\n",
    "# Scatter Plot of independent variables vs dependent variables\n",
    "\n",
    "fig,axes = plt.subplots(2,3,figsize=(18,15))\n",
    "for seg,col in enumerate(col):\n",
    "    x,y = seg//3,seg%3\n",
    "    an=sns.scatterplot(x=col, y='DIABETES' ,data=df, ax=axes[x,y])\n",
    "    plt.setp(an.get_xticklabels(), rotation=45)\n",
    "   \n",
    "plt.subplots_adjust(hspace=0.5)\n"
   ]
  },
  {
   "cell_type": "code",
   "execution_count": null,
   "metadata": {},
   "outputs": [],
   "source": [
    "# Pairplot \n",
    "#sns.pairplot(df) # This will take a long time to run and return an unreadable image because we have so many columns."
   ]
  },
  {
   "cell_type": "code",
   "execution_count": null,
   "metadata": {},
   "outputs": [],
   "source": [
    "# Create a new dataframe\n",
    "\n",
    "df2 = df[['TotalPopulation','ChildPoverty','MeanCommute','MeanHealthCommute','Unemployment%_2019','Median Household Income_2019',]]"
   ]
  },
  {
   "cell_type": "code",
   "execution_count": null,
   "metadata": {},
   "outputs": [],
   "source": [
    "plt.figure(figsize=(8,8))\n",
    "sns.pairplot(df2)"
   ]
  },
  {
   "cell_type": "code",
   "execution_count": null,
   "metadata": {},
   "outputs": [],
   "source": [
    "xyz = df.corr()\n",
    "xyz"
   ]
  },
  {
   "cell_type": "code",
   "execution_count": null,
   "metadata": {},
   "outputs": [],
   "source": [
    "sns.heatmap(xyz, annot=False)"
   ]
  },
  {
   "cell_type": "code",
   "execution_count": null,
   "metadata": {},
   "outputs": [],
   "source": [
    "plt.figure(figsize=(15,15))\n",
    "corr = df.corr()\n",
    "ax = sns.heatmap(\n",
    "    corr,\n",
    "    vmin=-1, vmax=1, center=0,\n",
    "    cmap=sns.diverging_palette(20, 220, n=200),\n",
    "    square=True,\n",
    "    annot=True, annot_kws={\"size\":10}\n",
    ")\n",
    "ax.set_xticklabels(\n",
    "    ax.get_xticklabels(),\n",
    "    rotation=45,\n",
    "    horizontalalignment='right'\n",
    ");"
   ]
  },
  {
   "cell_type": "code",
   "execution_count": null,
   "metadata": {},
   "outputs": [],
   "source": [
    "plt.figure(figsize=(20, 20))\n",
    "corr = df.corr()\n",
    "ax = sns.heatmap(\n",
    "    corr,\n",
    "    vmin=-1, vmax=1, center=0,\n",
    "    cmap=sns.diverging_palette(20, 220, n=200),\n",
    "    square=True,\n",
    "    annot=False, annot_kws={\"size\":20}\n",
    ")\n",
    "ax.set_xticklabels(\n",
    "    ax.get_xticklabels(),\n",
    "    rotation=45,\n",
    "    horizontalalignment='right'\n",
    ");"
   ]
  },
  {
   "cell_type": "markdown",
   "metadata": {},
   "source": [
    "# Linear regressions"
   ]
  },
  {
   "cell_type": "code",
   "execution_count": null,
   "metadata": {},
   "outputs": [],
   "source": [
    "# Run price vs. citympg\n",
    "\n",
    "model = sm.OLS.from_formula('DIABETES ~ COPD', data=df)\n",
    "result = model.fit()\n",
    "result.summary()"
   ]
  },
  {
   "cell_type": "code",
   "execution_count": null,
   "metadata": {},
   "outputs": [],
   "source": [
    "# Run a different variable against DIABETES\n",
    "\n",
    "#... code here ......\n",
    "result = model.fit()\n",
    "result.summary()"
   ]
  },
  {
   "cell_type": "code",
   "execution_count": null,
   "metadata": {},
   "outputs": [],
   "source": [
    "# Run each of the combinations og IVs (e.g., carheight and curbweight)\n",
    "# syntax    model = sm.OLS.from_formula('DV ~ IV1+IV2', data=dataframe_name)\n",
    "\n",
    "\n",
    "#... code here ......\n",
    "result = model.fit()\n",
    "result.summary()"
   ]
  },
  {
   "cell_type": "code",
   "execution_count": null,
   "metadata": {},
   "outputs": [],
   "source": [
    "model = sm.OLS.from_formula('DIABETES ~ COPD+TEETHLOST', data=df)\n",
    "result = model.fit()\n",
    "result.summary()"
   ]
  },
  {
   "cell_type": "code",
   "execution_count": null,
   "metadata": {},
   "outputs": [],
   "source": []
  }
 ],
 "metadata": {
  "kernelspec": {
   "display_name": "Python 3 (ipykernel)",
   "language": "python",
   "name": "python3"
  },
  "language_info": {
   "codemirror_mode": {
    "name": "ipython",
    "version": 3
   },
   "file_extension": ".py",
   "mimetype": "text/x-python",
   "name": "python",
   "nbconvert_exporter": "python",
   "pygments_lexer": "ipython3",
   "version": "3.9.13"
  },
  "toc": {
   "base_numbering": 1,
   "nav_menu": {},
   "number_sections": true,
   "sideBar": true,
   "skip_h1_title": false,
   "title_cell": "Table of Contents",
   "title_sidebar": "Contents",
   "toc_cell": true,
   "toc_position": {},
   "toc_section_display": true,
   "toc_window_display": true
  },
  "varInspector": {
   "cols": {
    "lenName": 16,
    "lenType": 16,
    "lenVar": 40
   },
   "kernels_config": {
    "python": {
     "delete_cmd_postfix": "",
     "delete_cmd_prefix": "del ",
     "library": "var_list.py",
     "varRefreshCmd": "print(var_dic_list())"
    },
    "r": {
     "delete_cmd_postfix": ") ",
     "delete_cmd_prefix": "rm(",
     "library": "var_list.r",
     "varRefreshCmd": "cat(var_dic_list()) "
    }
   },
   "types_to_exclude": [
    "module",
    "function",
    "builtin_function_or_method",
    "instance",
    "_Feature"
   ],
   "window_display": false
  }
 },
 "nbformat": 4,
 "nbformat_minor": 4
}
