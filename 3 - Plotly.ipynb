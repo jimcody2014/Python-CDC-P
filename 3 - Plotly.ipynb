{
 "cells": [
  {
   "cell_type": "markdown",
   "id": "18fe05ea",
   "metadata": {
    "toc": true
   },
   "source": [
    "<h1>Table of Contents<span class=\"tocSkip\"></span></h1>\n",
    "<div class=\"toc\"><ul class=\"toc-item\"><li><span><a href=\"#Getting-the-data\" data-toc-modified-id=\"Getting-the-data-1\"><span class=\"toc-item-num\">1&nbsp;&nbsp;</span>Getting the data</a></span></li><li><span><a href=\"#plotly-express\" data-toc-modified-id=\"plotly-express-2\"><span class=\"toc-item-num\">2&nbsp;&nbsp;</span>plotly express</a></span></li><li><span><a href=\"#Exercise-1---10-minutes\" data-toc-modified-id=\"Exercise-1---10-minutes-3\"><span class=\"toc-item-num\">3&nbsp;&nbsp;</span>Exercise 1 - 10 minutes</a></span></li><li><span><a href=\"#plotly-graph-objects\" data-toc-modified-id=\"plotly-graph-objects-4\"><span class=\"toc-item-num\">4&nbsp;&nbsp;</span>plotly graph objects</a></span><ul class=\"toc-item\"><li><span><a href=\"#Getting-the-data-ready\" data-toc-modified-id=\"Getting-the-data-ready-4.1\"><span class=\"toc-item-num\">4.1&nbsp;&nbsp;</span>Getting the data ready</a></span></li><li><span><a href=\"#Bar-Charts\" data-toc-modified-id=\"Bar-Charts-4.2\"><span class=\"toc-item-num\">4.2&nbsp;&nbsp;</span>Bar Charts</a></span></li><li><span><a href=\"#Scatterplot\" data-toc-modified-id=\"Scatterplot-4.3\"><span class=\"toc-item-num\">4.3&nbsp;&nbsp;</span>Scatterplot</a></span></li><li><span><a href=\"#Line-Charts\" data-toc-modified-id=\"Line-Charts-4.4\"><span class=\"toc-item-num\">4.4&nbsp;&nbsp;</span>Line Charts</a></span><ul class=\"toc-item\"><li><ul class=\"toc-item\"><li><span><a href=\"#When-using-graph-objects,-line-charts-are-scatter-charts-with-connected-marks.\" data-toc-modified-id=\"When-using-graph-objects,-line-charts-are-scatter-charts-with-connected-marks.-4.4.0.1\"><span class=\"toc-item-num\">4.4.0.1&nbsp;&nbsp;</span>When using graph objects, line charts are scatter charts with connected marks.</a></span></li></ul></li></ul></li></ul></li><li><span><a href=\"#Exercise---30-minutes\" data-toc-modified-id=\"Exercise---30-minutes-5\"><span class=\"toc-item-num\">5&nbsp;&nbsp;</span>Exercise - 30 minutes</a></span></li></ul></div>"
   ]
  },
  {
   "cell_type": "markdown",
   "id": "108d4893",
   "metadata": {},
   "source": [
    "https://plotly.com/python-api-reference/plotly.express.html\n",
    "\n",
    "https://plotly.com/python/"
   ]
  },
  {
   "cell_type": "markdown",
   "id": "3f1b7e57",
   "metadata": {},
   "source": [
    "1. Plotly express\n",
    "    - bar chart\n",
    "    - line chart\n",
    "    - scatterplot\n",
    "    - exercise - pick two, create share  \n",
    "\n",
    "2. plotly graph objects (go)\n",
    "    - figure structure - The structure of a figure - data, traces and layout explained\n",
    "        - https://plotly.com/python/figure-structure/\n",
    "        - tree of attributes\n",
    "        - data (aka traces)\n",
    "        - layout\n",
    "        - frames (used in animated plots)\n",
    "    - display figures\n",
    "        - in a notebook or script... fig.show()\n",
    "        - renderers png, jpeg, etc. fig.show(renderer=\"png\", width=800, height=300)\n",
    "        - export to html\n",
    "        - static using Kaleido.....https://plotly.com/python/static-image-export/\n",
    "    - bar charts\n",
    "    - line charts\n",
    "    - scatterplot\n",
    "    - map\n",
    "3. subplots\n",
    "    - https://plotly.com/python/creating-and-updating-figures/\n",
    "    - go down to subplot section\n",
    "        "
   ]
  },
  {
   "cell_type": "markdown",
   "id": "14f03a9b",
   "metadata": {},
   "source": [
    "# Getting the data\n",
    "\n",
    "These next few steps read data from data.cdc.gov and do some clean-up and data prep."
   ]
  },
  {
   "cell_type": "code",
   "execution_count": null,
   "id": "58479c00",
   "metadata": {},
   "outputs": [],
   "source": [
    "import requests\n",
    "import pandas as pd\n",
    "import numpy as np\n",
    "import plotly.express as px"
   ]
  },
  {
   "cell_type": "code",
   "execution_count": null,
   "id": "fa66b1c0",
   "metadata": {},
   "outputs": [],
   "source": [
    "# Get the data from CDC and look at it in json format\n",
    "\n",
    "response = requests.get(\"https://data.cdc.gov/resource/saz5-9hgg.json\")\n",
    "jsonhold = response.json()\n",
    "#jsonhold"
   ]
  },
  {
   "cell_type": "code",
   "execution_count": null,
   "id": "a06ca4df",
   "metadata": {},
   "outputs": [],
   "source": [
    "# Put the data into a DataFrame\n",
    "\n",
    "vaccines = pd.DataFrame(jsonhold)\n",
    "\n",
    "# Create month and week columns\n",
    "\n",
    "vaccines['month'] = pd.to_datetime(vaccines['week_of_allocations']).dt.month\n",
    "vaccines['day'] =  pd.to_datetime(vaccines['week_of_allocations']).dt.day\n",
    "\n",
    "\n",
    "# Changing the datatypes & column names\n",
    "\n",
    "vaccines['month'] = vaccines.month.astype(str)\n",
    "vaccines['day'] = vaccines.day.astype(str)\n",
    "vaccines['_1st_dose_allocations'] = pd.to_numeric(vaccines['_1st_dose_allocations']).astype(int)\n",
    "vaccines['_2nd_dose_allocations'] = pd.to_numeric(vaccines['_2nd_dose_allocations']).astype(int)\n",
    "vaccines['_2nd_dose_allocations'] = vaccines._2nd_dose_allocations*1.2\n",
    "\n",
    "\n",
    "short_names = {'_1st_dose_allocations':'first',\n",
    "               '_2nd_dose_allocations':'second'}\n",
    "vaccines.rename(columns=short_names, inplace=True)\n",
    "vaccines = vaccines[vaccines.jurisdiction.isin(['Massachusetts','New Hampshire', 'Rhode Island'])]\n",
    "\n",
    "\n",
    "vaccines.head()\n",
    "               "
   ]
  },
  {
   "cell_type": "code",
   "execution_count": null,
   "id": "6e0151bb",
   "metadata": {},
   "outputs": [],
   "source": [
    "vaccines.shape"
   ]
  },
  {
   "cell_type": "code",
   "execution_count": null,
   "id": "63c5bc7e",
   "metadata": {},
   "outputs": [],
   "source": [
    "vaccines = vaccines.sort_values(by='month')\n",
    "\n",
    "fig = px.line(vaccines, \n",
    "              x = 'month', \n",
    "              y = 'first', \n",
    "              color = 'jurisdiction',\n",
    "              markers = True,\n",
    "              symbol = 'jurisdiction')\n",
    "fig.show()"
   ]
  },
  {
   "cell_type": "code",
   "execution_count": null,
   "id": "1f62e124",
   "metadata": {},
   "outputs": [],
   "source": [
    "v_day = vaccines.groupby('day').sum().reset_index()\n",
    "v_day.head()"
   ]
  },
  {
   "cell_type": "code",
   "execution_count": null,
   "id": "131c93b2",
   "metadata": {},
   "outputs": [],
   "source": [
    "v_month = vaccines.groupby('month').sum().reset_index()\n",
    "v_month.head()"
   ]
  },
  {
   "cell_type": "code",
   "execution_count": null,
   "id": "921deb66",
   "metadata": {},
   "outputs": [],
   "source": [
    "v_sm = vaccines.groupby(['jurisdiction','month']).sum().reset_index()\n",
    "v_sm.head()"
   ]
  },
  {
   "cell_type": "markdown",
   "id": "eb35a36a",
   "metadata": {},
   "source": [
    "# plotly express\n",
    "\n",
    "https://plotly.com/python-api-reference/plotly.express.html"
   ]
  },
  {
   "cell_type": "code",
   "execution_count": null,
   "id": "2624aaac",
   "metadata": {},
   "outputs": [],
   "source": [
    "fig = px.line(v_day, x = 'day', y = 'first')\n",
    "fig.show()"
   ]
  },
  {
   "cell_type": "code",
   "execution_count": null,
   "id": "78b96161",
   "metadata": {},
   "outputs": [],
   "source": [
    "fig = px.line(v_sm, \n",
    "              x = 'month', \n",
    "              y = 'first', \n",
    "              color = 'jurisdiction',\n",
    "              markers = True,\n",
    "              symbol = 'jurisdiction',\n",
    "              text = 'first')\n",
    "fig.show()"
   ]
  },
  {
   "cell_type": "code",
   "execution_count": null,
   "id": "9ce03516",
   "metadata": {},
   "outputs": [],
   "source": [
    "fig = px.scatter(v_sm, \n",
    "              x = 'first', \n",
    "              y = 'second')\n",
    "fig.show()"
   ]
  },
  {
   "cell_type": "code",
   "execution_count": null,
   "id": "eebfa01b",
   "metadata": {},
   "outputs": [],
   "source": [
    "# Using aggregated data\n",
    "fig = px.bar(v_sm, \n",
    "              x = 'month', \n",
    "              y = 'first')\n",
    "fig.show()"
   ]
  },
  {
   "cell_type": "code",
   "execution_count": null,
   "id": "ae14f327",
   "metadata": {},
   "outputs": [],
   "source": [
    "fig = px.bar(v_sm, \n",
    "             x = 'month', \n",
    "             y = 'first',\n",
    "             color = 'jurisdiction')\n",
    "fig.show()"
   ]
  },
  {
   "cell_type": "code",
   "execution_count": null,
   "id": "9792a6b1",
   "metadata": {},
   "outputs": [],
   "source": [
    "# Continuous color\n",
    "fig = px.bar(v_month, \n",
    "             x = 'month', \n",
    "             y = 'first',\n",
    "             color = 'second')\n",
    "fig.show()"
   ]
  },
  {
   "cell_type": "code",
   "execution_count": null,
   "id": "07d7e311",
   "metadata": {},
   "outputs": [],
   "source": [
    "# Unaggregated data\n",
    "\n",
    "fig = px.bar(vaccines, x = 'jurisdiction', y = 'first', color = 'month')\n",
    "fig.show()"
   ]
  },
  {
   "cell_type": "code",
   "execution_count": null,
   "id": "887174e5",
   "metadata": {},
   "outputs": [],
   "source": [
    "# A more dramatic example of same phenomena\n",
    "\n",
    "df = px.data.tips()\n",
    "fig = px.bar(df, \n",
    "             x=\"sex\", \n",
    "             y=\"total_bill\", \n",
    "             color='time')\n",
    "fig.show()"
   ]
  },
  {
   "cell_type": "code",
   "execution_count": null,
   "id": "f436ecae",
   "metadata": {},
   "outputs": [],
   "source": [
    "# Stacked unaggregated data\n",
    "\n",
    "fig = px.bar(vaccines, x = 'jurisdiction', y = 'first', color = 'month')\n",
    "fig.show()"
   ]
  },
  {
   "cell_type": "code",
   "execution_count": null,
   "id": "7a5d650d",
   "metadata": {},
   "outputs": [],
   "source": [
    "# Side-by-side unaggregated data\n",
    "\n",
    "fig = px.bar(vaccines, \n",
    "             x = 'jurisdiction', \n",
    "             y = 'first', \n",
    "             color = 'month',\n",
    "             barmode = 'group')\n",
    "fig.show()"
   ]
  },
  {
   "cell_type": "code",
   "execution_count": null,
   "id": "da083609",
   "metadata": {},
   "outputs": [],
   "source": [
    "# Use histogram to aggregate\n",
    "\n",
    "fig = px.histogram(vaccines, \n",
    "             x = 'jurisdiction', \n",
    "             y = 'first', \n",
    "             color = 'month',\n",
    "             barmode = 'group')\n",
    "fig.show()"
   ]
  },
  {
   "cell_type": "code",
   "execution_count": null,
   "id": "842da8ff",
   "metadata": {},
   "outputs": [],
   "source": [
    "# faceted subplots   ##### Different dataset!\n",
    "\n",
    "df = px.data.tips()\n",
    "fig = px.bar(df, \n",
    "             x=\"sex\", \n",
    "             y=\"total_bill\", \n",
    "             color=\"smoker\", \n",
    "             barmode=\"group\",\n",
    "             facet_row=\"time\", \n",
    "             facet_col=\"day\",\n",
    "             category_orders={\"day\": [\"Thur\", \"Fri\", \"Sat\", \"Sun\"],\n",
    "                              \"time\": [\"Lunch\", \"Dinner\"]})\n",
    "fig.show()"
   ]
  },
  {
   "cell_type": "code",
   "execution_count": null,
   "id": "d5564923",
   "metadata": {},
   "outputs": [],
   "source": []
  },
  {
   "cell_type": "markdown",
   "id": "e9ec95d0",
   "metadata": {},
   "source": [
    "# Exercise 1 - 10 minutes"
   ]
  },
  {
   "cell_type": "code",
   "execution_count": null,
   "id": "49a88f4f",
   "metadata": {},
   "outputs": [],
   "source": [
    "# Exercise 1 plotly express 1 - pie chart"
   ]
  },
  {
   "cell_type": "code",
   "execution_count": null,
   "id": "f7248c1d",
   "metadata": {},
   "outputs": [],
   "source": [
    "# Exercise 1 plotly express 2 - boxplot"
   ]
  },
  {
   "cell_type": "markdown",
   "id": "13bafb4e",
   "metadata": {},
   "source": [
    "# plotly graph objects"
   ]
  },
  {
   "cell_type": "markdown",
   "id": "7be9fd10",
   "metadata": {},
   "source": [
    "## Getting the data ready"
   ]
  },
  {
   "cell_type": "code",
   "execution_count": null,
   "id": "a111b138",
   "metadata": {},
   "outputs": [],
   "source": [
    "import plotly.graph_objects as go\n",
    "import pandas as pd\n",
    "ob = pd.read_csv('https://raw.githubusercontent.com/jimcody2014/Python-Data/main/outbreaks-dashboard.csv')\n",
    "ob.head()"
   ]
  },
  {
   "cell_type": "code",
   "execution_count": null,
   "id": "7fb9ace6",
   "metadata": {},
   "outputs": [],
   "source": [
    "ob_month = ob.groupby('Month')[['Illnesses','Hospitalizations', 'Fatalities']].sum().reset_index()"
   ]
  },
  {
   "cell_type": "code",
   "execution_count": null,
   "id": "7f373052",
   "metadata": {},
   "outputs": [],
   "source": [
    "oby = ob.groupby('Year')[['Illnesses','Hospitalizations', 'Fatalities']].sum().reset_index()"
   ]
  },
  {
   "cell_type": "code",
   "execution_count": null,
   "id": "1ee76cf5",
   "metadata": {},
   "outputs": [],
   "source": [
    "obs = ob.groupby('State')[['Illnesses','Hospitalizations', 'Fatalities']].sum().reset_index()"
   ]
  },
  {
   "cell_type": "markdown",
   "id": "77e92437",
   "metadata": {},
   "source": [
    "## Bar Charts"
   ]
  },
  {
   "cell_type": "code",
   "execution_count": null,
   "id": "c1f03e9d",
   "metadata": {},
   "outputs": [],
   "source": [
    "# Basic graph object\n",
    "fig = go.Figure(\n",
    "    data=[go.Bar(x=['apples', 'oranges', 'bananas'], y=[1, 3, 2])],\n",
    "    layout=go.Layout(\n",
    "        title=go.layout.Title(text=\"A Figure Specified By A Graph Object\")\n",
    "    )\n",
    ")\n",
    "\n",
    "fig.show()"
   ]
  },
  {
   "cell_type": "code",
   "execution_count": null,
   "id": "197c5d85",
   "metadata": {},
   "outputs": [],
   "source": [
    "print(fig)"
   ]
  },
  {
   "cell_type": "code",
   "execution_count": null,
   "id": "8b1aba4d",
   "metadata": {
    "scrolled": true
   },
   "outputs": [],
   "source": [
    "# Very minimal\n",
    "\n",
    "fig = go.Figure([go.Bar(x=['apples', 'oranges', 'bananas'], y=[1, 3, 2])])\n",
    "fig.show()"
   ]
  },
  {
   "cell_type": "code",
   "execution_count": null,
   "id": "91095aa5",
   "metadata": {},
   "outputs": [],
   "source": [
    "# With dataframe data - version 1\n",
    "fig = go.Figure(go.Bar(x=ob['Month'], y = ob['Illnesses'],hovertemplate = \"%{x}: <br>Illnesses: %{y} </br> %{y}\"))\n",
    "fig.show()"
   ]
  },
  {
   "cell_type": "code",
   "execution_count": null,
   "id": "3aaab2c8",
   "metadata": {},
   "outputs": [],
   "source": [
    "# With dataframe data - version 2 - just a different way of accessing the variables\n",
    "\n",
    "fig = go.Figure(go.Bar(x=ob.Month, y = ob.Illnesses))\n",
    "fig.show()"
   ]
  },
  {
   "cell_type": "code",
   "execution_count": null,
   "id": "22d6dea5",
   "metadata": {},
   "outputs": [],
   "source": [
    "# With aggregated dataframe data\n",
    "fig = go.Figure(go.Bar(x=ob_month.Month, y = ob_month.Illnesses))\n",
    "fig.show()"
   ]
  },
  {
   "cell_type": "code",
   "execution_count": null,
   "id": "6c3e3ce6",
   "metadata": {},
   "outputs": [],
   "source": [
    "fig = go.Figure(go.Bar(x=ob_month.Month, y = ob_month.Illnesses))\n",
    "fig.update_layout(xaxis={'categoryorder':'array', 'categoryarray':['January','February','March','April','May','June','July','August',\n",
    "                              'September','October','November','December']})\n",
    "fig.show()"
   ]
  },
  {
   "cell_type": "code",
   "execution_count": null,
   "id": "fed03a13",
   "metadata": {},
   "outputs": [],
   "source": [
    "# Multiple traces\n",
    "fig = go.Figure(\n",
    "    data=[go.Bar(name = 'ill', x=ob_month.Month, y = ob_month.Illnesses),\n",
    "         go.Bar(name = 'hosp', x=ob_month.Month, y = ob_month.Hospitalizations)],\n",
    "    layout=go.Layout(\n",
    "        title=go.layout.Title(text=\"A Figure Specified By A Graph Object\")\n",
    "    )\n",
    ")\n",
    "\n",
    "fig.show()"
   ]
  },
  {
   "cell_type": "code",
   "execution_count": null,
   "id": "3228bfc2",
   "metadata": {},
   "outputs": [],
   "source": [
    "# Layout update\n",
    "fig = go.Figure(\n",
    "    data=[go.Bar(name = 'ill', x=ob_month.Month, y = ob_month.Illnesses),\n",
    "         go.Bar(name = 'hosp', x=ob_month.Month, y = ob_month.Hospitalizations)],\n",
    "    layout=go.Layout(\n",
    "        title=go.layout.Title(text=\"A Figure Specified By A Graph Object\")\n",
    "    )\n",
    ")\n",
    "fig.update_layout(barmode='stack')\n",
    "fig.show()"
   ]
  },
  {
   "cell_type": "code",
   "execution_count": null,
   "id": "2b88079d",
   "metadata": {},
   "outputs": [],
   "source": [
    "# From the documentation - Adding multiple 'traces'\n",
    "months = ['Jan', 'Feb', 'Mar', 'Apr', 'May', 'Jun',\n",
    "          'Jul', 'Aug', 'Sep', 'Oct', 'Nov', 'Dec']\n",
    "\n",
    "fig = go.Figure()\n",
    "fig.add_trace(go.Bar(\n",
    "    x=months,\n",
    "    y=[20, 14, 25, 16, 18, 22, 19, 15, 12, 16, 14, 17],\n",
    "    name='Primary Product',\n",
    "    marker_color='indianred'\n",
    "))\n",
    "fig.add_trace(go.Bar(\n",
    "    x=months,\n",
    "    y=[19, 14, 22, 14, 16, 19, 15, 14, 10, 12, 12, 16],\n",
    "    name='Secondary Product',\n",
    "    marker_color='lightsalmon'\n",
    "))\n",
    "\n",
    "# Here we modify the tickangle of the xaxis, resulting in rotated labels.\n",
    "fig.update_layout(barmode='group', xaxis_tickangle=-45)\n",
    "fig.show()"
   ]
  },
  {
   "cell_type": "code",
   "execution_count": null,
   "id": "c6e9060a",
   "metadata": {},
   "outputs": [],
   "source": [
    "# Modifying the Hover text & traces update\n",
    "\n",
    "fig = go.Figure(go.Bar(x=ob_month.Month, y = ob_month.Illnesses,\n",
    "                      hovertext=['A lot', 'medium', 'Big']))\n",
    "\n",
    "fig.update_traces(marker_color='rgb(158,202,225)', marker_line_color='rgb(8,48,107)',\n",
    "                  marker_line_width=1.5, opacity=0.6)\n",
    "fig.update_layout(title_text='Outbreaks by Month')\n",
    "fig.show()"
   ]
  },
  {
   "cell_type": "code",
   "execution_count": null,
   "id": "7554e090",
   "metadata": {},
   "outputs": [],
   "source": [
    "# Modifying colors\n",
    "\n",
    "# amts = [37,27,33,30,29,30,35,33,37,32,27,24]\n",
    "colors = ['lightslategray',] * 12\n",
    "colors[11] = 'crimson'\n",
    "\n",
    "fig = go.Figure(go.Bar(x=ob_month.Month, y = ob_month.Illnesses,\n",
    "                      hovertext=['A lot', 'medium', 'Big'],\n",
    "                      text = ob_month.Illnesses,\n",
    "                      textposition = 'auto',\n",
    "                      marker_color = colors)\n",
    "               )\n",
    "\n",
    "fig.update_layout(title_text='Outbreaks by Month')\n",
    "\n",
    "fig.update_traces(texttemplate='%{text:.2s}', textposition='outside')\n",
    "fig.update_layout(uniformtext_minsize=8, uniformtext_mode='hide')\n",
    "\n",
    "fig.show()"
   ]
  },
  {
   "cell_type": "code",
   "execution_count": null,
   "id": "5c357b5c",
   "metadata": {},
   "outputs": [],
   "source": [
    "# Sorting as part ogf the layout\n",
    "\n",
    "fig = go.Figure(\n",
    "    data=[go.Bar(name = 'ill', x=ob_month.Month, y = ob_month.Illnesses),\n",
    "         go.Bar(name = 'hosp', x=ob_month.Month, y = ob_month.Hospitalizations)],\n",
    "    layout=go.Layout(\n",
    "        title=go.layout.Title(text=\"A Figure Specified By A Graph Object\")\n",
    "    )\n",
    ")\n",
    "fig.update_layout(barmode='stack', xaxis={'categoryorder':'total ascending'})  # descending\n",
    "fig.show()"
   ]
  },
  {
   "cell_type": "markdown",
   "id": "7dfcaef2",
   "metadata": {},
   "source": [
    "## Scatterplot"
   ]
  },
  {
   "cell_type": "markdown",
   "id": "01f806ae",
   "metadata": {},
   "source": [
    "**Reminder:**  ob is outbreaks.  ob_month is outbreak data aggregated to the month"
   ]
  },
  {
   "cell_type": "code",
   "execution_count": null,
   "id": "45535392",
   "metadata": {},
   "outputs": [],
   "source": [
    "fig = go.Figure(data=go.Scatter(x=ob_month.Illnesses, y=ob_month.Fatalities, mode = 'markers'))\n",
    "fig.show()\n"
   ]
  },
  {
   "cell_type": "code",
   "execution_count": null,
   "id": "07bf2da8",
   "metadata": {},
   "outputs": [],
   "source": [
    "# Same figure as above\n",
    "fig = go.Figure()\n",
    "fig.add_trace(go.Scatter(\n",
    "    x=ob_month.Illnesses, \n",
    "    y=ob_month.Fatalities, \n",
    "    mode = 'markers',\n",
    "    marker_color='indianred'\n",
    "))"
   ]
  },
  {
   "cell_type": "markdown",
   "id": "5b69f593",
   "metadata": {},
   "source": [
    "When using Plotly graphic objects, **Scatter** is also used to create line charts.  The marker used chnges the style."
   ]
  },
  {
   "cell_type": "code",
   "execution_count": null,
   "id": "fea62dfb",
   "metadata": {},
   "outputs": [],
   "source": [
    "# From documentation\n",
    "\n",
    "import numpy as np\n",
    "np.random.seed(1)\n",
    "\n",
    "N = 100\n",
    "random_x = np.linspace(0, 1, N)\n",
    "random_y0 = np.random.randn(N) + 5\n",
    "random_y1 = np.random.randn(N)\n",
    "random_y2 = np.random.randn(N) - 5\n",
    "\n",
    "# Create traces\n",
    "fig = go.Figure()\n",
    "fig.add_trace(go.Scatter(x=random_x, y=random_y0, mode='lines', name='lines'))\n",
    "fig.add_trace(go.Scatter(x=random_x, y=random_y1, mode='lines+markers', name='lines+markers'))\n",
    "fig.add_trace(go.Scatter(x=random_x, y=random_y2, mode='markers', name='markers'))\n",
    "\n",
    "fig.show()"
   ]
  },
  {
   "cell_type": "code",
   "execution_count": null,
   "id": "8a78b9c8",
   "metadata": {},
   "outputs": [],
   "source": [
    "# Change the marker size\n",
    "fig = go.Figure()\n",
    "fig.add_trace(go.Scatter(\n",
    "    x=ob_month.Illnesses, \n",
    "    y=ob_month.Hospitalizations, \n",
    "    mode = 'markers',\n",
    "    marker_size=ob_month.Fatalities,\n",
    "    marker_color='indianred'\n",
    "    \n",
    "# Below are different formatting options to try.    \n",
    "    \n",
    "    #marker_color = ob_month.Fatalities\n",
    "    #marker=dict(\n",
    "    #    size=16,\n",
    "    #    color=ob_month.Fatalities, #set color equal to a variable\n",
    "    #    colorscale='inferno', # one of plotly colorscales\n",
    "    #    showscale=True\n",
    "    #)\n",
    "))\n",
    "#fig.update_traces(mode='markers', marker_line_width=2, marker_size=ob_month.Fatalities)\n",
    "# If multiple traces exist, the update will be applied to all traces.\n",
    "\n",
    "#fig.update_layout(title='Sized Scatterplot')\n",
    "\n",
    "# Update the x axes\n",
    "#fig.update_xaxes(tickangle = 90,title_text = \"Illnesses\",title_font={\"size\": 20},title_standoff = 25)\n",
    "#fig.update_xaxes(showline=True, linewidth=2, linecolor='black')\n",
    "#fig.update_xaxes(showgrid=False)\n",
    "\n",
    "# Update the x axes\n",
    "#fig.update_yaxes(title_text = \"Hospitalizations\",title_standoff = 25)\n",
    "#fig.update_yaxes(showline=True, linewidth=2, linecolor='black')\n",
    "#fig.update_yaxes(title_font=dict(size=18, family='Courier', color='crimson'))\n",
    "#fig.update_yaxes(ticklabelposition=\"inside top\", title='Hospitalizations')\n",
    "\n",
    "\n",
    "\n",
    "fig.show()\n",
    "\n",
    "# https://plotly.com/python/builtin-colorscales/"
   ]
  },
  {
   "cell_type": "code",
   "execution_count": null,
   "id": "40b24867",
   "metadata": {},
   "outputs": [],
   "source": [
    "# Using a large dataset - from documentation\n",
    "N = 100000\n",
    "fig = go.Figure(data=go.Scattergl(\n",
    "    x = np.random.randn(N),\n",
    "    y = np.random.randn(N),\n",
    "    mode='markers',\n",
    "    marker=dict(\n",
    "        color=np.random.randn(N),\n",
    "        colorscale='Viridis',\n",
    "        line_width=1\n",
    "    )\n",
    "))\n",
    "fig.show()"
   ]
  },
  {
   "cell_type": "markdown",
   "id": "29a3e8aa",
   "metadata": {},
   "source": [
    "## Line Charts\n",
    "\n",
    "#### When using graph objects, line charts are scatter charts with connected marks."
   ]
  },
  {
   "cell_type": "code",
   "execution_count": null,
   "id": "f69ec3fc",
   "metadata": {},
   "outputs": [],
   "source": [
    "# Line charts are Scatter charts with connected markers.\n",
    "# The default scatter creates a line\n",
    "\n",
    "fig = go.Figure(go.Scatter(x=oby.Year, y=oby.Illnesses))\n",
    "fig.show()"
   ]
  },
  {
   "cell_type": "code",
   "execution_count": null,
   "id": "4df4e758",
   "metadata": {},
   "outputs": [],
   "source": [
    "fig = go.Figure()\n",
    "\n",
    "fig.add_trace(go.Scatter(x=oby.Year, \n",
    "                           y=oby.Illnesses,\n",
    "                           name = 'Illnesses'))\n",
    "\n",
    "fig.add_trace(go.Scatter(x=oby.Year, \n",
    "                         y=oby.Hospitalizations,\n",
    "                         name = 'Hospitalizations',\n",
    "                         line=dict(color='lightgrey', width=4, dash='dot')))\n",
    "# dash options include 'dash', 'dot', and 'dashdot'\n",
    "\n",
    "fig.add_trace(go.Scatter(x=oby.Year, \n",
    "                           y=oby.Fatalities,\n",
    "                           name = 'Fatalities'))\n",
    "\n",
    "fig.update_layout(title='Illnesses by Year',\n",
    "                   xaxis_title='Year',\n",
    "                   yaxis_title='Number of Illnesses')\n",
    "\n",
    "\n",
    "fig.show()"
   ]
  },
  {
   "cell_type": "markdown",
   "id": "8040c580",
   "metadata": {},
   "source": [
    "# Exercise - 30 minutes\n",
    "\n",
    "- Create a new notebook (don't forget the imports)\n",
    "- Name the notebook **Diabetes Analysis Dashboard**\n",
    "- read in the diabetes_for_plotly dataset\n",
    "- group data as needed\n",
    "- Use express or graph objects\n",
    "- Create a scatter plot of any two measures.  Use a third measure to adjust the size.  Color by a categorical value. Add hover text to show the age group.\n",
    "- Create a side-by-side bar chart showing number of lab procedures and number of non lab procedures by gender.\n",
    "- Create a line chart showing number of number of medications by month.\n",
    "- Create a line chart showing number of number of procedures by month.\n",
    "- Create a fifth chart of your choice (NOT scatter, bar or line) using the documentation."
   ]
  },
  {
   "cell_type": "markdown",
   "id": "f5a5368f",
   "metadata": {},
   "source": [
    "https://bitbucket.org/jimcody/sampledata/raw/b2aa6df015816ec35afc482b53df1b7ca7a31f80/diabetes_for_plotly.csv"
   ]
  }
 ],
 "metadata": {
  "kernelspec": {
   "display_name": "Python 3 (ipykernel)",
   "language": "python",
   "name": "python3"
  },
  "language_info": {
   "codemirror_mode": {
    "name": "ipython",
    "version": 3
   },
   "file_extension": ".py",
   "mimetype": "text/x-python",
   "name": "python",
   "nbconvert_exporter": "python",
   "pygments_lexer": "ipython3",
   "version": "3.10.9"
  },
  "toc": {
   "base_numbering": 1,
   "nav_menu": {},
   "number_sections": true,
   "sideBar": false,
   "skip_h1_title": false,
   "title_cell": "Table of Contents",
   "title_sidebar": "",
   "toc_cell": true,
   "toc_position": {
    "height": "calc(100% - 180px)",
    "left": "10px",
    "top": "150px",
    "width": "191px"
   },
   "toc_section_display": false,
   "toc_window_display": false
  },
  "varInspector": {
   "cols": {
    "lenName": 16,
    "lenType": 16,
    "lenVar": 40
   },
   "kernels_config": {
    "python": {
     "delete_cmd_postfix": "",
     "delete_cmd_prefix": "del ",
     "library": "var_list.py",
     "varRefreshCmd": "print(var_dic_list())"
    },
    "r": {
     "delete_cmd_postfix": ") ",
     "delete_cmd_prefix": "rm(",
     "library": "var_list.r",
     "varRefreshCmd": "cat(var_dic_list()) "
    }
   },
   "types_to_exclude": [
    "module",
    "function",
    "builtin_function_or_method",
    "instance",
    "_Feature"
   ],
   "window_display": false
  }
 },
 "nbformat": 4,
 "nbformat_minor": 5
}
