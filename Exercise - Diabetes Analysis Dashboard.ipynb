{
 "cells": [
  {
   "cell_type": "code",
   "execution_count": 1,
   "id": "2da767a7",
   "metadata": {},
   "outputs": [],
   "source": [
    "# Uses a dropdown list to control the year of the chart\n",
    "from jupyter_dash import JupyterDash  \n",
    "from dash.dependencies import Output, Input\n",
    "from dash import no_update\n",
    "from dash import dcc\n",
    "from dash import html                       \n",
    "\n",
    "import pandas as pd \n",
    "import plotly.graph_objects as go\n",
    "import plotly.express as px\n",
    "\n",
    "diabetes = pd.read_csv('https://bitbucket.org/jimcody/sampledata/raw/b2aa6df015816ec35afc482b53df1b7ca7a31f80/diabetes_for_plotly.csv')\n",
    "diabetes['gender'] = diabetes['gender'].replace({'M':'Male', 'Mle':'Male', 'F':'Female', \n",
    "                                                 'female':'Female', 'male':'Male', \n",
    "                                                 '?':'Female', 'Unknown/Invalid':'Female'})\n",
    "\n"
   ]
  },
  {
   "cell_type": "code",
   "execution_count": 2,
   "id": "489a251d",
   "metadata": {},
   "outputs": [
    {
     "data": {
      "text/plain": [
       "Index(['encounter_id', 'patient_nbr', 'race', 'month', 'year', 'gender', 'age',\n",
       "       'admission_type_id', 'discharge_disposition_id', 'time_in_hospital',\n",
       "       'num_lab_procedures', 'num_procedures', 'num_medications', 'diag_1',\n",
       "       'A1Cresult', 'insulin', 'diabetesMed', 'readmitted'],\n",
       "      dtype='object')"
      ]
     },
     "execution_count": 2,
     "metadata": {},
     "output_type": "execute_result"
    }
   ],
   "source": [
    "diabetes.columns\n"
   ]
  },
  {
   "cell_type": "code",
   "execution_count": 3,
   "id": "72fc377d",
   "metadata": {},
   "outputs": [],
   "source": [
    "diabetes = diabetes.drop('encounter_id',axis=1)\n",
    "diabetes = diabetes.drop('patient_nbr',axis=1)\n",
    "diabetes['admission_type_id'] = diabetes.admission_type_id.astype(str)\n",
    "diabetes['discharge_disposition_id'] = diabetes.discharge_disposition_id.astype(str)"
   ]
  },
  {
   "cell_type": "code",
   "execution_count": 6,
   "id": "8e273fc7",
   "metadata": {},
   "outputs": [],
   "source": [
    "d_month = diabetes.groupby(['year','month','admission_type_id','discharge_disposition_id']).sum().reset_index()\n",
    "d_month = d_month.sort_values(['year','month'])"
   ]
  },
  {
   "cell_type": "code",
   "execution_count": 7,
   "id": "865d154b",
   "metadata": {},
   "outputs": [
    {
     "data": {
      "text/html": [
       "<div>\n",
       "<style scoped>\n",
       "    .dataframe tbody tr th:only-of-type {\n",
       "        vertical-align: middle;\n",
       "    }\n",
       "\n",
       "    .dataframe tbody tr th {\n",
       "        vertical-align: top;\n",
       "    }\n",
       "\n",
       "    .dataframe thead th {\n",
       "        text-align: right;\n",
       "    }\n",
       "</style>\n",
       "<table border=\"1\" class=\"dataframe\">\n",
       "  <thead>\n",
       "    <tr style=\"text-align: right;\">\n",
       "      <th></th>\n",
       "      <th>year</th>\n",
       "      <th>month</th>\n",
       "      <th>admission_type_id</th>\n",
       "      <th>discharge_disposition_id</th>\n",
       "      <th>time_in_hospital</th>\n",
       "      <th>num_lab_procedures</th>\n",
       "      <th>num_procedures</th>\n",
       "      <th>num_medications</th>\n",
       "    </tr>\n",
       "  </thead>\n",
       "  <tbody>\n",
       "    <tr>\n",
       "      <th>0</th>\n",
       "      <td>2019</td>\n",
       "      <td>1</td>\n",
       "      <td>1</td>\n",
       "      <td>1</td>\n",
       "      <td>3402</td>\n",
       "      <td>40232</td>\n",
       "      <td>950</td>\n",
       "      <td>12633.0</td>\n",
       "    </tr>\n",
       "    <tr>\n",
       "      <th>1</th>\n",
       "      <td>2019</td>\n",
       "      <td>1</td>\n",
       "      <td>1</td>\n",
       "      <td>11</td>\n",
       "      <td>123</td>\n",
       "      <td>1383</td>\n",
       "      <td>77</td>\n",
       "      <td>486.0</td>\n",
       "    </tr>\n",
       "    <tr>\n",
       "      <th>2</th>\n",
       "      <td>2019</td>\n",
       "      <td>1</td>\n",
       "      <td>1</td>\n",
       "      <td>13</td>\n",
       "      <td>31</td>\n",
       "      <td>359</td>\n",
       "      <td>6</td>\n",
       "      <td>116.0</td>\n",
       "    </tr>\n",
       "    <tr>\n",
       "      <th>3</th>\n",
       "      <td>2019</td>\n",
       "      <td>1</td>\n",
       "      <td>1</td>\n",
       "      <td>14</td>\n",
       "      <td>51</td>\n",
       "      <td>492</td>\n",
       "      <td>8</td>\n",
       "      <td>172.0</td>\n",
       "    </tr>\n",
       "    <tr>\n",
       "      <th>4</th>\n",
       "      <td>2019</td>\n",
       "      <td>1</td>\n",
       "      <td>1</td>\n",
       "      <td>15</td>\n",
       "      <td>8</td>\n",
       "      <td>36</td>\n",
       "      <td>0</td>\n",
       "      <td>23.0</td>\n",
       "    </tr>\n",
       "  </tbody>\n",
       "</table>\n",
       "</div>"
      ],
      "text/plain": [
       "   year  month admission_type_id discharge_disposition_id  time_in_hospital  \\\n",
       "0  2019      1                 1                        1              3402   \n",
       "1  2019      1                 1                       11               123   \n",
       "2  2019      1                 1                       13                31   \n",
       "3  2019      1                 1                       14                51   \n",
       "4  2019      1                 1                       15                 8   \n",
       "\n",
       "   num_lab_procedures  num_procedures  num_medications  \n",
       "0               40232             950          12633.0  \n",
       "1                1383              77            486.0  \n",
       "2                 359               6            116.0  \n",
       "3                 492               8            172.0  \n",
       "4                  36               0             23.0  "
      ]
     },
     "execution_count": 7,
     "metadata": {},
     "output_type": "execute_result"
    }
   ],
   "source": [
    "d_month.head()"
   ]
  },
  {
   "cell_type": "code",
   "execution_count": 8,
   "id": "892efd66",
   "metadata": {},
   "outputs": [
    {
     "data": {
      "text/plain": [
       "(36, 6)"
      ]
     },
     "execution_count": 8,
     "metadata": {},
     "output_type": "execute_result"
    }
   ],
   "source": [
    "d_month.shape"
   ]
  },
  {
   "cell_type": "markdown",
   "id": "5efa4592",
   "metadata": {},
   "source": [
    "# Add dashboard code below"
   ]
  },
  {
   "cell_type": "markdown",
   "id": "44b94a45",
   "metadata": {},
   "source": [
    "# Dash Exercise 1 - 20 minutes\n",
    "\n",
    "- Use the Diabetes Analysis Dashboard notebook.\n",
    "- Add a new cell that will contain all of the dashboard code.\n",
    "- Add dashboard code to show a scatterplot (use the model created the Dashboard Walkthrough notebook).\n",
    "- Can you add two more of your created graphs?"
   ]
  },
  {
   "cell_type": "code",
   "execution_count": null,
   "id": "9c86492e",
   "metadata": {},
   "outputs": [],
   "source": []
  }
 ],
 "metadata": {
  "kernelspec": {
   "display_name": "Python 3 (ipykernel)",
   "language": "python",
   "name": "python3"
  },
  "language_info": {
   "codemirror_mode": {
    "name": "ipython",
    "version": 3
   },
   "file_extension": ".py",
   "mimetype": "text/x-python",
   "name": "python",
   "nbconvert_exporter": "python",
   "pygments_lexer": "ipython3",
   "version": "3.9.12"
  },
  "varInspector": {
   "cols": {
    "lenName": 16,
    "lenType": 16,
    "lenVar": 40
   },
   "kernels_config": {
    "python": {
     "delete_cmd_postfix": "",
     "delete_cmd_prefix": "del ",
     "library": "var_list.py",
     "varRefreshCmd": "print(var_dic_list())"
    },
    "r": {
     "delete_cmd_postfix": ") ",
     "delete_cmd_prefix": "rm(",
     "library": "var_list.r",
     "varRefreshCmd": "cat(var_dic_list()) "
    }
   },
   "types_to_exclude": [
    "module",
    "function",
    "builtin_function_or_method",
    "instance",
    "_Feature"
   ],
   "window_display": false
  }
 },
 "nbformat": 4,
 "nbformat_minor": 5
}
