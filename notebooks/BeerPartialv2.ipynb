{
  "cells": [
    {
      "cell_type": "markdown",
      "id": "57362bb7",
      "metadata": {
        "toc": true,
        "id": "57362bb7"
      },
      "source": [
        "<h1><span class=\"tocSkip\"></span></h1>\n",
        "<div class=\"toc\"><ul class=\"toc-item\"><li><span><a href=\"#Part-1---Manipulating-the-data\" data-toc-modified-id=\"Part-1---Manipulating-the-data-1\"><span class=\"toc-item-num\">1&nbsp;&nbsp;</span>Part 1 - Manipulating the data</a></span></li><li><span><a href=\"#Part-2---Using-Groupby()\" data-toc-modified-id=\"Part-2---Using-Groupby()-2\"><span class=\"toc-item-num\">2&nbsp;&nbsp;</span>Part 2 - Using Groupby()</a></span></li><li><span><a href=\"#Part-3---Merging-a-dataframe\" data-toc-modified-id=\"Part-3---Merging-a-dataframe-3\"><span class=\"toc-item-num\">3&nbsp;&nbsp;</span>Part 3 - Merging a dataframe</a></span></li></ul></div>"
      ]
    },
    {
      "cell_type": "markdown",
      "id": "ee6a7ca0",
      "metadata": {
        "id": "ee6a7ca0"
      },
      "source": [
        "# Part 1 - Manipulating the data"
      ]
    },
    {
      "cell_type": "code",
      "execution_count": null,
      "id": "f3654f69",
      "metadata": {
        "id": "f3654f69"
      },
      "outputs": [],
      "source": [
        "# What imports do you need?  Add them and run it.\n",
        "import pandas as pd\n",
        "import numpy as np\n",
        "import matplotlib.pyplot as plt\n",
        "import matplotlib as mpl\n",
        "import seaborn as sns"
      ]
    },
    {
      "cell_type": "code",
      "execution_count": null,
      "id": "3773f5f5",
      "metadata": {
        "id": "3773f5f5"
      },
      "outputs": [],
      "source": [
        "# Use the beer dataset\n",
        "df = pd.read_csv('https://raw.githubusercontent.com/jimcody2014/python-data/main/beers.csv')"
      ]
    },
    {
      "cell_type": "code",
      "source": [
        "df.shape"
      ],
      "metadata": {
        "id": "UJaumcIG6a2L"
      },
      "id": "UJaumcIG6a2L",
      "execution_count": null,
      "outputs": []
    },
    {
      "cell_type": "code",
      "source": [
        "df.head()"
      ],
      "metadata": {
        "id": "Z7PMyDJa6a9Y"
      },
      "id": "Z7PMyDJa6a9Y",
      "execution_count": null,
      "outputs": []
    },
    {
      "cell_type": "code",
      "source": [
        "# look for duplicates\n",
        "ids = df[\"id\"]\n",
        "df[ids.isin(ids[ids.duplicated()])].sort_values(\"id\")"
      ],
      "metadata": {
        "id": "YDLFM0Pj5p4D"
      },
      "id": "YDLFM0Pj5p4D",
      "execution_count": null,
      "outputs": []
    },
    {
      "cell_type": "code",
      "source": [
        "df.loc[df.duplicated()]"
      ],
      "metadata": {
        "id": "hgR-VRod-n1F"
      },
      "id": "hgR-VRod-n1F",
      "execution_count": null,
      "outputs": []
    },
    {
      "cell_type": "code",
      "source": [
        "# should any data types be changed\n",
        "df.info()"
      ],
      "metadata": {
        "id": "vyimBD8I5qGZ"
      },
      "id": "vyimBD8I5qGZ",
      "execution_count": null,
      "outputs": []
    },
    {
      "cell_type": "code",
      "source": [
        "# decide if you want to change any column names"
      ],
      "metadata": {
        "id": "fJk_0mN95wSL"
      },
      "id": "fJk_0mN95wSL",
      "execution_count": null,
      "outputs": []
    },
    {
      "cell_type": "code",
      "execution_count": null,
      "id": "66a9443b",
      "metadata": {
        "id": "66a9443b"
      },
      "outputs": [],
      "source": [
        "# brewery_id 177 is coded incorrectly.  It is coded as 1770.  Correct the coding.\n",
        "#df.replace(1770,177)\n",
        "\n",
        "br['brewery_id'] = br['brewery_id'].replace({1770:177})\n",
        "#br['brewery_id'].unique()\n",
        "\n",
        "#df.loc[df.brewery_id == 1770,'brewery_id']=177"
      ]
    },
    {
      "cell_type": "code",
      "source": [
        "df['style'].nunique()"
      ],
      "metadata": {
        "id": "86EMlfD4nlXr"
      },
      "id": "86EMlfD4nlXr",
      "execution_count": null,
      "outputs": []
    },
    {
      "cell_type": "code",
      "execution_count": null,
      "id": "8c3dbc9d",
      "metadata": {
        "id": "8c3dbc9d"
      },
      "outputs": [],
      "source": [
        "# Some of the American Pale Ale styles are misspelled.  \n",
        "# Correct those that have All to Ale, Pall to Pale and Americn to American.\n",
        "\n",
        "df['style'] = df['style'].replace({'All':'Ale', 'Pall':'Pale', 'Americn':'American'})\n",
        "df['style'].nunique()"
      ]
    },
    {
      "cell_type": "code",
      "execution_count": null,
      "id": "5e3ff9ad",
      "metadata": {
        "id": "5e3ff9ad"
      },
      "outputs": [],
      "source": [
        "# Change the id and brewery_id to a string object\n",
        "\n",
        "df = df.astype({'id': str, 'brewery_id': str})\n",
        "df.info()"
      ]
    },
    {
      "cell_type": "code",
      "execution_count": null,
      "id": "b073a0b4",
      "metadata": {
        "id": "b073a0b4"
      },
      "outputs": [],
      "source": [
        "beer.head()"
      ]
    },
    {
      "cell_type": "code",
      "execution_count": null,
      "id": "e94fa1b3",
      "metadata": {
        "id": "e94fa1b3"
      },
      "outputs": [],
      "source": [
        "# Rename id to beer_id\n",
        "df.rename(columns={'id': 'beer_id'}, inplace=True)\n",
        "df.columns"
      ]
    },
    {
      "cell_type": "code",
      "execution_count": null,
      "id": "f2333670",
      "metadata": {
        "id": "f2333670"
      },
      "outputs": [],
      "source": [
        "# There are three rows with duplicated data.  Remove the duplicates."
      ]
    },
    {
      "cell_type": "markdown",
      "source": [
        "Do these four tasks."
      ],
      "metadata": {
        "id": "iGQno-hyC5kX"
      },
      "id": "iGQno-hyC5kX"
    },
    {
      "cell_type": "code",
      "execution_count": null,
      "id": "50c3fb81",
      "metadata": {
        "id": "50c3fb81"
      },
      "outputs": [],
      "source": [
        "# Which columns have missing values?\n",
        "df.isna().sum()"
      ]
    },
    {
      "cell_type": "code",
      "source": [
        "df.isnull().sum()"
      ],
      "metadata": {
        "id": "wT31ddYaFey6"
      },
      "id": "wT31ddYaFey6",
      "execution_count": null,
      "outputs": []
    },
    {
      "cell_type": "code",
      "execution_count": null,
      "id": "f68369a3",
      "metadata": {
        "id": "f68369a3"
      },
      "outputs": [],
      "source": [
        "# Create a plot of the missing values.\n",
        "sns.heatmap(df.isnull(), cbar=False)"
      ]
    },
    {
      "cell_type": "code",
      "execution_count": null,
      "id": "a9279b16",
      "metadata": {
        "id": "a9279b16"
      },
      "outputs": [],
      "source": [
        "# If abv contins any missing values, substitute with the median value for the column.\n",
        "\n",
        "df.abv.fillna( df.abv.median(),inplace=True )"
      ]
    },
    {
      "cell_type": "code",
      "execution_count": null,
      "id": "b69c7326",
      "metadata": {
        "id": "b69c7326"
      },
      "outputs": [],
      "source": [
        "# If any column has more than 35% missing data, drop the column.\n",
        "df_null = df.isna().mean().round(4) * 100\n",
        "df_null"
      ]
    },
    {
      "cell_type": "code",
      "source": [
        "df = df.drop('Unnamed: 0',axis=1)\n",
        "df.info()"
      ],
      "metadata": {
        "id": "kA4sRzanGln1"
      },
      "id": "kA4sRzanGln1",
      "execution_count": null,
      "outputs": []
    },
    {
      "cell_type": "code",
      "execution_count": null,
      "id": "d42f7725",
      "metadata": {
        "id": "d42f7725"
      },
      "outputs": [],
      "source": [
        "# If you think the first column is just a row id, drop it."
      ]
    },
    {
      "cell_type": "code",
      "execution_count": null,
      "id": "36dd0cef",
      "metadata": {
        "id": "36dd0cef"
      },
      "outputs": [],
      "source": [
        "# Do any rows have a missing brewery_id?  If yes, drop the row.\n",
        "df.isnull().sum()"
      ]
    },
    {
      "cell_type": "code",
      "execution_count": null,
      "id": "57ab65db",
      "metadata": {
        "id": "57ab65db"
      },
      "outputs": [],
      "source": [
        "# Create a visualization for each categorical column.\n",
        "plt.figure(figsize = (20,20))\n",
        "plt.subplot(2,1,1)\n",
        "sns.countplot(x='name', data=df)\n",
        "plt.subplot(2,1,2)\n",
        "sns.countplot(x='style', data=df)"
      ]
    },
    {
      "cell_type": "code",
      "execution_count": null,
      "id": "97e248d5",
      "metadata": {
        "id": "97e248d5"
      },
      "outputs": [],
      "source": [
        "# Create a histogram for each numerical column.\n",
        "plt.figure(figsize = (20,20))\n",
        "plt.subplot(521)\n",
        "sns.histplot(data=df, x='abv', bins=15)\n",
        "plt.subplot(522)\n",
        "sns.histplot(data=df, x='ibu', bins=25)\n",
        "plt.subplot(523)\n",
        "sns.histplot(data=df, x='ounces', bins =15)\n",
        "\n",
        "\n",
        "plt.suptitle('Histograms')\n",
        "plt.show()"
      ]
    },
    {
      "cell_type": "code",
      "execution_count": null,
      "id": "c0558bbb",
      "metadata": {
        "id": "c0558bbb"
      },
      "outputs": [],
      "source": [
        "# Remove any rows where the ounces value is an outlier.\n",
        "sns.boxplot(data=df, y=\"ounces\")\n",
        "df = df[(df['ounces']<22)]\n",
        "df.shape"
      ]
    },
    {
      "cell_type": "markdown",
      "id": "3bd72352",
      "metadata": {
        "id": "3bd72352"
      },
      "source": [
        "# Part 2 - Using Groupby()"
      ]
    },
    {
      "cell_type": "code",
      "execution_count": null,
      "id": "541af6ca",
      "metadata": {
        "id": "541af6ca"
      },
      "outputs": [],
      "source": [
        "beer.info()"
      ]
    },
    {
      "cell_type": "code",
      "execution_count": null,
      "id": "67656445",
      "metadata": {
        "id": "67656445"
      },
      "outputs": [],
      "source": [
        "# Group by style\n",
        "# How many groups are there?"
      ]
    },
    {
      "cell_type": "code",
      "execution_count": null,
      "id": "90a27030",
      "metadata": {
        "id": "90a27030"
      },
      "outputs": [],
      "source": [
        "# What is the mean abv for each style?"
      ]
    },
    {
      "cell_type": "code",
      "execution_count": null,
      "id": "2cf65039",
      "metadata": {
        "id": "2cf65039"
      },
      "outputs": [],
      "source": [
        "# What is the mean for abv and ounces for each style?"
      ]
    },
    {
      "cell_type": "code",
      "execution_count": null,
      "id": "d6e27113",
      "metadata": {
        "id": "d6e27113"
      },
      "outputs": [],
      "source": [
        "# What is the mean for abv and ounces for each style, brewery_id combination?"
      ]
    },
    {
      "cell_type": "markdown",
      "id": "12f6f52b",
      "metadata": {
        "id": "12f6f52b"
      },
      "source": [
        "# Part 3 - Merging a dataframe"
      ]
    },
    {
      "cell_type": "code",
      "execution_count": null,
      "id": "44a30cdf",
      "metadata": {
        "id": "44a30cdf"
      },
      "outputs": [],
      "source": [
        "# Read in the breweries data\n",
        "# https://raw.githubusercontent.com/jimcody2014/python-data/main/breweries.csv"
      ]
    },
    {
      "cell_type": "code",
      "execution_count": null,
      "id": "4d178776",
      "metadata": {
        "id": "4d178776"
      },
      "outputs": [],
      "source": [
        "# Remove the unnamed column"
      ]
    },
    {
      "cell_type": "code",
      "execution_count": null,
      "id": "7f50101f",
      "metadata": {
        "id": "7f50101f"
      },
      "outputs": [],
      "source": [
        "# Merge the beer df with the breweries df.\n",
        "# What columns will the merge be based on?\n",
        "# Are those columns the same datatype?  Merge columns have to be the same datatype."
      ]
    },
    {
      "cell_type": "code",
      "execution_count": null,
      "id": "1fe89874",
      "metadata": {
        "id": "1fe89874"
      },
      "outputs": [],
      "source": []
    },
    {
      "cell_type": "code",
      "execution_count": null,
      "id": "b879b91c",
      "metadata": {
        "id": "b879b91c"
      },
      "outputs": [],
      "source": []
    }
  ],
  "metadata": {
    "kernelspec": {
      "display_name": "Python 3 (ipykernel)",
      "language": "python",
      "name": "python3"
    },
    "language_info": {
      "codemirror_mode": {
        "name": "ipython",
        "version": 3
      },
      "file_extension": ".py",
      "mimetype": "text/x-python",
      "name": "python",
      "nbconvert_exporter": "python",
      "pygments_lexer": "ipython3",
      "version": "3.9.7"
    },
    "toc": {
      "base_numbering": 1,
      "nav_menu": {},
      "number_sections": true,
      "sideBar": false,
      "skip_h1_title": false,
      "title_cell": "",
      "title_sidebar": "Contents",
      "toc_cell": true,
      "toc_position": {
        "height": "calc(100% - 180px)",
        "left": "10px",
        "top": "150px",
        "width": "165px"
      },
      "toc_section_display": true,
      "toc_window_display": false
    },
    "varInspector": {
      "cols": {
        "lenName": 16,
        "lenType": 16,
        "lenVar": 40
      },
      "kernels_config": {
        "python": {
          "delete_cmd_postfix": "",
          "delete_cmd_prefix": "del ",
          "library": "var_list.py",
          "varRefreshCmd": "print(var_dic_list())"
        },
        "r": {
          "delete_cmd_postfix": ") ",
          "delete_cmd_prefix": "rm(",
          "library": "var_list.r",
          "varRefreshCmd": "cat(var_dic_list()) "
        }
      },
      "types_to_exclude": [
        "module",
        "function",
        "builtin_function_or_method",
        "instance",
        "_Feature"
      ],
      "window_display": false
    },
    "colab": {
      "provenance": []
    }
  },
  "nbformat": 4,
  "nbformat_minor": 5
}