{
 "cells": [
  {
   "cell_type": "markdown",
   "metadata": {
    "toc": true
   },
   "source": [
    "<h1>Table of Contents: Matplotlib Part 1<span class=\"tocSkip\"></span></h1>\n",
    "<div class=\"toc\"><ul class=\"toc-item\"><li><span><a href=\"#TOC\" data-toc-modified-id=\"TOC-1\"><span class=\"toc-item-num\">1&nbsp;&nbsp;</span>TOC</a></span><ul class=\"toc-item\"><li><span><a href=\"#Figures-and-Axes\" data-toc-modified-id=\"Figures-and-Axes-1.1\"><span class=\"toc-item-num\">1.1&nbsp;&nbsp;</span>Figures and Axes</a></span></li><li><span><a href=\"#Getting-Started\" data-toc-modified-id=\"Getting-Started-1.2\"><span class=\"toc-item-num\">1.2&nbsp;&nbsp;</span>Getting Started</a></span></li><li><span><a href=\"#Plot-specific-options\" data-toc-modified-id=\"Plot-specific-options-1.3\"><span class=\"toc-item-num\">1.3&nbsp;&nbsp;</span>Plot-specific options</a></span><ul class=\"toc-item\"><li><span><a href=\"#Other-plot-components\" data-toc-modified-id=\"Other-plot-components-1.3.1\"><span class=\"toc-item-num\">1.3.1&nbsp;&nbsp;</span>Other plot components</a></span></li></ul></li><li><span><a href=\"#Other-types-of-Plots\" data-toc-modified-id=\"Other-types-of-Plots-1.4\"><span class=\"toc-item-num\">1.4&nbsp;&nbsp;</span>Other types of Plots</a></span><ul class=\"toc-item\"><li><span><a href=\"#Boxplot\" data-toc-modified-id=\"Boxplot-1.4.1\"><span class=\"toc-item-num\">1.4.1&nbsp;&nbsp;</span>Boxplot</a></span></li><li><span><a href=\"#Scatterplot\" data-toc-modified-id=\"Scatterplot-1.4.2\"><span class=\"toc-item-num\">1.4.2&nbsp;&nbsp;</span>Scatterplot</a></span></li><li><span><a href=\"#Bar\" data-toc-modified-id=\"Bar-1.4.3\"><span class=\"toc-item-num\">1.4.3&nbsp;&nbsp;</span>Bar</a></span></li><li><span><a href=\"#Bar-(Horizontal)\" data-toc-modified-id=\"Bar-(Horizontal)-1.4.4\"><span class=\"toc-item-num\">1.4.4&nbsp;&nbsp;</span>Bar (Horizontal)</a></span></li></ul></li><li><span><a href=\"#Exercise-1---Create-a-histogram-(5-minutes)\" data-toc-modified-id=\"Exercise-1---Create-a-histogram-(5-minutes)-1.5\"><span class=\"toc-item-num\">1.5&nbsp;&nbsp;</span>Exercise 1 - Create a histogram (5 minutes)</a></span><ul class=\"toc-item\"><li><span><a href=\"#Plot-with-Dates\" data-toc-modified-id=\"Plot-with-Dates-1.5.1\"><span class=\"toc-item-num\">1.5.1&nbsp;&nbsp;</span>Plot with Dates</a></span></li></ul></li><li><span><a href=\"#Multiple-datasets-in-a-single-plot\" data-toc-modified-id=\"Multiple-datasets-in-a-single-plot-1.6\"><span class=\"toc-item-num\">1.6&nbsp;&nbsp;</span>Multiple datasets in a single plot</a></span></li><li><span><a href=\"#Exercise-2---Create-two-plots-5-minutes\" data-toc-modified-id=\"Exercise-2---Create-two-plots-5-minutes-1.7\"><span class=\"toc-item-num\">1.7&nbsp;&nbsp;</span><em>Exercise 2 - Create two plots</em> 5 minutes</a></span></li><li><span><a href=\"#Figure-level-modifications\" data-toc-modified-id=\"Figure-level-modifications-1.8\"><span class=\"toc-item-num\">1.8&nbsp;&nbsp;</span>Figure level modifications</a></span><ul class=\"toc-item\"><li><span><a href=\"#Plot-Styles\" data-toc-modified-id=\"Plot-Styles-1.8.1\"><span class=\"toc-item-num\">1.8.1&nbsp;&nbsp;</span>Plot Styles</a></span></li><li><span><a href=\"#Experiment\" data-toc-modified-id=\"Experiment-1.8.2\"><span class=\"toc-item-num\">1.8.2&nbsp;&nbsp;</span><em>Experiment</em></a></span></li><li><span><a href=\"#Figure-size\" data-toc-modified-id=\"Figure-size-1.8.3\"><span class=\"toc-item-num\">1.8.3&nbsp;&nbsp;</span>Figure size</a></span></li><li><span><a href=\"#Facecolor\" data-toc-modified-id=\"Facecolor-1.8.4\"><span class=\"toc-item-num\">1.8.4&nbsp;&nbsp;</span>Facecolor</a></span></li><li><span><a href=\"#Saving-to-a-file\" data-toc-modified-id=\"Saving-to-a-file-1.8.5\"><span class=\"toc-item-num\">1.8.5&nbsp;&nbsp;</span>Saving to a file</a></span></li><li><span><a href=\"#Experiment\" data-toc-modified-id=\"Experiment-1.8.6\"><span class=\"toc-item-num\">1.8.6&nbsp;&nbsp;</span><em>Experiment</em></a></span></li></ul></li><li><span><a href=\"#Subplots\" data-toc-modified-id=\"Subplots-1.9\"><span class=\"toc-item-num\">1.9&nbsp;&nbsp;</span>Subplots</a></span></li><li><span><a href=\"#Just-for-a-little-fun....\" data-toc-modified-id=\"Just-for-a-little-fun....-1.10\"><span class=\"toc-item-num\">1.10&nbsp;&nbsp;</span>Just for a little fun....</a></span></li><li><span><a href=\"#Exercise-3---Create-a-figure-with-4-subplots---10-minutes\" data-toc-modified-id=\"Exercise-3---Create-a-figure-with-4-subplots---10-minutes-1.11\"><span class=\"toc-item-num\">1.11&nbsp;&nbsp;</span>Exercise 3 - Create a figure with 4 subplots - 10 minutes</a></span></li></ul></li></ul></div>"
   ]
  },
  {
   "cell_type": "markdown",
   "metadata": {},
   "source": [
    "# TOC"
   ]
  },
  {
   "cell_type": "markdown",
   "metadata": {},
   "source": [
    "## Figures and Axes"
   ]
  },
  {
   "cell_type": "markdown",
   "metadata": {},
   "source": [
    "Think of the **Figure** as your workspace or canvas.  It is the top level container in a plot hierarchy.  You can have multiple independent figures and Figures can contain multiple Axes.\n",
    "\n",
    "Plotting occurs on an **Axes** (not Axis). It is the plot and its associated details (labels, tick marks, grids, etc.)"
   ]
  },
  {
   "cell_type": "markdown",
   "metadata": {},
   "source": [
    "![Figure Anatomy](FigureAnatomy.png)"
   ]
  },
  {
   "cell_type": "markdown",
   "metadata": {},
   "source": [
    "[Click here for matplotlib documentation](https://matplotlib.org/stable/index.html) - - matplotlib.org\n",
    "\n",
    "\n",
    "\n",
    "[Go here for the life cycle of a plot](https://matplotlib.org/stable/tutorials/introductory/lifecycle.html#sphx-glr-tutorials-introductory-lifecycle-py)"
   ]
  },
  {
   "cell_type": "markdown",
   "metadata": {},
   "source": [
    "## Getting Started"
   ]
  },
  {
   "cell_type": "code",
   "execution_count": null,
   "metadata": {},
   "outputs": [],
   "source": [
    "import matplotlib.pyplot as plt\n",
    "import matplotlib as mpl\n",
    "import numpy as np\n",
    "#mpl.rcParams['lines.linewidth'] = 2\n",
    "#mpl.rcParams['lines.linestyle'] = '--'\n",
    "\n",
    "\n",
    "#import os\n",
    "#for dirname, _, filenames in os.walk('/kaggle/input'):\n",
    "#    for filename in filenames:\n",
    "#        print(os.path.join(dirname, filename))\n",
    "\n",
    "data = np.random.randn(100)"
   ]
  },
  {
   "cell_type": "code",
   "execution_count": null,
   "metadata": {},
   "outputs": [],
   "source": [
    "data\n",
    "\n",
    "# matplotlib works with data in an array"
   ]
  },
  {
   "cell_type": "code",
   "execution_count": null,
   "metadata": {},
   "outputs": [],
   "source": [
    "# Create our first plot (plot is the function to use for a lineplot)\n",
    "\n",
    "plt.plot(data)\n",
    "\n",
    "# Behind the scenes, pyplot created the: figure, axes, plot, x-axis and y-axis"
   ]
  },
  {
   "cell_type": "markdown",
   "metadata": {},
   "source": [
    "## Plot-specific options"
   ]
  },
  {
   "cell_type": "markdown",
   "metadata": {},
   "source": [
    "### Other plot components"
   ]
  },
  {
   "cell_type": "markdown",
   "metadata": {},
   "source": [
    "- Title\n",
    "- Axis labels\n",
    "- Legend\n",
    "- Grid\n",
    "- Reference lines\n"
   ]
  },
  {
   "cell_type": "code",
   "execution_count": null,
   "metadata": {},
   "outputs": [],
   "source": [
    "\n",
    "plt.figure(figsize = (15,5))\n",
    "plt.plot(data, label='Random')\n",
    "\n",
    "plt.ylabel('Random Numbers')\n",
    "plt.xlabel('More Random Numbers')\n",
    "plt.title('A Line Plot of Random Numbers')\n",
    "plt.legend()\n",
    "plt.grid(color = 'green',linestyle='-', linewidth=2)\n",
    "plt.axvline(x=43, color= 'r')\n",
    "plt.axvline(x=9, ymin=0.25, ymax=0.75, color = 'r')\n",
    "plt.axhspan(1,1.5, color = 'pink')\n",
    "plt.suptitle('Looks Nice')\n",
    "plt.show()   # removes that little extra line of output"
   ]
  },
  {
   "cell_type": "code",
   "execution_count": null,
   "metadata": {},
   "outputs": [],
   "source": [
    "# In the sample above, reference lines were placed at 9 and 43.\n",
    "# xlim (or ylim) can be used to control the range of the axis.\n",
    "\n",
    "plt.figure(figsize = (15,5))\n",
    "plt.plot(data, label='Random')\n",
    "plt.ylabel('Random Numbers')\n",
    "plt.xlabel('More Random Numbers')\n",
    "plt.title('A Line Plot of Random Numbers')\n",
    "plt.legend()\n",
    "plt.grid(linestyle='-', linewidth=2)\n",
    "plt.xlim(9,43)\n",
    "plt.show()"
   ]
  },
  {
   "cell_type": "markdown",
   "metadata": {},
   "source": [
    "## Other types of Plots"
   ]
  },
  {
   "cell_type": "markdown",
   "metadata": {},
   "source": [
    "### Boxplot"
   ]
  },
  {
   "cell_type": "code",
   "execution_count": null,
   "metadata": {},
   "outputs": [],
   "source": [
    "plt.boxplot(data, showmeans=True)\n",
    "plt.show()\n"
   ]
  },
  {
   "cell_type": "markdown",
   "metadata": {},
   "source": [
    "### Scatterplot"
   ]
  },
  {
   "cell_type": "code",
   "execution_count": null,
   "metadata": {},
   "outputs": [],
   "source": [
    "import math\n",
    "import random\n",
    "\n",
    "# create random data\n",
    "no_of_points = 25\n",
    "x = [random.triangular() for i in range(no_of_points)]\n",
    "y = [random.gauss(0.5, 0.25) for i in range(no_of_points)]\n",
    "colors = [random.randint(1, 4) for i in range(no_of_points)]\n",
    "areas = [math.pi * random.randint(5, 15)**2 for i in range(no_of_points)]\n",
    "\n",
    "plt.scatter(x,y, s=areas, c=colors, alpha=0.4)\n",
    "plt.title('Intersection of x and y')\n",
    "plt.xlabel('Data on the x-axis')\n",
    "plt.ylabel('Data on the y-axis')\n",
    "plt.show()"
   ]
  },
  {
   "cell_type": "markdown",
   "metadata": {},
   "source": [
    "### Bar"
   ]
  },
  {
   "cell_type": "code",
   "execution_count": null,
   "metadata": {},
   "outputs": [],
   "source": [
    "names = ['Georgia', 'Denver', 'Pheonix']\n",
    "values = [1000, 900, 1200]\n",
    "\n",
    "plt.bar(names, values)\n",
    "plt.show()"
   ]
  },
  {
   "cell_type": "markdown",
   "metadata": {},
   "source": [
    "### Bar (Horizontal)"
   ]
  },
  {
   "cell_type": "code",
   "execution_count": null,
   "metadata": {},
   "outputs": [],
   "source": [
    "names = ['Georgia', 'Denver', 'Pheonix']\n",
    "values = [1000, 900, 1200]\n",
    "\n",
    "plt.barh(names, sorted(values))\n",
    "plt.show()"
   ]
  },
  {
   "cell_type": "markdown",
   "metadata": {},
   "source": [
    "## Exercise 1 - Create a histogram (5 minutes)"
   ]
  },
  {
   "cell_type": "code",
   "execution_count": null,
   "metadata": {},
   "outputs": [],
   "source": [
    "# Using 'data', create a histogram.\n",
    "# Do 20 bins make a bettter presentation?\n"
   ]
  },
  {
   "cell_type": "markdown",
   "metadata": {},
   "source": [
    "### Plot with Dates"
   ]
  },
  {
   "cell_type": "code",
   "execution_count": null,
   "metadata": {},
   "outputs": [],
   "source": [
    "import matplotlib\n",
    "import matplotlib.pyplot as plt\n",
    "import numpy as np\n",
    "import datetime\n",
    "\n",
    "\n",
    "y = [ 2,4,6,8,10,12,14,16,18,20 ]\n",
    "x = [datetime.datetime.now() + datetime.timedelta(hours=i) for i in range(len(y))]\n",
    "\n",
    "plt.plot(x,y)\n",
    "#plt.gcf().autofmt_xdate()\n",
    "plt.show()"
   ]
  },
  {
   "cell_type": "markdown",
   "metadata": {},
   "source": [
    "## Multiple datasets in a single plot"
   ]
  },
  {
   "cell_type": "code",
   "execution_count": null,
   "metadata": {},
   "outputs": [],
   "source": [
    "plt.plot([1, 2, 3, 4], [10, 20, 25, 30], color='lightblue', linewidth=3)\n",
    "plt.plot([0.3, 1.2, 2.5, 3.8], [11, 9, 26, 25], color='darkgreen', marker='^', linewidth = 0.5)\n",
    "plt.show()"
   ]
  },
  {
   "cell_type": "code",
   "execution_count": null,
   "metadata": {},
   "outputs": [],
   "source": [
    "plt.plot([1, 2, 3, 4], [10, 20, 25, 30], color='lightblue', linewidth=3)\n",
    "plt.scatter([0.3, 1.2, 2.5, 3.8], [11, 9, 26, 25], color='darkgreen', marker='^', linewidth = 0.5)\n",
    "plt.show()"
   ]
  },
  {
   "cell_type": "markdown",
   "metadata": {},
   "source": [
    "## *Exercise 2 - Create two plots* 5 minutes\n",
    "\n",
    "- Create a new workbook\n",
    "- Remove all of the code added by kaggle.\n",
    "- Import the required packages\n",
    "- In the same plot, plot the data below.\n",
    "    - x = np.linspace(0, 5, 5)\n",
    "    - y = np.linspace(0, 5, 5)\n",
    "    - a = [1,2,3]\n",
    "    - b = [3,4,5]\n",
    "- Plot x and y as a blue line\n",
    "- Plot a and b as a bar chart with green bars\n",
    "- Include a legend in the bottom right hand corner (use the documentation)"
   ]
  },
  {
   "cell_type": "code",
   "execution_count": null,
   "metadata": {},
   "outputs": [],
   "source": []
  },
  {
   "cell_type": "markdown",
   "metadata": {},
   "source": [
    "## Figure level modifications"
   ]
  },
  {
   "cell_type": "markdown",
   "metadata": {},
   "source": [
    "- Changing the sytle\n",
    "- Changing the figure size\n",
    "- Changing the facecolor"
   ]
  },
  {
   "cell_type": "markdown",
   "metadata": {},
   "source": [
    "### Plot Styles"
   ]
  },
  {
   "cell_type": "code",
   "execution_count": null,
   "metadata": {},
   "outputs": [],
   "source": [
    "plt.style.available"
   ]
  },
  {
   "cell_type": "code",
   "execution_count": null,
   "metadata": {},
   "outputs": [],
   "source": [
    "# style can be universal or plot specific\n",
    "\n",
    "plt.style.use('ggplot')\n",
    "plt.plot(data)"
   ]
  },
  {
   "cell_type": "code",
   "execution_count": null,
   "metadata": {},
   "outputs": [],
   "source": [
    "\n",
    "plt.style.use('fivethirtyeight')\n",
    "plt.plot(data)"
   ]
  },
  {
   "cell_type": "markdown",
   "metadata": {},
   "source": [
    "### *Experiment*\n",
    "Try out a couple of different styles to find one you like."
   ]
  },
  {
   "cell_type": "code",
   "execution_count": null,
   "metadata": {},
   "outputs": [],
   "source": [
    "# plt.style.use('xxxxxxxx')\n",
    "plt.plot(data)"
   ]
  },
  {
   "cell_type": "markdown",
   "metadata": {},
   "source": [
    "### Figure size"
   ]
  },
  {
   "cell_type": "code",
   "execution_count": null,
   "metadata": {},
   "outputs": [],
   "source": [
    "plt.style.use('fivethirtyeight')\n",
    "plt.figure(figsize = (15,5))\n",
    "plt.plot(data)\n",
    "plt.show()   # removes that little extra line of output"
   ]
  },
  {
   "cell_type": "markdown",
   "metadata": {},
   "source": [
    "### Facecolor"
   ]
  },
  {
   "cell_type": "code",
   "execution_count": null,
   "metadata": {},
   "outputs": [],
   "source": [
    "plt.style.use('fivethirtyeight')\n",
    "plt.figure(figsize = (15,5), facecolor='red')\n",
    "plt.plot(data)"
   ]
  },
  {
   "cell_type": "markdown",
   "metadata": {},
   "source": [
    "### Saving to a file"
   ]
  },
  {
   "cell_type": "code",
   "execution_count": null,
   "metadata": {},
   "outputs": [],
   "source": [
    "plt.style.use('fivethirtyeight')\n",
    "plt.figure(figsize = (15,5), facecolor='red')\n",
    "plt.plot(data)\n",
    "plt.savefig('new data', transparent=True)"
   ]
  },
  {
   "cell_type": "markdown",
   "metadata": {},
   "source": [
    "### *Experiment*\n",
    "Using the empty code line below, try changing the facecolor and the figure size.  Ave the plot to a file"
   ]
  },
  {
   "cell_type": "code",
   "execution_count": null,
   "metadata": {},
   "outputs": [],
   "source": []
  },
  {
   "cell_type": "markdown",
   "metadata": {},
   "source": [
    "  \n",
    "   \n",
    "    \n",
    "     \n",
    "      \n",
    " \n",
    " \n",
    " \n",
    " "
   ]
  },
  {
   "cell_type": "markdown",
   "metadata": {},
   "source": [
    " "
   ]
  },
  {
   "cell_type": "markdown",
   "metadata": {},
   "source": [
    "## Subplots"
   ]
  },
  {
   "cell_type": "code",
   "execution_count": null,
   "metadata": {},
   "outputs": [],
   "source": [
    "names = ['Georgia', 'Denver', 'Pheonix']\n",
    "values = [1000, 900, 1200]\n",
    "dts = ['1/1/2021', '1/2/2021','1/3/2021']\n",
    "\n",
    "plt.figure(figsize=(15, 5))\n",
    "\n",
    "plt.subplot(131)\n",
    "# plt.subplot(131, facecolor = 'r', frameon = True, title = 'xyz', ylabel = 'Employee Count')\n",
    "plt.bar(names, values, label = 'values')\n",
    "plt.subplot(132)\n",
    "plt.scatter(names, values)\n",
    "plt.subplot(133)\n",
    "plt.plot(dts, values)\n",
    "plt.suptitle('Categorical Plotting')\n",
    "plt.show()"
   ]
  },
  {
   "cell_type": "markdown",
   "metadata": {},
   "source": [
    "## Just for a little fun...."
   ]
  },
  {
   "cell_type": "code",
   "execution_count": null,
   "metadata": {},
   "outputs": [],
   "source": [
    "with plt.xkcd():\n",
    "    # This figure will be in XKCD-style\n",
    "    fig1 = plt.figure()\n",
    "    plt.plot([1, 2, 3, 4], [10, 20, 25, 30], color='lightblue', linewidth=3)\n",
    "    # ...\n",
    "\n",
    "# This figure will be in regular style\n",
    "fig2 = plt.figure()\n",
    "plt.plot([1, 2, 3, 4], [10, 20, 25, 30], color='lightblue', linewidth=3)"
   ]
  },
  {
   "cell_type": "markdown",
   "metadata": {},
   "source": [
    "## Exercise 3 - Create a figure with 4 subplots - 10 minutes\n",
    "\n",
    "In \n",
    "- position 1 add a boxplot using y\n",
    "- position 2 add a scatterplot using x and data \n",
    "- position 3 add a pie chart of x\n",
    "- position 4 add a violin plot using y"
   ]
  },
  {
   "cell_type": "code",
   "execution_count": null,
   "metadata": {},
   "outputs": [],
   "source": [
    "x = np.linspace(0, 100, 100)\n",
    "y = [np.random.normal(0, std, size=100) for std in range(1, 4)]\n",
    "z = np.linspace(100, 200, 100)"
   ]
  },
  {
   "cell_type": "code",
   "execution_count": null,
   "metadata": {},
   "outputs": [],
   "source": []
  },
  {
   "cell_type": "code",
   "execution_count": null,
   "metadata": {},
   "outputs": [],
   "source": []
  }
 ],
 "metadata": {
  "kernelspec": {
   "display_name": "Python 3 (ipykernel)",
   "language": "python",
   "name": "python3"
  },
  "language_info": {
   "codemirror_mode": {
    "name": "ipython",
    "version": 3
   },
   "file_extension": ".py",
   "mimetype": "text/x-python",
   "name": "python",
   "nbconvert_exporter": "python",
   "pygments_lexer": "ipython3",
   "version": "3.9.13"
  },
  "toc": {
   "base_numbering": 1,
   "nav_menu": {},
   "number_sections": true,
   "sideBar": true,
   "skip_h1_title": false,
   "title_cell": "Table of Contents: Matplotlib Part 1",
   "title_sidebar": "",
   "toc_cell": true,
   "toc_position": {
    "height": "calc(100% - 180px)",
    "left": "10px",
    "top": "150px",
    "width": "165px"
   },
   "toc_section_display": true,
   "toc_window_display": false
  },
  "varInspector": {
   "cols": {
    "lenName": 16,
    "lenType": 16,
    "lenVar": 40
   },
   "kernels_config": {
    "python": {
     "delete_cmd_postfix": "",
     "delete_cmd_prefix": "del ",
     "library": "var_list.py",
     "varRefreshCmd": "print(var_dic_list())"
    },
    "r": {
     "delete_cmd_postfix": ") ",
     "delete_cmd_prefix": "rm(",
     "library": "var_list.r",
     "varRefreshCmd": "cat(var_dic_list()) "
    }
   },
   "types_to_exclude": [
    "module",
    "function",
    "builtin_function_or_method",
    "instance",
    "_Feature"
   ],
   "window_display": false
  }
 },
 "nbformat": 4,
 "nbformat_minor": 4
}
