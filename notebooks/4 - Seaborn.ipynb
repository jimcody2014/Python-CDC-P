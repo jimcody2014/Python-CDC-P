{
 "cells": [
  {
   "cell_type": "markdown",
   "id": "1f9e9847",
   "metadata": {
    "toc": true
   },
   "source": [
    "<h1>Table of Contents: Seaborn <span class=\"tocSkip\"></span></h1>\n",
    "<div class=\"toc\"><ul class=\"toc-item\"><li><span><a href=\"#Figure-&amp;-Axes-Level-Plotting-Functions\" data-toc-modified-id=\"Figure-&amp;-Axes-Level-Plotting-Functions-1\"><span class=\"toc-item-num\">1&nbsp;&nbsp;</span>Figure &amp; Axes Level Plotting Functions</a></span></li><li><span><a href=\"#Figure-level-Functions\" data-toc-modified-id=\"Figure-level-Functions-2\"><span class=\"toc-item-num\">2&nbsp;&nbsp;</span>Figure level Functions</a></span></li><li><span><a href=\"#Axes-level-Functions\" data-toc-modified-id=\"Axes-level-Functions-3\"><span class=\"toc-item-num\">3&nbsp;&nbsp;</span>Axes level Functions</a></span></li><li><span><a href=\"#http://seaborn.pydata.org/tutorial.html\" data-toc-modified-id=\"http://seaborn.pydata.org/tutorial.html-4\"><span class=\"toc-item-num\">4&nbsp;&nbsp;</span><a href=\"http://seaborn.pydata.org/tutorial.html\" rel=\"nofollow\" target=\"_blank\">http://seaborn.pydata.org/tutorial.html</a></a></span></li><li><span><a href=\"#Figure-level\" data-toc-modified-id=\"Figure-level-5\"><span class=\"toc-item-num\">5&nbsp;&nbsp;</span>Figure level</a></span></li><li><span><a href=\"#Using-the-'kind'-kwarg\" data-toc-modified-id=\"Using-the-'kind'-kwarg-6\"><span class=\"toc-item-num\">6&nbsp;&nbsp;</span>Using the 'kind' kwarg</a></span></li><li><span><a href=\"#Seaborn-Exercise-1---10-minutes\" data-toc-modified-id=\"Seaborn-Exercise-1---10-minutes-7\"><span class=\"toc-item-num\">7&nbsp;&nbsp;</span>Seaborn Exercise 1 - 10 minutes</a></span></li><li><span><a href=\"#What's-the-difference?\" data-toc-modified-id=\"What's-the-difference?-8\"><span class=\"toc-item-num\">8&nbsp;&nbsp;</span>What's the difference?</a></span><ul class=\"toc-item\"><li><span><a href=\"#Combining-matplotlib-&amp;-seaborn-syntax\" data-toc-modified-id=\"Combining-matplotlib-&amp;-seaborn-syntax-8.1\"><span class=\"toc-item-num\">8.1&nbsp;&nbsp;</span>Combining matplotlib &amp; seaborn syntax</a></span></li></ul></li><li><span><a href=\"#Facet-Grid\" data-toc-modified-id=\"Facet-Grid-9\"><span class=\"toc-item-num\">9&nbsp;&nbsp;</span>Facet Grid</a></span><ul class=\"toc-item\"><li><span><a href=\"#.map()\" data-toc-modified-id=\".map()-9.1\"><span class=\"toc-item-num\">9.1&nbsp;&nbsp;</span>.map()</a></span></li><li><span><a href=\"#.map_dataframe()\" data-toc-modified-id=\".map_dataframe()-9.2\"><span class=\"toc-item-num\">9.2&nbsp;&nbsp;</span>.map_dataframe()</a></span></li><li><span><a href=\"#.set_axis_labels(),----.set_titles(),----sharey,----ylim\" data-toc-modified-id=\".set_axis_labels(),----.set_titles(),----sharey,----ylim-9.3\"><span class=\"toc-item-num\">9.3&nbsp;&nbsp;</span>.set_axis_labels(),    .set_titles(),    sharey,    ylim</a></span></li><li><span><a href=\"#hue-&amp;-pallette\" data-toc-modified-id=\"hue-&amp;-pallette-9.4\"><span class=\"toc-item-num\">9.4&nbsp;&nbsp;</span>hue &amp; pallette</a></span></li></ul></li><li><span><a href=\"#Multiple-Views\" data-toc-modified-id=\"Multiple-Views-10\"><span class=\"toc-item-num\">10&nbsp;&nbsp;</span>Multiple Views</a></span><ul class=\"toc-item\"><li><span><a href=\"#Jointplot\" data-toc-modified-id=\"Jointplot-10.1\"><span class=\"toc-item-num\">10.1&nbsp;&nbsp;</span>Jointplot</a></span></li><li><span><a href=\"#Pairplot\" data-toc-modified-id=\"Pairplot-10.2\"><span class=\"toc-item-num\">10.2&nbsp;&nbsp;</span>Pairplot</a></span></li></ul></li><li><span><a href=\"#Seaborn-Exercise-2---10-minutes\" data-toc-modified-id=\"Seaborn-Exercise-2---10-minutes-11\"><span class=\"toc-item-num\">11&nbsp;&nbsp;</span>Seaborn Exercise 2 - 10 minutes</a></span></li><li><span><a href=\"#Seaborn-Exercise-3---15-minutes\" data-toc-modified-id=\"Seaborn-Exercise-3---15-minutes-12\"><span class=\"toc-item-num\">12&nbsp;&nbsp;</span>Seaborn Exercise 3 - 15 minutes</a></span></li></ul></div>"
   ]
  },
  {
   "cell_type": "markdown",
   "id": "977fdeef",
   "metadata": {},
   "source": [
    "Seaborn is a library for making statistical graphics in Python. It builds on top of matplotlib and integrates closely with pandas data structures.\n",
    "\n",
    "Seaborn helps you explore and understand your data. Its plotting functions operate on dataframes and arrays containing whole datasets and internally perform the necessary semantic mapping and statistical aggregation to produce informative plots. Its dataset-oriented, declarative API lets you focus on what the different elements of your plots mean, rather than on the details of how to draw them.\n",
    "\n"
   ]
  },
  {
   "cell_type": "markdown",
   "id": "ce498f67",
   "metadata": {},
   "source": [
    "## Figure & Axes Level Plotting Functions"
   ]
  },
  {
   "cell_type": "markdown",
   "id": "0e21cada",
   "metadata": {},
   "source": [
    "![Seaborn Plotting Functions](images/sns_overview.png)"
   ]
  },
  {
   "cell_type": "markdown",
   "id": "4ad37192",
   "metadata": {},
   "source": [
    "## Figure level Functions"
   ]
  },
  {
   "cell_type": "markdown",
   "id": "751b2fb3",
   "metadata": {},
   "source": [
    "- relplot\n",
    "- displot - default behavior is histplot\n",
    "- catplot"
   ]
  },
  {
   "cell_type": "markdown",
   "id": "7b847adb",
   "metadata": {},
   "source": [
    " "
   ]
  },
  {
   "cell_type": "markdown",
   "id": "ee3797c6",
   "metadata": {},
   "source": [
    "## Axes level Functions"
   ]
  },
  {
   "cell_type": "markdown",
   "id": "80e9c87a",
   "metadata": {},
   "source": [
    " - scatterplot\n",
    " - lineplot\n",
    " - histplot\n",
    " - etc"
   ]
  },
  {
   "cell_type": "code",
   "execution_count": 1,
   "id": "452af9b8",
   "metadata": {},
   "outputs": [],
   "source": [
    "import numpy as py\n",
    "import pandas as pd\n",
    "import matplotlib.pyplot as plt\n",
    "import seaborn as sns\n",
    "\n",
    "%matplotlib inline\n",
    "\n",
    "#import os\n",
    "#for dirname, _, filenames in os.walk('/kaggle/input'):\n",
    "#    for filename in filenames:\n",
    "#        print(os.path.join(dirname, filename))\n",
    "        \n",
    "sns.set_theme()\n",
    "\n",
    "#df = pd.read_csv('/kaggle/input/seaborn-practice/diamonds.csv')\n",
    "#tips = pd.read_csv('/kaggle/input/seaborn-practice/tips.csv')\n",
    "#penguins = pd.read_csv('/kaggle/input/seaborn-practice/penguins.csv')\n",
    "#flights = pd.read_csv('/kaggle/input/seaborn-practice/flights.csv')\n",
    "\n",
    "df = sns.load_dataset(\"diamonds\")\n",
    "tips = sns.load_dataset(\"tips\")\n",
    "penguins = sns.load_dataset(\"penguins\")\n",
    "flights = sns.load_dataset(\"flights\")"
   ]
  },
  {
   "cell_type": "code",
   "execution_count": null,
   "id": "45108ac5",
   "metadata": {},
   "outputs": [],
   "source": [
    "# sns.get_dataset_names()"
   ]
  },
  {
   "cell_type": "code",
   "execution_count": null,
   "id": "d5a60846",
   "metadata": {},
   "outputs": [],
   "source": [
    "df.head()"
   ]
  },
  {
   "cell_type": "code",
   "execution_count": null,
   "id": "108259b7",
   "metadata": {},
   "outputs": [],
   "source": [
    "tips.head()"
   ]
  },
  {
   "cell_type": "code",
   "execution_count": null,
   "id": "709bc23d",
   "metadata": {},
   "outputs": [],
   "source": [
    "penguins.head()"
   ]
  },
  {
   "cell_type": "code",
   "execution_count": null,
   "id": "0fafd090",
   "metadata": {},
   "outputs": [],
   "source": [
    "flights.head()"
   ]
  },
  {
   "cell_type": "markdown",
   "id": "cc69502d",
   "metadata": {},
   "source": [
    " "
   ]
  },
  {
   "cell_type": "markdown",
   "id": "b35c6816",
   "metadata": {},
   "source": [
    "## http://seaborn.pydata.org/tutorial.html"
   ]
  },
  {
   "cell_type": "markdown",
   "id": "b6322d8f",
   "metadata": {},
   "source": [
    "## Figure level"
   ]
  },
  {
   "cell_type": "markdown",
   "id": "c9a05aac",
   "metadata": {},
   "source": [
    "- Figure-level functions interface with matplotlib through a seaborn object, usually a FacetGrid\n",
    "- Each module (relational, distributions, categorical) has a single figure-level function\n"
   ]
  },
  {
   "cell_type": "code",
   "execution_count": 2,
   "id": "f95721c7",
   "metadata": {},
   "outputs": [
    {
     "data": {
      "image/png": "[encoded data removed]",
      "text/plain": [
       "<Figure size 360x360 with 1 Axes>"
      ]
     },
     "metadata": {},
     "output_type": "display_data"
    }
   ],
   "source": [
    "# The default for distplot is a histogram\n",
    "sns.displot(data=df, x=\"price\")\n",
    "# plt.show() # removes the 'output' text\n",
    "plt.savefig('save_as_a_png.png')"
   ]
  },
  {
   "cell_type": "code",
   "execution_count": 3,
   "id": "b088f4fe",
   "metadata": {},
   "outputs": [
    {
     "data": {
      "text/plain": [
       "<seaborn.axisgrid.FacetGrid at 0x10d259f10>"
      ]
     },
     "execution_count": 3,
     "metadata": {},
     "output_type": "execute_result"
    },
    {
     "data": {
      "image/png": "[encoded data removed]",
      "text/plain": [
       "<Figure size 451.725x360 with 1 Axes>"
      ]
     },
     "metadata": {},
     "output_type": "display_data"
    }
   ],
   "source": [
    "sns.displot(data=df, x=\"price\", hue=\"cut\", multiple=\"stack\")"
   ]
  },
  {
   "cell_type": "markdown",
   "id": "d042cfcb",
   "metadata": {},
   "source": [
    "## Using the 'kind' kwarg"
   ]
  },
  {
   "cell_type": "code",
   "execution_count": null,
   "id": "3ea74657",
   "metadata": {},
   "outputs": [],
   "source": [
    "sns.displot(data=df, x=\"price\", hue=\"cut\", col=\"cut\", kind = 'hist')"
   ]
  },
  {
   "cell_type": "code",
   "execution_count": null,
   "id": "3f83e421",
   "metadata": {},
   "outputs": [],
   "source": [
    "sns.displot(data=df, x=\"price\", hue=\"cut\", col=\"cut\", kind = 'kde')\n",
    "\n",
    "# kernel density estimation"
   ]
  },
  {
   "cell_type": "code",
   "execution_count": null,
   "id": "cc490d8c",
   "metadata": {},
   "outputs": [],
   "source": [
    "sns.displot(data=df, x=\"price\", hue=\"cut\", col=\"cut\", kind = 'ecdf')\n",
    "\n",
    "# empirical cumulative distribution functions"
   ]
  },
  {
   "cell_type": "code",
   "execution_count": null,
   "id": "4e600109",
   "metadata": {},
   "outputs": [],
   "source": [
    "sns.displot(data=df, x=\"price\", hue=\"cut\", kind = 'kde', rug = True)"
   ]
  },
  {
   "cell_type": "code",
   "execution_count": null,
   "id": "b55a0104",
   "metadata": {},
   "outputs": [],
   "source": [
    "# This one might take a minute to run.\n",
    "\n",
    "sns.displot(data=df, x=\"carat\", y='price', kind ='kde')"
   ]
  },
  {
   "cell_type": "markdown",
   "id": "753db660",
   "metadata": {},
   "source": [
    "## Seaborn Exercise 1 - 10 minutes"
   ]
  },
  {
   "cell_type": "markdown",
   "id": "acea2da3",
   "metadata": {},
   "source": [
    "- Use the relational (relplot) figure-level function to create two charts.  First a scatterplot and second a line chart.\n",
    "- Use the 'tips' data set.\n",
    "- For the scatterplot, determine if tips increasewith the bill amount.  Try to show a distinction between data points based on time of day.\n",
    "- For the line chart, show how tips change based on size of the party.\n"
   ]
  },
  {
   "cell_type": "code",
   "execution_count": null,
   "id": "77b143ab",
   "metadata": {},
   "outputs": [],
   "source": [
    "tips.head()"
   ]
  },
  {
   "cell_type": "code",
   "execution_count": null,
   "id": "77a9f9ac",
   "metadata": {},
   "outputs": [],
   "source": [
    "tips.shape"
   ]
  },
  {
   "cell_type": "code",
   "execution_count": null,
   "id": "fa8f9ec9",
   "metadata": {},
   "outputs": [],
   "source": [
    "# Place scatterplot here\n"
   ]
  },
  {
   "cell_type": "code",
   "execution_count": null,
   "id": "31a6d03f",
   "metadata": {},
   "outputs": [],
   "source": []
  },
  {
   "cell_type": "code",
   "execution_count": null,
   "id": "8c3b03cd",
   "metadata": {},
   "outputs": [],
   "source": [
    "# Place line chart here\n",
    "\n",
    "\n",
    "#line aggregates data to the mean.  If each data point is required, use the index\n",
    "#sns.relplot(x=tips.index, y=\"tip\", data=tips, kind = 'line', marker = 'h');"
   ]
  },
  {
   "cell_type": "markdown",
   "id": "986bd8d4",
   "metadata": {},
   "source": [
    "## What's the difference?"
   ]
  },
  {
   "cell_type": "code",
   "execution_count": null,
   "id": "4083dce2",
   "metadata": {},
   "outputs": [],
   "source": [
    "sns.displot(data=df, x=\"price\", hue=\"cut\", multiple=\"stack\", kind = 'hist', bins = 20)"
   ]
  },
  {
   "cell_type": "code",
   "execution_count": null,
   "id": "0b8abbc1",
   "metadata": {},
   "outputs": [],
   "source": [
    "sns.histplot(data=df, x='price', hue='cut', multiple = 'stack', bins = 20)"
   ]
  },
  {
   "cell_type": "markdown",
   "id": "98f91c45",
   "metadata": {},
   "source": [
    "Axes-level functions make self-contained plots\n",
    "The axes-level functions are written to act like drop-in replacements for matplotlib functions. While they add axis labels and legends automatically, they don’t modify anything beyond the axes that they are drawn into. That means they can be composed into arbitrarily-complex matplotlib figures with predictable results."
   ]
  },
  {
   "cell_type": "markdown",
   "id": "39180567",
   "metadata": {},
   "source": [
    "### Combining matplotlib & seaborn syntax"
   ]
  },
  {
   "cell_type": "code",
   "execution_count": null,
   "id": "b6ea1fb2",
   "metadata": {},
   "outputs": [],
   "source": [
    "penguins.head()"
   ]
  },
  {
   "cell_type": "code",
   "execution_count": null,
   "id": "5c133ded",
   "metadata": {},
   "outputs": [],
   "source": [
    "# Example taken from Seaborn documentation\n",
    "\n",
    "# Use penguins dataset\n",
    "\n",
    "f, axs = plt.subplots(1, 2, figsize=(8, 4), gridspec_kw=dict(width_ratios=[4, 3]))\n",
    "\n",
    "sns.scatterplot(data=penguins, \n",
    "                x=\"flipper_length_mm\", \n",
    "                y=\"bill_length_mm\", \n",
    "                hue=\"species\", \n",
    "                ax=axs[0])\n",
    "\n",
    "sns.histplot(data=penguins, \n",
    "             x=\"species\", \n",
    "             hue=\"species\", \n",
    "             shrink=.8, \n",
    "             alpha=.8, \n",
    "             legend=False, \n",
    "             ax=axs[1])\n",
    "\n",
    "f.tight_layout() # adjusts the space between subplots & around  figure edge to accomodate labels and content."
   ]
  },
  {
   "cell_type": "code",
   "execution_count": null,
   "id": "6660b714",
   "metadata": {},
   "outputs": [],
   "source": [
    "# Example taken from Seaborn documentation\n",
    "# Use tips dataset\n",
    "\n",
    "g = sns.relplot(data=tips, x=\"total_bill\", y=\"tip\")\n",
    "g.ax.axline(xy1=(10, 2), slope=.2, color=\"b\", dashes=(5, 2))"
   ]
  },
  {
   "cell_type": "markdown",
   "id": "8e1c0534",
   "metadata": {},
   "source": [
    " "
   ]
  },
  {
   "cell_type": "markdown",
   "id": "58531ef7",
   "metadata": {},
   "source": [
    "## Facet Grid"
   ]
  },
  {
   "cell_type": "code",
   "execution_count": null,
   "id": "23c21ec0",
   "metadata": {},
   "outputs": [],
   "source": [
    "p = sns.FacetGrid(df)"
   ]
  },
  {
   "cell_type": "code",
   "execution_count": null,
   "id": "c123e11f",
   "metadata": {},
   "outputs": [],
   "source": [
    "p = sns.FacetGrid(df, col = 'cut')\n",
    "\n",
    "# matplotlib will squeeze the 5 plots into the orginal size."
   ]
  },
  {
   "cell_type": "code",
   "execution_count": null,
   "id": "17f1bf82",
   "metadata": {},
   "outputs": [],
   "source": [
    "p = sns.FacetGrid(df, col = 'cut', height = 4, aspect = 0.75) \n",
    "# Aspect ratio of each facet, so that aspect * height gives the width of each facet."
   ]
  },
  {
   "cell_type": "code",
   "execution_count": null,
   "id": "fdb8a057",
   "metadata": {},
   "outputs": [],
   "source": [
    "p = sns.FacetGrid(df, col = 'cut', height = 4, aspect = 0.75, col_wrap = 3) \n",
    "# Aspect ratio of each facet, so that aspect * height gives the width of each facet."
   ]
  },
  {
   "cell_type": "markdown",
   "id": "2b6f9234",
   "metadata": {},
   "source": [
    " "
   ]
  },
  {
   "cell_type": "code",
   "execution_count": null,
   "id": "904d1335",
   "metadata": {},
   "outputs": [],
   "source": [
    "sns.set_style('white')\n",
    "penguins = sns.load_dataset(\"penguins\")"
   ]
  },
  {
   "cell_type": "code",
   "execution_count": null,
   "id": "24d6bf33",
   "metadata": {},
   "outputs": [],
   "source": [
    "p = sns.FacetGrid(penguins, col='island');"
   ]
  },
  {
   "cell_type": "code",
   "execution_count": null,
   "id": "bb154758",
   "metadata": {},
   "outputs": [],
   "source": [
    "type(p)"
   ]
  },
  {
   "cell_type": "code",
   "execution_count": null,
   "id": "8e1ff744",
   "metadata": {},
   "outputs": [],
   "source": [
    "p = sns.FacetGrid(penguins, row='island');"
   ]
  },
  {
   "cell_type": "markdown",
   "id": "9e587cd1",
   "metadata": {},
   "source": [
    "### .map()"
   ]
  },
  {
   "cell_type": "code",
   "execution_count": null,
   "id": "07c26442",
   "metadata": {},
   "outputs": [],
   "source": [
    "\n",
    "p = sns.FacetGrid(penguins, col='island')\n",
    "p.map(sns.histplot, \"flipper_length_mm\");"
   ]
  },
  {
   "cell_type": "markdown",
   "id": "087c74c7",
   "metadata": {},
   "source": [
    "### .map_dataframe()"
   ]
  },
  {
   "cell_type": "code",
   "execution_count": null,
   "id": "e12a45c0",
   "metadata": {},
   "outputs": [],
   "source": [
    "p = sns.FacetGrid(penguins, col='island')\n",
    "p.map_dataframe(sns.histplot, y='flipper_length_mm');"
   ]
  },
  {
   "cell_type": "code",
   "execution_count": null,
   "id": "b4d5e81d",
   "metadata": {},
   "outputs": [],
   "source": [
    "penguins.info()"
   ]
  },
  {
   "cell_type": "code",
   "execution_count": null,
   "id": "ab3727e9",
   "metadata": {},
   "outputs": [],
   "source": [
    "p = sns.FacetGrid(penguins, col='island', height = 6, aspect =1)\n",
    "p.map_dataframe(sns.scatterplot, x='bill_depth_mm', y='bill_length_mm');"
   ]
  },
  {
   "cell_type": "markdown",
   "id": "99615b38",
   "metadata": {},
   "source": [
    "### .set_axis_labels(),    .set_titles(),    sharey,    ylim"
   ]
  },
  {
   "cell_type": "code",
   "execution_count": null,
   "id": "f8c038f4",
   "metadata": {
    "scrolled": true
   },
   "outputs": [],
   "source": [
    "\n",
    "p = sns.FacetGrid(penguins, col='island', height = 6, aspect =1)\n",
    "p.map_dataframe(sns.scatterplot, x='bill_depth_mm', y='bill_length_mm');\n",
    "p.set_axis_labels('BILL DEPTH (mm)', 'BILL LENGTH (mm)'); # if the LABELS needs to be changed\n",
    "p.set_titles(col_template='{col_name} Island'); # if the TITLE needs to be changed"
   ]
  },
  {
   "cell_type": "code",
   "execution_count": null,
   "id": "6f575f84",
   "metadata": {},
   "outputs": [],
   "source": [
    "\n",
    "p = sns.FacetGrid(penguins, col='island', row='species', height = 4, aspect =1)\n",
    "p.map_dataframe(sns.scatterplot, x='bill_depth_mm', y='bill_length_mm')\n",
    "p.set_axis_labels('Bill Depth (mm)', 'Bill Length (mm)')\n",
    "p.set_titles(row_template='{row_name}', col_template='{col_name} Island');"
   ]
  },
  {
   "cell_type": "markdown",
   "id": "d2ed30e8",
   "metadata": {},
   "source": [
    "- sharey > False: the y-axis will not be shared and each plot will get its own y-axis.\n",
    "- ylim > Sets a specified range for all y-axes shown"
   ]
  },
  {
   "cell_type": "code",
   "execution_count": null,
   "id": "1c2b2b90",
   "metadata": {},
   "outputs": [],
   "source": [
    "p = sns.FacetGrid(penguins, col='island', height = 4, aspect =1, sharey=False)\n",
    "#p = sns.FacetGrid(penguins, col='island', height = 4, aspect =1, sharey=False, ylim=(20, 70))\n",
    "p.map_dataframe(sns.scatterplot, x='bill_depth_mm', y='bill_length_mm');\n",
    "p.set_axis_labels('BILL DEPTH (mm)', 'BILL LENGTH (mm)'); \n",
    "p.set_titles(col_template='{col_name} Island'); "
   ]
  },
  {
   "cell_type": "markdown",
   "id": "b671b34b",
   "metadata": {},
   "source": [
    " "
   ]
  },
  {
   "cell_type": "markdown",
   "id": "14da1e40",
   "metadata": {},
   "source": [
    "### hue & pallette"
   ]
  },
  {
   "cell_type": "code",
   "execution_count": null,
   "id": "870b0428",
   "metadata": {},
   "outputs": [],
   "source": [
    "p = sns.FacetGrid(penguins, col='island', height = 4, aspect =1, sharey=False, ylim=(20, 70), hue = 'species')\n",
    "p.map_dataframe(sns.scatterplot, x='bill_depth_mm', y='bill_length_mm');\n",
    "p.set_axis_labels('BILL DEPTH (mm)', 'BILL LENGTH (mm)'); \n",
    "p.set_titles(col_template='{col_name} Island'); "
   ]
  },
  {
   "cell_type": "markdown",
   "id": "631ef5ce",
   "metadata": {},
   "source": [
    "Note: If hue is placed inside the scatterplot"
   ]
  },
  {
   "cell_type": "code",
   "execution_count": null,
   "id": "2a8f1abd",
   "metadata": {},
   "outputs": [],
   "source": [
    "p = sns.FacetGrid(penguins, \n",
    "                  col='island', \n",
    "                  height = 4, \n",
    "                  aspect =1, \n",
    "                  sharey=False, \n",
    "                  ylim=(20, 70), \n",
    "                  hue = 'species',\n",
    "                  palette = 'magma')\n",
    "\n",
    "p.map_dataframe(sns.scatterplot, x='bill_depth_mm', y='bill_length_mm', marker = '+');\n",
    "p.set_axis_labels('BILL DEPTH (mm)', 'BILL LENGTH (mm)'); \n",
    "p.set_titles(col_template='{col_name} Island');"
   ]
  },
  {
   "cell_type": "markdown",
   "id": "7e731509",
   "metadata": {},
   "source": [
    " "
   ]
  },
  {
   "cell_type": "markdown",
   "id": "65e9df6b",
   "metadata": {},
   "source": [
    "## Multiple Views"
   ]
  },
  {
   "cell_type": "markdown",
   "id": "913ba412",
   "metadata": {},
   "source": [
    "### Jointplot"
   ]
  },
  {
   "cell_type": "code",
   "execution_count": null,
   "id": "9dd997be",
   "metadata": {},
   "outputs": [],
   "source": [
    "sns.set_style(\"ticks\")\n",
    "sns.jointplot(data = penguins, x=\"flipper_length_mm\", y=\"bill_length_mm\", hue=\"species\", height = 8 )"
   ]
  },
  {
   "cell_type": "code",
   "execution_count": null,
   "id": "800d5503",
   "metadata": {},
   "outputs": [],
   "source": [
    "sns.set_style(\"ticks\")\n",
    "sns.jointplot(data = penguins, x=\"flipper_length_mm\", y=\"bill_length_mm\", hue=\"species\", height = 8 )"
   ]
  },
  {
   "cell_type": "markdown",
   "id": "5af4621a",
   "metadata": {},
   "source": [
    "### Pairplot"
   ]
  },
  {
   "cell_type": "code",
   "execution_count": null,
   "id": "b40656e4",
   "metadata": {},
   "outputs": [],
   "source": [
    "sns.pairplot(data = df, hue = 'cut')"
   ]
  },
  {
   "cell_type": "code",
   "execution_count": null,
   "id": "e47697fe",
   "metadata": {},
   "outputs": [],
   "source": [
    "xyz = df.corr()\n",
    "xyz"
   ]
  },
  {
   "cell_type": "code",
   "execution_count": null,
   "id": "2266494c",
   "metadata": {},
   "outputs": [],
   "source": [
    "sns.heatmap(xyz, annot=False)"
   ]
  },
  {
   "cell_type": "code",
   "execution_count": null,
   "id": "54ff7958",
   "metadata": {},
   "outputs": [],
   "source": [
    "# Calculate correlations\n",
    "corr = df.corr()\n",
    "plt.figure(figsize=(12,8))\n",
    "plt.title('Quantitative Variables Correlation')\n",
    "\n",
    "# Heatmap\n",
    "sns.heatmap(corr,cmap='plasma',annot=True)"
   ]
  },
  {
   "cell_type": "code",
   "execution_count": null,
   "id": "dcf298db",
   "metadata": {},
   "outputs": [],
   "source": [
    "plt.figure(figsize=(12,8))\n",
    "corr = df.corr()\n",
    "ax = sns.heatmap(\n",
    "    corr,\n",
    "    vmin=-1, vmax=1, center=0,\n",
    "    cmap=sns.diverging_palette(20, 220, n=200),\n",
    "    square=True,\n",
    "    annot=True, annot_kws={\"size\":10}\n",
    ")\n",
    "ax.set_xticklabels(\n",
    "    ax.get_xticklabels(),\n",
    "    rotation=45,\n",
    "    horizontalalignment='right'\n",
    ");"
   ]
  },
  {
   "cell_type": "code",
   "execution_count": null,
   "id": "2634da4a",
   "metadata": {},
   "outputs": [],
   "source": [
    "plt.figure(figsize=(12,8))\n",
    "corr = df.corr()\n",
    "ax = sns.heatmap(\n",
    "    corr,\n",
    "    vmin=-1, vmax=1, center=0,\n",
    "    cmap=sns.diverging_palette(20, 220, n=200),\n",
    "    square=True,\n",
    "    annot=False, annot_kws={\"size\":20}\n",
    ")\n",
    "ax.set_xticklabels(\n",
    "    ax.get_xticklabels(),\n",
    "    rotation=45,\n",
    "    horizontalalignment='right'\n",
    ");"
   ]
  },
  {
   "cell_type": "markdown",
   "id": "0109aaab",
   "metadata": {},
   "source": [
    " "
   ]
  },
  {
   "cell_type": "markdown",
   "id": "e2e58513",
   "metadata": {},
   "source": [
    "## Seaborn Exercise 2 - 10 minutes"
   ]
  },
  {
   "cell_type": "markdown",
   "id": "45d01b0c",
   "metadata": {},
   "source": [
    "Using the flights info, create a visualization that plots - for each month - the number of passengers by year.  \n",
    "There should be one plot per month."
   ]
  },
  {
   "cell_type": "code",
   "execution_count": null,
   "id": "acac159b",
   "metadata": {},
   "outputs": [],
   "source": [
    "flights.info()"
   ]
  },
  {
   "cell_type": "code",
   "execution_count": null,
   "id": "03e049ea",
   "metadata": {},
   "outputs": [],
   "source": [
    "flights.head(20)"
   ]
  },
  {
   "cell_type": "code",
   "execution_count": null,
   "id": "f872461e",
   "metadata": {},
   "outputs": [],
   "source": [
    "flights.shape"
   ]
  },
  {
   "cell_type": "code",
   "execution_count": null,
   "id": "5e2dcbdc",
   "metadata": {},
   "outputs": [],
   "source": [
    "# Place solution here\n"
   ]
  },
  {
   "cell_type": "markdown",
   "id": "37fcfb96",
   "metadata": {},
   "source": [
    "## Seaborn Exercise 3 - 15 minutes\n",
    "\n",
    "The distplot below is quick 'one-liner' plot.\n",
    "Take a little more time to create an axes for each cut and the axes are one above the other.\n",
    "\n",
    "![before and after](images/snsEx3.png)\n"
   ]
  },
  {
   "cell_type": "code",
   "execution_count": null,
   "id": "3a55ab04",
   "metadata": {},
   "outputs": [],
   "source": [
    "sns.displot(data=df, x=\"price\", hue=\"cut\", kind = 'kde', rug = True)"
   ]
  },
  {
   "cell_type": "code",
   "execution_count": null,
   "id": "34851a4d",
   "metadata": {},
   "outputs": [],
   "source": [
    "# Place Exercise 3 solution here.\n",
    "\n",
    "# How do we get 5 separate plots?  How do we get each on a row?\n",
    "\n",
    "# https://towardsdatascience.com/sorry-but-sns-distplot-just-isnt-good-enough-this-is-though-ef2ddbf28078\n"
   ]
  }
 ],
 "metadata": {
  "kernelspec": {
   "display_name": "Python 3 (ipykernel)",
   "language": "python",
   "name": "python3"
  },
  "language_info": {
   "codemirror_mode": {
    "name": "ipython",
    "version": 3
   },
   "file_extension": ".py",
   "mimetype": "text/x-python",
   "name": "python",
   "nbconvert_exporter": "python",
   "pygments_lexer": "ipython3",
   "version": "3.9.13"
  },
  "toc": {
   "base_numbering": 1,
   "nav_menu": {},
   "number_sections": true,
   "sideBar": false,
   "skip_h1_title": false,
   "title_cell": "Table of Contents: Seaborn ",
   "title_sidebar": "",
   "toc_cell": true,
   "toc_position": {},
   "toc_section_display": false,
   "toc_window_display": false
  },
  "varInspector": {
   "cols": {
    "lenName": 16,
    "lenType": 16,
    "lenVar": 40
   },
   "kernels_config": {
    "python": {
     "delete_cmd_postfix": "",
     "delete_cmd_prefix": "del ",
     "library": "var_list.py",
     "varRefreshCmd": "print(var_dic_list())"
    },
    "r": {
     "delete_cmd_postfix": ") ",
     "delete_cmd_prefix": "rm(",
     "library": "var_list.r",
     "varRefreshCmd": "cat(var_dic_list()) "
    }
   },
   "types_to_exclude": [
    "module",
    "function",
    "builtin_function_or_method",
    "instance",
    "_Feature"
   ],
   "window_display": false
  }
 },
 "nbformat": 4,
 "nbformat_minor": 5
}
