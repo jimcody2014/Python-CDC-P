{
 "cells": [
  {
   "cell_type": "markdown",
   "id": "cb0a293a",
   "metadata": {},
   "source": [
    "# Copy to Drive\n",
    "\n",
    "- Before we begin, select 'Copy to Drive'.\n",
    "- This will create a copy of this notebook in your personal Google Drive.\n",
    "- It will be in a folder named 'Colab Notebooks.\n",
    "- After you save it, change the name.  Remove the 'Copy of' text."
   ]
  },
  {
   "cell_type": "markdown",
   "id": "99375bf3",
   "metadata": {},
   "source": [
    "# Jupyter Notebook Basics - The CoLab Version\n",
    "\n",
    "- add a row for code\n",
    "- add a row for markdown\n",
    "- delete a row\n",
    "- move up/down"
   ]
  },
  {
   "cell_type": "markdown",
   "id": "de631c0e",
   "metadata": {},
   "source": [
    "# Attach Your Google Drive\n",
    "\n",
    "You will have to do this everytime you open a notebook."
   ]
  },
  {
   "cell_type": "code",
   "execution_count": null,
   "id": "eb0b624d",
   "metadata": {},
   "outputs": [],
   "source": [
    "from google.colab import drive\n",
    "drive.mount('/content/drive')"
   ]
  },
  {
   "cell_type": "markdown",
   "id": "b407bc0d",
   "metadata": {},
   "source": [
    "### Upload outbreaks to your google drive\n",
    "- From within the notebook on CoLab:\n",
    "    - Drive > MyDrive > Press the three dots and select 'New Folder'\n",
    "    - Name the folder Intro\n",
    "    - Go to the Intro folder and upload **outbreaks2.csv**"
   ]
  },
  {
   "cell_type": "markdown",
   "id": "0249f9c5",
   "metadata": {},
   "source": [
    "# Read from your Google Drive"
   ]
  },
  {
   "cell_type": "code",
   "execution_count": null,
   "id": "ac112307",
   "metadata": {},
   "outputs": [],
   "source": [
    "import pandas as pd"
   ]
  },
  {
   "cell_type": "markdown",
   "id": "372758a1",
   "metadata": {},
   "source": [
    "In the files directory: \n",
    "- go to the file you want to load\n",
    "- click on the three dots and select 'Copy path'\n",
    "- paste the path into the read statement"
   ]
  },
  {
   "cell_type": "code",
   "execution_count": null,
   "id": "028d9af9",
   "metadata": {},
   "outputs": [],
   "source": [
    "vac = pd.read_csv('/content/drive/MyDrive/Intro/outbreaks2.csv')\n",
    "vac.head()"
   ]
  },
  {
   "cell_type": "markdown",
   "id": "694d4000",
   "metadata": {},
   "source": [
    "# Read from Github"
   ]
  },
  {
   "cell_type": "code",
   "execution_count": null,
   "id": "00cc79ea",
   "metadata": {},
   "outputs": [],
   "source": [
    "latuda = pd.read_csv('https://raw.githubusercontent.com/jimcody2014/python-data/main/latuda.csv')\n",
    "latuda.head()"
   ]
  },
  {
   "cell_type": "markdown",
   "id": "4a57b68d",
   "metadata": {},
   "source": [
    "# Read from an API"
   ]
  },
  {
   "cell_type": "code",
   "execution_count": null,
   "id": "d32a3595",
   "metadata": {},
   "outputs": [],
   "source": [
    "import requests"
   ]
  },
  {
   "cell_type": "code",
   "execution_count": null,
   "id": "6c3ae7af",
   "metadata": {},
   "outputs": [],
   "source": [
    "# Send the request and receive a response\n",
    "# Get the content of the response (there are other parts of the response (e.g., header))\n",
    "# Display the content in json format\n",
    "\n",
    "response = requests.get(\"https://data.cdc.gov/resource/saz5-9hgg.json\")\n",
    "jsonhold = response.json()\n",
    "jsonhold\n"
   ]
  },
  {
   "cell_type": "code",
   "execution_count": null,
   "id": "7bd39b76",
   "metadata": {},
   "outputs": [],
   "source": [
    "# Put the content into a DataFrame\n",
    "# Display the DataFrame\n",
    "\n",
    "vaccines = pd.DataFrame(jsonhold)\n",
    "vaccines"
   ]
  },
  {
   "cell_type": "markdown",
   "id": "fe4fa97e",
   "metadata": {},
   "source": [
    "# Dataframes\n",
    "\n"
   ]
  },
  {
   "cell_type": "markdown",
   "id": "f027b7f8",
   "metadata": {},
   "source": [
    "**DataFrame** is a 2-dimensional labeled data structure with columns of potentially different types. You can think of it like a spreadsheet or SQL table, or a dict of Series objects. It is generally the most commonly used pandas object. "
   ]
  },
  {
   "cell_type": "markdown",
   "id": "a1f62023",
   "metadata": {},
   "source": [
    "### Using the DataFrame index"
   ]
  },
  {
   "cell_type": "code",
   "execution_count": null,
   "id": "c611e13b",
   "metadata": {},
   "outputs": [],
   "source": [
    "# Making a copy of latuda and naming it df\n",
    "df = latuda"
   ]
  },
  {
   "cell_type": "code",
   "execution_count": null,
   "id": "581a345b",
   "metadata": {},
   "outputs": [],
   "source": [
    "df"
   ]
  },
  {
   "cell_type": "code",
   "execution_count": null,
   "id": "a85ab75f",
   "metadata": {},
   "outputs": [],
   "source": [
    "# Select a column\n",
    "df['date']"
   ]
  },
  {
   "cell_type": "code",
   "execution_count": null,
   "id": "d1c0fcf2",
   "metadata": {},
   "outputs": [],
   "source": [
    "# Select a column\n",
    "df.date"
   ]
  },
  {
   "cell_type": "code",
   "execution_count": null,
   "id": "95059d3d",
   "metadata": {},
   "outputs": [],
   "source": [
    "# Select multiple columns\n",
    "df[['rating','date']]            # Outer brackets: [ expecting an arguement] inner brackets: passing in a list ['a','b']"
   ]
  },
  {
   "cell_type": "code",
   "execution_count": null,
   "id": "323dbf29",
   "metadata": {},
   "outputs": [],
   "source": [
    "df.iloc[0]"
   ]
  },
  {
   "cell_type": "code",
   "execution_count": null,
   "id": "4b013b02",
   "metadata": {},
   "outputs": [],
   "source": [
    "df.iloc[1:3]"
   ]
  },
  {
   "cell_type": "code",
   "execution_count": null,
   "id": "2c71c0f1",
   "metadata": {},
   "outputs": [],
   "source": [
    "df.iloc[1:3,0:3]"
   ]
  },
  {
   "cell_type": "code",
   "execution_count": null,
   "id": "73310d50",
   "metadata": {},
   "outputs": [],
   "source": [
    "# What is the syntax required to get the review in the third row?"
   ]
  },
  {
   "cell_type": "markdown",
   "id": "9a82d45b",
   "metadata": {},
   "source": [
    "# Save this notebook to Google Drive\n",
    "\n",
    "The notebook will be placed in a folder named Colab Notebooks"
   ]
  }
 ],
 "metadata": {
  "kernelspec": {
   "display_name": "Python 3 (ipykernel)",
   "language": "python",
   "name": "python3"
  },
  "language_info": {
   "codemirror_mode": {
    "name": "ipython",
    "version": 3
   },
   "file_extension": ".py",
   "mimetype": "text/x-python",
   "name": "python",
   "nbconvert_exporter": "python",
   "pygments_lexer": "ipython3",
   "version": "3.9.13"
  },
  "toc": {
   "base_numbering": 1,
   "nav_menu": {},
   "number_sections": false,
   "sideBar": false,
   "skip_h1_title": false,
   "title_cell": "Table of Contents",
   "title_sidebar": "Contents",
   "toc_cell": false,
   "toc_position": {},
   "toc_section_display": false,
   "toc_window_display": false
  },
  "varInspector": {
   "cols": {
    "lenName": 16,
    "lenType": 16,
    "lenVar": 40
   },
   "kernels_config": {
    "python": {
     "delete_cmd_postfix": "",
     "delete_cmd_prefix": "del ",
     "library": "var_list.py",
     "varRefreshCmd": "print(var_dic_list())"
    },
    "r": {
     "delete_cmd_postfix": ") ",
     "delete_cmd_prefix": "rm(",
     "library": "var_list.r",
     "varRefreshCmd": "cat(var_dic_list()) "
    }
   },
   "types_to_exclude": [
    "module",
    "function",
    "builtin_function_or_method",
    "instance",
    "_Feature"
   ],
   "window_display": false
  }
 },
 "nbformat": 4,
 "nbformat_minor": 5
}
