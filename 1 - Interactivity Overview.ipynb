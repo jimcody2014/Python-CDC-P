{
 "cells": [
  {
   "cell_type": "markdown",
   "id": "3ad4c9e6",
   "metadata": {
    "toc": true
   },
   "source": [
    "<h1>Table of Contents: ggplot &amp; Altair<span class=\"tocSkip\"></span></h1>\n",
    "<div class=\"toc\"><ul class=\"toc-item\"><li><span><a href=\"#'In'-plot-interactivity-using-Altair\" data-toc-modified-id=\"'In'-plot-interactivity-using-Altair-1\"><span class=\"toc-item-num\">1&nbsp;&nbsp;</span>'In' plot interactivity using Altair</a></span></li><li><span><a href=\"#Ipywidgets-and-Seaborn\" data-toc-modified-id=\"Ipywidgets-and-Seaborn-2\"><span class=\"toc-item-num\">2&nbsp;&nbsp;</span>Ipywidgets and Seaborn</a></span><ul class=\"toc-item\"><li><span><a href=\"#The-widget-list\" data-toc-modified-id=\"The-widget-list-2.1\"><span class=\"toc-item-num\">2.1&nbsp;&nbsp;</span>The widget list</a></span></li></ul></li><li><span><a href=\"#Dashboard\" data-toc-modified-id=\"Dashboard-3\"><span class=\"toc-item-num\">3&nbsp;&nbsp;</span>Dashboard</a></span></li></ul></div>"
   ]
  },
  {
   "cell_type": "markdown",
   "id": "f4479550",
   "metadata": {},
   "source": [
    "# 'In' plot interactivity using Altair"
   ]
  },
  {
   "cell_type": "code",
   "execution_count": null,
   "id": "647645a0",
   "metadata": {},
   "outputs": [],
   "source": [
    "import altair as alt\n",
    "from plotnine.data import midwest"
   ]
  },
  {
   "cell_type": "code",
   "execution_count": null,
   "id": "8dcc906f",
   "metadata": {},
   "outputs": [],
   "source": [
    "IL = midwest[midwest['state'] == 'IL']"
   ]
  },
  {
   "cell_type": "code",
   "execution_count": null,
   "id": "997f6686",
   "metadata": {},
   "outputs": [],
   "source": [
    "alt.Chart(IL).mark_point(filled=True).encode(\n",
    "    alt.X('percollege'), # percent college\n",
    "    alt.Y('percprof'),  # percent professional\n",
    "    alt.Size('poptotal'),\n",
    "    alt.Color('popdensity'),\n",
    "    alt.OpacityValue(0.7),\n",
    "        tooltip = [alt.Tooltip('county'),\n",
    "               alt.Tooltip('percwhite'),\n",
    "               alt.Tooltip('percblack'),\n",
    "               alt.Tooltip('percother')\n",
    "              ]\n",
    ")"
   ]
  },
  {
   "cell_type": "code",
   "execution_count": null,
   "id": "21c255b0",
   "metadata": {},
   "outputs": [],
   "source": [
    "x =alt.Chart(IL).mark_point(filled=True).encode(\n",
    "    alt.X('percollege'), # percent college\n",
    "    alt.Y('percprof'),  # percent professional\n",
    "    alt.Size('poptotal'),\n",
    "    alt.Color('popdensity'),\n",
    "    alt.OpacityValue(0.7),\n",
    "        tooltip = [alt.Tooltip('county'),\n",
    "               alt.Tooltip('percwhite'),\n",
    "               alt.Tooltip('percblack'),\n",
    "               alt.Tooltip('percother')\n",
    "              ]\n",
    ").interactive()\n",
    "\n",
    "x"
   ]
  },
  {
   "cell_type": "markdown",
   "id": "ad5f24c4",
   "metadata": {},
   "source": [
    "# Ipywidgets and Seaborn"
   ]
  },
  {
   "cell_type": "code",
   "execution_count": null,
   "id": "68908492",
   "metadata": {},
   "outputs": [],
   "source": [
    "import ipywidgets as widgets"
   ]
  },
  {
   "cell_type": "code",
   "execution_count": null,
   "id": "8fc28a7f",
   "metadata": {},
   "outputs": [],
   "source": [
    "widgets.IntSlider()"
   ]
  },
  {
   "cell_type": "code",
   "execution_count": null,
   "id": "a1215bdd",
   "metadata": {},
   "outputs": [],
   "source": [
    "w = widgets.IntSlider()"
   ]
  },
  {
   "cell_type": "code",
   "execution_count": null,
   "id": "4f966c54",
   "metadata": {},
   "outputs": [],
   "source": [
    "from IPython.display import display"
   ]
  },
  {
   "cell_type": "code",
   "execution_count": null,
   "id": "ffb65106",
   "metadata": {},
   "outputs": [],
   "source": [
    "display(w)"
   ]
  },
  {
   "cell_type": "code",
   "execution_count": null,
   "id": "8c1b926d",
   "metadata": {},
   "outputs": [],
   "source": [
    "# Widgets have properties\n",
    "w.value"
   ]
  },
  {
   "cell_type": "code",
   "execution_count": null,
   "id": "726bd781",
   "metadata": {},
   "outputs": [],
   "source": [
    "widgets.IntSlider(step=2, description='Number: ')"
   ]
  },
  {
   "cell_type": "code",
   "execution_count": null,
   "id": "c72a0c03",
   "metadata": {},
   "outputs": [],
   "source": [
    "import pandas as pd\n",
    "import seaborn as sns\n",
    "from matplotlib import pyplot as plt\n",
    "\n",
    "data = {\n",
    "    'apples': [32, 22, 20, 31,33,43,21,56,23,43], \n",
    "    'oranges': [0, 3, 7, 2,5,7,5,9,8,2]\n",
    "}\n",
    "sales = pd.DataFrame(data)\n",
    "\n",
    "\n",
    "def bandwidth_widget(bw=1):\n",
    "    sns.kdeplot(sales.apples, lw=3, fill=True, bw_adjust=bw)\n",
    "    plt.xlim(0, 60)\n",
    "    plt.ylim(0, 0.07);"
   ]
  },
  {
   "cell_type": "code",
   "execution_count": null,
   "id": "2623ecbf",
   "metadata": {},
   "outputs": [],
   "source": [
    "# .interact automatically creates user interface (UI) controls for exploring code \n",
    "# and data interactively. It is the easiest way to get started using IPython’s widgets.\n",
    "# https://ipywidgets.readthedocs.io/en/latest/examples/Using%20Interact.html?highlight=interact#Basic-interact\n",
    "\n",
    "widgets.interact(bandwidth_widget, bw=(.1, 3));"
   ]
  },
  {
   "cell_type": "code",
   "execution_count": null,
   "id": "7d338d7e",
   "metadata": {},
   "outputs": [],
   "source": [
    "def kde_widget(fill=True, color='blue'):\n",
    "    sns.kdeplot(sales.apples, color=color, lw=3, fill=fill)\n",
    "    plt.xlim(0, 60)\n",
    "    plt.ylim(0, 0.04);"
   ]
  },
  {
   "cell_type": "code",
   "execution_count": null,
   "id": "09d1b26e",
   "metadata": {},
   "outputs": [],
   "source": [
    "widgets.interact(kde_widget, \n",
    "                 fill=True,\n",
    "                 color=['blue', 'red', 'green', 'orange']\n",
    "                 );"
   ]
  },
  {
   "cell_type": "markdown",
   "id": "1f777821",
   "metadata": {},
   "source": [
    "## The widget list\n",
    "\n",
    "https://ipywidgets.readthedocs.io/en/latest/examples/Widget%20List.html"
   ]
  },
  {
   "cell_type": "markdown",
   "id": "967db953",
   "metadata": {},
   "source": [
    "# Dashboard \n",
    "\n",
    "This dashboard is run 'inline' meaning is output is included as part of the notebook.  Access to an external server is required to run 'external'.\n"
   ]
  },
  {
   "cell_type": "code",
   "execution_count": null,
   "id": "22aa3a0b",
   "metadata": {},
   "outputs": [],
   "source": [
    "#!pip install jupyter-dash"
   ]
  },
  {
   "cell_type": "code",
   "execution_count": null,
   "id": "5a4dc2c5",
   "metadata": {},
   "outputs": [],
   "source": [
    "# Uses a slider to control the year of the chart\n",
    "from jupyter_dash import JupyterDash \n",
    "from dash.dependencies import Output, Input\n",
    "from dash import no_update\n",
    "from dash import dcc   \n",
    "from dash import html\n",
    "\n",
    "\n",
    "import pandas as pd \n",
    "import plotly.graph_objects as go\n",
    "import plotly.express as px\n",
    "\n",
    "diabetes = pd.read_csv('https://bitbucket.org/jimcody/sampledata/raw/b2aa6df015816ec35afc482b53df1b7ca7a31f80/diabetes_for_plotly.csv')\n",
    "diabetes['gender'] = diabetes['gender'].replace({'M':'Male', 'Mle':'Male', 'F':'Female', \n",
    "                                                 'female':'Female', 'male':'Male', \n",
    "                                                 '?':'Female', 'Unknown/Invalid':'Female'})\n",
    "\n",
    "d_month = diabetes.groupby(['year','month']).sum().reset_index()\n",
    "d_month = d_month.sort_values(['year','month'])\n",
    "\n",
    "fig5 = px.line(d_month,x='month', y='num_medications')\n",
    "\n",
    "####### Build the App. ##################\n",
    "app = JupyterDash(__name__) \n",
    "\n",
    "app.layout = html.Div([\n",
    "    dcc.Graph(id='x', figure = fig5),\n",
    "    dcc.Slider(\n",
    "        id='year-slider',\n",
    "        min=d_month['year'].min(),\n",
    "        max=d_month['year'].max(),\n",
    "        value=d_month['year'].min(),\n",
    "        marks={str(year): str(year) for year in d_month['year'].unique()},\n",
    "        step=None\n",
    "    )\n",
    "])\n",
    "@app.callback(\n",
    "    Output('x', 'figure'),\n",
    "    Input('year-slider', 'value'))\n",
    "\n",
    "def update_figure(selected_year):\n",
    "    d_year = d_month[d_month.year == selected_year]\n",
    "    \n",
    "    fig5 = px.line(d_year,x='month', y='num_medications')\n",
    "\n",
    "\n",
    "    fig5.update_layout(transition_duration=500)\n",
    "\n",
    "    return fig5\n",
    "\n",
    "app.run_server(mode='inline')"
   ]
  },
  {
   "cell_type": "code",
   "execution_count": null,
   "id": "fe404646",
   "metadata": {},
   "outputs": [],
   "source": []
  },
  {
   "cell_type": "code",
   "execution_count": null,
   "id": "cbfc90c6",
   "metadata": {},
   "outputs": [],
   "source": []
  },
  {
   "cell_type": "code",
   "execution_count": null,
   "id": "ccb2f4e1",
   "metadata": {},
   "outputs": [],
   "source": []
  }
 ],
 "metadata": {
  "kernelspec": {
   "display_name": "Python 3 (ipykernel)",
   "language": "python",
   "name": "python3"
  },
  "language_info": {
   "codemirror_mode": {
    "name": "ipython",
    "version": 3
   },
   "file_extension": ".py",
   "mimetype": "text/x-python",
   "name": "python",
   "nbconvert_exporter": "python",
   "pygments_lexer": "ipython3",
   "version": "3.10.9"
  },
  "toc": {
   "base_numbering": 1,
   "nav_menu": {},
   "number_sections": true,
   "sideBar": false,
   "skip_h1_title": false,
   "title_cell": "Table of Contents: ggplot & Altair",
   "title_sidebar": "",
   "toc_cell": true,
   "toc_position": {},
   "toc_section_display": false,
   "toc_window_display": false
  },
  "varInspector": {
   "cols": {
    "lenName": 16,
    "lenType": 16,
    "lenVar": 40
   },
   "kernels_config": {
    "python": {
     "delete_cmd_postfix": "",
     "delete_cmd_prefix": "del ",
     "library": "var_list.py",
     "varRefreshCmd": "print(var_dic_list())"
    },
    "r": {
     "delete_cmd_postfix": ") ",
     "delete_cmd_prefix": "rm(",
     "library": "var_list.r",
     "varRefreshCmd": "cat(var_dic_list()) "
    }
   },
   "types_to_exclude": [
    "module",
    "function",
    "builtin_function_or_method",
    "instance",
    "_Feature"
   ],
   "window_display": false
  }
 },
 "nbformat": 4,
 "nbformat_minor": 5
}
