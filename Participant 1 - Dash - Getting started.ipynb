{
 "cells": [
  {
   "cell_type": "markdown",
   "id": "dbf927c8",
   "metadata": {},
   "source": [
    "# What is Dash?\n",
    "\n",
    "- Dash is a 'low-code' framework (set of tools and procedures) for building dashboard applications using Python, Julia or R.\n",
    "- It is tightly integrated with plotly, the data visualization library.\n",
    "- The dashboard can be rendered as part of the Jupyter notebook, in an HTML file on a local machine or as an HTML file on a web server."
   ]
  },
  {
   "cell_type": "markdown",
   "id": "729260aa",
   "metadata": {},
   "source": [
    "# Building blocks\n"
   ]
  },
  {
   "cell_type": "markdown",
   "id": "f1e029ea",
   "metadata": {},
   "source": [
    "# Layouts and Callbacks\n",
    "- Dash apps are composed of two parts. \n",
    "- The first part is the \"layout\" of the app and it describes what the application looks like.  \n",
    "- Callbacks, the second part, describes the interactivity of the application"
   ]
  },
  {
   "cell_type": "markdown",
   "id": "72a81ccc",
   "metadata": {},
   "source": [
    "# HTML components and dash core components\n",
    "- HTML components are the dash equivalant of html tags\n",
    "- Core components (dcc) are graphs, markdown blocks and interactivity components like sliders, dropdowns, etc."
   ]
  },
  {
   "cell_type": "code",
   "execution_count": null,
   "id": "a3e1a408",
   "metadata": {},
   "outputs": [],
   "source": [
    "# The general structure of a very simple dashboard application.\n",
    "\n",
    "\n",
    "imports .....\n",
    "\n",
    "get the data....\n",
    "\n",
    "create a figure(plot)...\n",
    "\n",
    "app = JupyterDash(__name__)     # This is the start of the application\n",
    "\n",
    "\n",
    "app.layout = html.Div(         # Describe what the page will look like                \n",
    "    \n",
    "    layout code\n",
    "    \n",
    "    dcc.Graph()                 # What plot will be included\n",
    "    \n",
    ")\n",
    "\n",
    "app.run_server(mode='inline')   # .run_server() is the method to run the code"
   ]
  },
  {
   "cell_type": "markdown",
   "id": "e2f8220f",
   "metadata": {},
   "source": [
    "# A very simple dashboard app"
   ]
  },
  {
   "cell_type": "markdown",
   "id": "2b8f11a1",
   "metadata": {},
   "source": [
    "The pip install below is only required because we are running in the Google CoLab environment. \n",
    "\n",
    "Remove the hashtag (#) to uncomment the line."
   ]
  },
  {
   "cell_type": "code",
   "execution_count": null,
   "id": "e4b524dd",
   "metadata": {},
   "outputs": [],
   "source": [
    "# The general structure of a dashboard application:\n",
    "\n",
    "imports .....\n",
    "\n",
    "app = JupyterDash(__name__)     # This is the start of the application\n",
    "\n",
    "get the data....\n",
    "\n",
    "create a figure(plot)...\n",
    "\n",
    "app.layout =                    # Describe what the page will look like\n",
    "    \n",
    "    layout code\n",
    "    \n",
    "    dcc.Graph()                 # What plot will be included\n",
    "\n",
    "@app.callback(\n",
    "    what are the inputs?\n",
    "    what are the outputs? \n",
    "\n",
    "    resusable component )       # This processes the input and creates the output\n",
    "   \n",
    "app.run_server(mode='inline')   # .run_server() is the method to run the code\n",
    "\n",
    "\n",
    "\n"
   ]
  },
  {
   "cell_type": "markdown",
   "id": "466950d2",
   "metadata": {},
   "source": [
    "# Layout example"
   ]
  },
  {
   "cell_type": "code",
   "execution_count": null,
   "id": "2986841e",
   "metadata": {},
   "outputs": [],
   "source": [
    "#!pip install jupyter-dash  "
   ]
  },
  {
   "cell_type": "code",
   "execution_count": null,
   "id": "c32e172b",
   "metadata": {},
   "outputs": [],
   "source": [
    "from jupyter_dash import JupyterDash  \n",
    "from dash.dependencies import Output, Input\n",
    "from dash import no_update\n",
    "from dash import dcc\n",
    "from dash import html                       \n",
    "\n",
    "import pandas as pd \n",
    "import plotly.graph_objects as go\n",
    "import plotly.express as px\n",
    "import math\n",
    "\n",
    "ob = pd.read_csv('https://bitbucket.org/jimcody/sampledata/raw/d29f529308d4e8332491341fed135dc9cc5ca0df/outbreaks-dashboard.csv')\n",
    "ob_month = ob.groupby('Month')[['Illnesses','Hospitalizations', 'Fatalities']].sum().reset_index()\n",
    "oby = ob.groupby('Year')[['Illnesses','Hospitalizations', 'Fatalities']].sum().reset_index()\n",
    "obs = ob.groupby('State')[['Illnesses','Hospitalizations', 'Fatalities']].sum().reset_index()\n",
    "\n",
    "\n",
    "# Create an empty figure here \n",
    "fig = go.Figure()\n",
    "\n",
    "app = JupyterDash(__name__) \n",
    "\n",
    "# Layout the dashboard\n",
    "\n",
    "# app.layout - html.Div( something goes in the .Div )\n",
    "# app.layout - html.Div( [sometimes a list of things go into the .Div] )\n",
    "# app.layout - html.Div( [sometimes other .Divs go in the .Div] )\n",
    "\n",
    "app.layout = html.Div([       # passing in a list of 'things' to Div\n",
    "    html.H1('Hello Jim'),     # This line generates <h1>Hello Jim</h1>\n",
    "\n",
    "    html.Div('''\n",
    "        An Empty Dashboard\n",
    "    '''),\n",
    "\n",
    "    dcc.Graph(\n",
    "        id='example-graph',\n",
    "        figure=fig\n",
    "    )\n",
    "])\n",
    "app.run_server(mode='inline')\n",
    "#app.run_server(mode='external', port = 8060)"
   ]
  },
  {
   "cell_type": "markdown",
   "id": "5756a6c8",
   "metadata": {},
   "source": [
    "# Callback example"
   ]
  },
  {
   "cell_type": "code",
   "execution_count": null,
   "id": "ec674959",
   "metadata": {},
   "outputs": [],
   "source": [
    "# An example of a callback from documentation\n",
    "# Just changes the text that appears - no plotting\n",
    "\n",
    "from jupyter_dash import JupyterDash  \n",
    "from dash.dependencies import Output, Input\n",
    "from dash import dcc\n",
    "from dash import html                       \n",
    "\n",
    "app = JupyterDash(__name__) \n",
    "\n",
    "app.layout = html.Div([\n",
    "    html.H6(\"Change the value in the text box to see callbacks in action!\"),\n",
    "    html.Div([\n",
    "        \"Input: \",\n",
    "        dcc.Input(id='my-input', value='initial value', type='text')\n",
    "    ]),\n",
    "    html.Br(),\n",
    "    html.Div(id='my-output'),\n",
    "\n",
    "])\n",
    "\n",
    "\n",
    "@app.callback(\n",
    "    Output(component_id='my-output', component_property='children'),\n",
    "    Input(component_id='my-input', component_property='value')\n",
    ")\n",
    "def update_output_div(input_value):\n",
    "    return 'Output: {}'.format(input_value)\n",
    "\n",
    "app.run_server(mode='inline')\n",
    "#app.run_server(mode='external', port = 8071)"
   ]
  },
  {
   "cell_type": "markdown",
   "id": "c3d42269",
   "metadata": {},
   "source": [
    "# Building a simple dashboard (Walkthrough 1)\n",
    "\n",
    "- Read in diabetes data\n",
    "- Create a dashboard that displays a bar chart the total number of lab procedures by month\n",
    "- Add a dropdown to select data for a single year"
   ]
  },
  {
   "cell_type": "code",
   "execution_count": null,
   "id": "5d0db8e4",
   "metadata": {},
   "outputs": [],
   "source": []
  }
 ],
 "metadata": {
  "kernelspec": {
   "display_name": "Python 3 (ipykernel)",
   "language": "python",
   "name": "python3"
  },
  "language_info": {
   "codemirror_mode": {
    "name": "ipython",
    "version": 3
   },
   "file_extension": ".py",
   "mimetype": "text/x-python",
   "name": "python",
   "nbconvert_exporter": "python",
   "pygments_lexer": "ipython3",
   "version": "3.9.12"
  }
 },
 "nbformat": 4,
 "nbformat_minor": 5
}
